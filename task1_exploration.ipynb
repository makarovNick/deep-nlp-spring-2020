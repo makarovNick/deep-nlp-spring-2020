{
 "cells": [
  {
   "cell_type": "markdown",
   "metadata": {},
   "source": [
    "Credit to CS224n"
   ]
  },
  {
   "cell_type": "markdown",
   "metadata": {},
   "source": [
    "# Assignment 1.1: Exploring Word Vectors (25 Points)"
   ]
  },
  {
   "cell_type": "code",
   "execution_count": 1,
   "metadata": {},
   "outputs": [
    {
     "name": "stderr",
     "output_type": "stream",
     "text": [
      "[nltk_data] Downloading package reuters to /home/nmakarov/nltk_data...\n",
      "[nltk_data]   Package reuters is already up-to-date!\n"
     ]
    }
   ],
   "source": [
    "# All Import Statements Defined Here\n",
    "# Note: Do not add to this list.\n",
    "# All the dependencies you need, can be installed by running .\n",
    "# ----------------\n",
    "\n",
    "import sys\n",
    "assert sys.version_info[0]==3\n",
    "assert sys.version_info[1] >= 5\n",
    "\n",
    "from gensim.models import KeyedVectors\n",
    "from gensim.test.utils import datapath\n",
    "import pprint\n",
    "import matplotlib.pyplot as plt\n",
    "plt.rcParams['figure.figsize'] = [10, 5]\n",
    "import nltk\n",
    "nltk.download('reuters')\n",
    "from nltk.corpus import reuters\n",
    "import numpy as np\n",
    "import random\n",
    "import scipy as sp\n",
    "from sklearn.decomposition import TruncatedSVD\n",
    "from sklearn.decomposition import PCA\n",
    "\n",
    "START_TOKEN = '<START>'\n",
    "END_TOKEN = '<END>'\n",
    "\n",
    "np.random.seed(0)\n",
    "random.seed(0)\n",
    "# ----------------"
   ]
  },
  {
   "cell_type": "markdown",
   "metadata": {},
   "source": [
    "## Word Vectors\n",
    "\n",
    "Word Vectors are often used as a fundamental component for downstream NLP tasks, e.g. question answering, text generation, translation, etc., so it is important to build some intuitions as to their strengths and weaknesses. Here, you will explore two types of word vectors: those derived from *co-occurrence matrices*, and those derived via *word2vec*. \n",
    "\n",
    "**Note on Terminology:** The terms \"word vectors\" and \"word embeddings\" are often used interchangeably. The term \"embedding\" refers to the fact that we are encoding aspects of a word's meaning in a lower dimensional space. As [Wikipedia](https://en.wikipedia.org/wiki/Word_embedding) states, \"*conceptually it involves a mathematical embedding from a space with one dimension per word to a continuous vector space with a much lower dimension*\"."
   ]
  },
  {
   "cell_type": "markdown",
   "metadata": {},
   "source": [
    "## Part 1: Count-Based Word Vectors (10 points)\n",
    "\n",
    "Most word vector models start from the following idea:\n",
    "\n",
    "*You shall know a word by the company it keeps ([Firth, J. R. 1957:11](https://en.wikipedia.org/wiki/John_Rupert_Firth))*\n",
    "\n",
    "Many word vector implementations are driven by the idea that similar words, i.e., (near) synonyms, will be used in similar contexts. As a result, similar words will often be spoken or written along with a shared subset of words, i.e., contexts. By examining these contexts, we can try to develop embeddings for our words. With this intuition in mind, many \"old school\" approaches to constructing word vectors relied on word counts. Here we elaborate upon one of those strategies, *co-occurrence matrices* (for more information, see [here](http://web.stanford.edu/class/cs124/lec/vectorsemantics.video.pdf) or [here](https://medium.com/data-science-group-iitr/word-embedding-2d05d270b285))."
   ]
  },
  {
   "cell_type": "markdown",
   "metadata": {},
   "source": [
    "### Co-Occurrence\n",
    "\n",
    "A co-occurrence matrix counts how often things co-occur in some environment. Given some word $w_i$ occurring in the document, we consider the *context window* surrounding $w_i$. Supposing our fixed window size is $n$, then this is the $n$ preceding and $n$ subsequent words in that document, i.e. words $w_{i-n} \\dots w_{i-1}$ and $w_{i+1} \\dots w_{i+n}$. We build a *co-occurrence matrix* $M$, which is a symmetric word-by-word matrix in which $M_{ij}$ is the number of times $w_j$ appears inside $w_i$'s window.\n",
    "\n",
    "**Example: Co-Occurrence with Fixed Window of n=1**:\n",
    "\n",
    "Document 1: \"all that glitters is not gold\"\n",
    "\n",
    "Document 2: \"all is well that ends well\"\n",
    "\n",
    "\n",
    "|     *    | START | all | that | glitters | is   | not  | gold  | well | ends | END |\n",
    "|----------|-------|-----|------|----------|------|------|-------|------|------|-----|\n",
    "| START    | 0     | 2   | 0    | 0        | 0    | 0    | 0     | 0    | 0    | 0   |\n",
    "| all      | 2     | 0   | 1    | 0        | 1    | 0    | 0     | 0    | 0    | 0   |\n",
    "| that     | 0     | 1   | 0    | 1        | 0    | 0    | 0     | 1    | 1    | 0   |\n",
    "| glitters | 0     | 0   | 1    | 0        | 1    | 0    | 0     | 0    | 0    | 0   |\n",
    "| is       | 0     | 1   | 0    | 1        | 0    | 1    | 0     | 1    | 0    | 0   |\n",
    "| not      | 0     | 0   | 0    | 0        | 1    | 0    | 1     | 0    | 0    | 0   |\n",
    "| gold     | 0     | 0   | 0    | 0        | 0    | 1    | 0     | 0    | 0    | 1   |\n",
    "| well     | 0     | 0   | 1    | 0        | 1    | 0    | 0     | 0    | 1    | 1   |\n",
    "| ends     | 0     | 0   | 1    | 0        | 0    | 0    | 0     | 1    | 0    | 0   |\n",
    "| END      | 0     | 0   | 0    | 0        | 0    | 0    | 1     | 1    | 0    | 0   |\n",
    "\n",
    "**Note:** In NLP, we often add START and END tokens to represent the beginning and end of sentences, paragraphs or documents. In thise case we imagine START and END tokens encapsulating each document, e.g., \"START All that glitters is not gold END\", and include these tokens in our co-occurrence counts.\n",
    "\n",
    "The rows (or columns) of this matrix provide one type of word vectors (those based on word-word co-occurrence), but the vectors will be large in general (linear in the number of distinct words in a corpus). Thus, our next step is to run *dimensionality reduction*. In particular, we will run *SVD (Singular Value Decomposition)*, which is a kind of generalized *PCA (Principal Components Analysis)* to select the top $k$ principal components. Here's a visualization of dimensionality reduction with SVD. In this picture our co-occurrence matrix is $A$ with $n$ rows corresponding to $n$ words. We obtain a full matrix decomposition, with the singular values ordered in the diagonal $S$ matrix, and our new, shorter length-$k$ word vectors in $U_k$.\n",
    "\n",
    "![Picture of an SVD](imgs/svd.png \"SVD\")\n",
    "\n",
    "This reduced-dimensionality co-occurrence representation preserves semantic relationships between words, e.g. *doctor* and *hospital* will be closer than *doctor* and *dog*. \n",
    "\n",
    "**Notes:** If you can barely remember what an eigenvalue is, here's [a slow, friendly introduction to SVD](https://davetang.org/file/Singular_Value_Decomposition_Tutorial.pdf). If you want to learn more thoroughly about PCA or SVD, feel free to check out lectures [7](https://web.stanford.edu/class/cs168/l/l7.pdf), [8](http://theory.stanford.edu/~tim/s15/l/l8.pdf), and [9](https://web.stanford.edu/class/cs168/l/l9.pdf) of CS168. These course notes provide a great high-level treatment of these general purpose algorithms. Though, for the purpose of this class, you only need to know how to extract the k-dimensional embeddings by utilizing pre-programmed implementations of these algorithms from the numpy, scipy, or sklearn python packages. In practice, it is challenging to apply full SVD to large corpora because of the memory needed to perform PCA or SVD. However, if you only want the top $k$ vector components for relatively small $k$ — known as *[Truncated SVD](https://en.wikipedia.org/wiki/Singular_value_decomposition#Truncated_SVD)* — then there are reasonably scalable techniques to compute those iteratively."
   ]
  },
  {
   "cell_type": "markdown",
   "metadata": {},
   "source": [
    "### Plotting Co-Occurrence Word Embeddings\n",
    "\n",
    "Here, we will be using the Reuters (business and financial news) corpus. If you haven't run the import cell at the top of this page, please run it now (click it and press SHIFT-RETURN). The corpus consists of 10,788 news documents totaling 1.3 million words. These documents span 90 categories and are split into train and test. For more details, please see https://www.nltk.org/book/ch02.html. We provide a `read_corpus` function below that pulls out only articles from the \"crude\" (i.e. news articles about oil, gas, etc.) category. The function also adds START and END tokens to each of the documents, and lowercases words. You do **not** have perform any other kind of pre-processing."
   ]
  },
  {
   "cell_type": "code",
   "execution_count": 2,
   "metadata": {},
   "outputs": [],
   "source": [
    "def read_corpus(category=\"crude\"):\n",
    "    \"\"\" Read files from the specified Reuter's category.\n",
    "        Params:\n",
    "            category (string): category name\n",
    "        Return:\n",
    "            list of lists, with words from each of the processed files\n",
    "    \"\"\"\n",
    "    files = reuters.fileids(category)\n",
    "    return [[START_TOKEN] + [w.lower() for w in list(reuters.words(f))] + [END_TOKEN] for f in files]\n"
   ]
  },
  {
   "cell_type": "markdown",
   "metadata": {},
   "source": [
    "Let's have a look what these documents are like…."
   ]
  },
  {
   "cell_type": "code",
   "execution_count": 3,
   "metadata": {
    "scrolled": false
   },
   "outputs": [
    {
     "name": "stdout",
     "output_type": "stream",
     "text": [
      "[['<START>', 'japan', 'to', 'revise', 'long', '-', 'term', 'energy', 'demand', 'downwards', 'the',\n",
      "  'ministry', 'of', 'international', 'trade', 'and', 'industry', '(', 'miti', ')', 'will', 'revise',\n",
      "  'its', 'long', '-', 'term', 'energy', 'supply', '/', 'demand', 'outlook', 'by', 'august', 'to',\n",
      "  'meet', 'a', 'forecast', 'downtrend', 'in', 'japanese', 'energy', 'demand', ',', 'ministry',\n",
      "  'officials', 'said', '.', 'miti', 'is', 'expected', 'to', 'lower', 'the', 'projection', 'for',\n",
      "  'primary', 'energy', 'supplies', 'in', 'the', 'year', '2000', 'to', '550', 'mln', 'kilolitres',\n",
      "  '(', 'kl', ')', 'from', '600', 'mln', ',', 'they', 'said', '.', 'the', 'decision', 'follows',\n",
      "  'the', 'emergence', 'of', 'structural', 'changes', 'in', 'japanese', 'industry', 'following',\n",
      "  'the', 'rise', 'in', 'the', 'value', 'of', 'the', 'yen', 'and', 'a', 'decline', 'in', 'domestic',\n",
      "  'electric', 'power', 'demand', '.', 'miti', 'is', 'planning', 'to', 'work', 'out', 'a', 'revised',\n",
      "  'energy', 'supply', '/', 'demand', 'outlook', 'through', 'deliberations', 'of', 'committee',\n",
      "  'meetings', 'of', 'the', 'agency', 'of', 'natural', 'resources', 'and', 'energy', ',', 'the',\n",
      "  'officials', 'said', '.', 'they', 'said', 'miti', 'will', 'also', 'review', 'the', 'breakdown',\n",
      "  'of', 'energy', 'supply', 'sources', ',', 'including', 'oil', ',', 'nuclear', ',', 'coal', 'and',\n",
      "  'natural', 'gas', '.', 'nuclear', 'energy', 'provided', 'the', 'bulk', 'of', 'japan', \"'\", 's',\n",
      "  'electric', 'power', 'in', 'the', 'fiscal', 'year', 'ended', 'march', '31', ',', 'supplying',\n",
      "  'an', 'estimated', '27', 'pct', 'on', 'a', 'kilowatt', '/', 'hour', 'basis', ',', 'followed',\n",
      "  'by', 'oil', '(', '23', 'pct', ')', 'and', 'liquefied', 'natural', 'gas', '(', '21', 'pct', '),',\n",
      "  'they', 'noted', '.', '<END>'],\n",
      " ['<START>', 'energy', '/', 'u', '.', 's', '.', 'petrochemical', 'industry', 'cheap', 'oil',\n",
      "  'feedstocks', ',', 'the', 'weakened', 'u', '.', 's', '.', 'dollar', 'and', 'a', 'plant',\n",
      "  'utilization', 'rate', 'approaching', '90', 'pct', 'will', 'propel', 'the', 'streamlined', 'u',\n",
      "  '.', 's', '.', 'petrochemical', 'industry', 'to', 'record', 'profits', 'this', 'year', ',',\n",
      "  'with', 'growth', 'expected', 'through', 'at', 'least', '1990', ',', 'major', 'company',\n",
      "  'executives', 'predicted', '.', 'this', 'bullish', 'outlook', 'for', 'chemical', 'manufacturing',\n",
      "  'and', 'an', 'industrywide', 'move', 'to', 'shed', 'unrelated', 'businesses', 'has', 'prompted',\n",
      "  'gaf', 'corp', '&', 'lt', ';', 'gaf', '>,', 'privately', '-', 'held', 'cain', 'chemical', 'inc',\n",
      "  ',', 'and', 'other', 'firms', 'to', 'aggressively', 'seek', 'acquisitions', 'of', 'petrochemical',\n",
      "  'plants', '.', 'oil', 'companies', 'such', 'as', 'ashland', 'oil', 'inc', '&', 'lt', ';', 'ash',\n",
      "  '>,', 'the', 'kentucky', '-', 'based', 'oil', 'refiner', 'and', 'marketer', ',', 'are', 'also',\n",
      "  'shopping', 'for', 'money', '-', 'making', 'petrochemical', 'businesses', 'to', 'buy', '.', '\"',\n",
      "  'i', 'see', 'us', 'poised', 'at', 'the', 'threshold', 'of', 'a', 'golden', 'period', ',\"', 'said',\n",
      "  'paul', 'oreffice', ',', 'chairman', 'of', 'giant', 'dow', 'chemical', 'co', '&', 'lt', ';',\n",
      "  'dow', '>,', 'adding', ',', '\"', 'there', \"'\", 's', 'no', 'major', 'plant', 'capacity', 'being',\n",
      "  'added', 'around', 'the', 'world', 'now', '.', 'the', 'whole', 'game', 'is', 'bringing', 'out',\n",
      "  'new', 'products', 'and', 'improving', 'the', 'old', 'ones', '.\"', 'analysts', 'say', 'the',\n",
      "  'chemical', 'industry', \"'\", 's', 'biggest', 'customers', ',', 'automobile', 'manufacturers',\n",
      "  'and', 'home', 'builders', 'that', 'use', 'a', 'lot', 'of', 'paints', 'and', 'plastics', ',',\n",
      "  'are', 'expected', 'to', 'buy', 'quantities', 'this', 'year', '.', 'u', '.', 's', '.',\n",
      "  'petrochemical', 'plants', 'are', 'currently', 'operating', 'at', 'about', '90', 'pct',\n",
      "  'capacity', ',', 'reflecting', 'tighter', 'supply', 'that', 'could', 'hike', 'product', 'prices',\n",
      "  'by', '30', 'to', '40', 'pct', 'this', 'year', ',', 'said', 'john', 'dosher', ',', 'managing',\n",
      "  'director', 'of', 'pace', 'consultants', 'inc', 'of', 'houston', '.', 'demand', 'for', 'some',\n",
      "  'products', 'such', 'as', 'styrene', 'could', 'push', 'profit', 'margins', 'up', 'by', 'as',\n",
      "  'much', 'as', '300', 'pct', ',', 'he', 'said', '.', 'oreffice', ',', 'speaking', 'at', 'a',\n",
      "  'meeting', 'of', 'chemical', 'engineers', 'in', 'houston', ',', 'said', 'dow', 'would', 'easily',\n",
      "  'top', 'the', '741', 'mln', 'dlrs', 'it', 'earned', 'last', 'year', 'and', 'predicted', 'it',\n",
      "  'would', 'have', 'the', 'best', 'year', 'in', 'its', 'history', '.', 'in', '1985', ',', 'when',\n",
      "  'oil', 'prices', 'were', 'still', 'above', '25', 'dlrs', 'a', 'barrel', 'and', 'chemical',\n",
      "  'exports', 'were', 'adversely', 'affected', 'by', 'the', 'strong', 'u', '.', 's', '.', 'dollar',\n",
      "  ',', 'dow', 'had', 'profits', 'of', '58', 'mln', 'dlrs', '.', '\"', 'i', 'believe', 'the',\n",
      "  'entire', 'chemical', 'industry', 'is', 'headed', 'for', 'a', 'record', 'year', 'or', 'close',\n",
      "  'to', 'it', ',\"', 'oreffice', 'said', '.', 'gaf', 'chairman', 'samuel', 'heyman', 'estimated',\n",
      "  'that', 'the', 'u', '.', 's', '.', 'chemical', 'industry', 'would', 'report', 'a', '20', 'pct',\n",
      "  'gain', 'in', 'profits', 'during', '1987', '.', 'last', 'year', ',', 'the', 'domestic',\n",
      "  'industry', 'earned', 'a', 'total', 'of', '13', 'billion', 'dlrs', ',', 'a', '54', 'pct', 'leap',\n",
      "  'from', '1985', '.', 'the', 'turn', 'in', 'the', 'fortunes', 'of', 'the', 'once', '-', 'sickly',\n",
      "  'chemical', 'industry', 'has', 'been', 'brought', 'about', 'by', 'a', 'combination', 'of', 'luck',\n",
      "  'and', 'planning', ',', 'said', 'pace', \"'\", 's', 'john', 'dosher', '.', 'dosher', 'said', 'last',\n",
      "  'year', \"'\", 's', 'fall', 'in', 'oil', 'prices', 'made', 'feedstocks', 'dramatically', 'cheaper',\n",
      "  'and', 'at', 'the', 'same', 'time', 'the', 'american', 'dollar', 'was', 'weakening', 'against',\n",
      "  'foreign', 'currencies', '.', 'that', 'helped', 'boost', 'u', '.', 's', '.', 'chemical',\n",
      "  'exports', '.', 'also', 'helping', 'to', 'bring', 'supply', 'and', 'demand', 'into', 'balance',\n",
      "  'has', 'been', 'the', 'gradual', 'market', 'absorption', 'of', 'the', 'extra', 'chemical',\n",
      "  'manufacturing', 'capacity', 'created', 'by', 'middle', 'eastern', 'oil', 'producers', 'in',\n",
      "  'the', 'early', '1980s', '.', 'finally', ',', 'virtually', 'all', 'major', 'u', '.', 's', '.',\n",
      "  'chemical', 'manufacturers', 'have', 'embarked', 'on', 'an', 'extensive', 'corporate',\n",
      "  'restructuring', 'program', 'to', 'mothball', 'inefficient', 'plants', ',', 'trim', 'the',\n",
      "  'payroll', 'and', 'eliminate', 'unrelated', 'businesses', '.', 'the', 'restructuring', 'touched',\n",
      "  'off', 'a', 'flurry', 'of', 'friendly', 'and', 'hostile', 'takeover', 'attempts', '.', 'gaf', ',',\n",
      "  'which', 'made', 'an', 'unsuccessful', 'attempt', 'in', '1985', 'to', 'acquire', 'union',\n",
      "  'carbide', 'corp', '&', 'lt', ';', 'uk', '>,', 'recently', 'offered', 'three', 'billion', 'dlrs',\n",
      "  'for', 'borg', 'warner', 'corp', '&', 'lt', ';', 'bor', '>,', 'a', 'chicago', 'manufacturer',\n",
      "  'of', 'plastics', 'and', 'chemicals', '.', 'another', 'industry', 'powerhouse', ',', 'w', '.',\n",
      "  'r', '.', 'grace', '&', 'lt', ';', 'gra', '>', 'has', 'divested', 'its', 'retailing', ',',\n",
      "  'restaurant', 'and', 'fertilizer', 'businesses', 'to', 'raise', 'cash', 'for', 'chemical',\n",
      "  'acquisitions', '.', 'but', 'some', 'experts', 'worry', 'that', 'the', 'chemical', 'industry',\n",
      "  'may', 'be', 'headed', 'for', 'trouble', 'if', 'companies', 'continue', 'turning', 'their',\n",
      "  'back', 'on', 'the', 'manufacturing', 'of', 'staple', 'petrochemical', 'commodities', ',', 'such',\n",
      "  'as', 'ethylene', ',', 'in', 'favor', 'of', 'more', 'profitable', 'specialty', 'chemicals',\n",
      "  'that', 'are', 'custom', '-', 'designed', 'for', 'a', 'small', 'group', 'of', 'buyers', '.', '\"',\n",
      "  'companies', 'like', 'dupont', '&', 'lt', ';', 'dd', '>', 'and', 'monsanto', 'co', '&', 'lt', ';',\n",
      "  'mtc', '>', 'spent', 'the', 'past', 'two', 'or', 'three', 'years', 'trying', 'to', 'get', 'out',\n",
      "  'of', 'the', 'commodity', 'chemical', 'business', 'in', 'reaction', 'to', 'how', 'badly', 'the',\n",
      "  'market', 'had', 'deteriorated', ',\"', 'dosher', 'said', '.', '\"', 'but', 'i', 'think', 'they',\n",
      "  'will', 'eventually', 'kill', 'the', 'margins', 'on', 'the', 'profitable', 'chemicals', 'in',\n",
      "  'the', 'niche', 'market', '.\"', 'some', 'top', 'chemical', 'executives', 'share', 'the',\n",
      "  'concern', '.', '\"', 'the', 'challenge', 'for', 'our', 'industry', 'is', 'to', 'keep', 'from',\n",
      "  'getting', 'carried', 'away', 'and', 'repeating', 'past', 'mistakes', ',\"', 'gaf', \"'\", 's',\n",
      "  'heyman', 'cautioned', '.', '\"', 'the', 'shift', 'from', 'commodity', 'chemicals', 'may', 'be',\n",
      "  'ill', '-', 'advised', '.', 'specialty', 'businesses', 'do', 'not', 'stay', 'special', 'long',\n",
      "  '.\"', 'houston', '-', 'based', 'cain', 'chemical', ',', 'created', 'this', 'month', 'by', 'the',\n",
      "  'sterling', 'investment', 'banking', 'group', ',', 'believes', 'it', 'can', 'generate', '700',\n",
      "  'mln', 'dlrs', 'in', 'annual', 'sales', 'by', 'bucking', 'the', 'industry', 'trend', '.',\n",
      "  'chairman', 'gordon', 'cain', ',', 'who', 'previously', 'led', 'a', 'leveraged', 'buyout', 'of',\n",
      "  'dupont', \"'\", 's', 'conoco', 'inc', \"'\", 's', 'chemical', 'business', ',', 'has', 'spent', '1',\n",
      "  '.', '1', 'billion', 'dlrs', 'since', 'january', 'to', 'buy', 'seven', 'petrochemical', 'plants',\n",
      "  'along', 'the', 'texas', 'gulf', 'coast', '.', 'the', 'plants', 'produce', 'only', 'basic',\n",
      "  'commodity', 'petrochemicals', 'that', 'are', 'the', 'building', 'blocks', 'of', 'specialty',\n",
      "  'products', '.', '\"', 'this', 'kind', 'of', 'commodity', 'chemical', 'business', 'will', 'never',\n",
      "  'be', 'a', 'glamorous', ',', 'high', '-', 'margin', 'business', ',\"', 'cain', 'said', ',',\n",
      "  'adding', 'that', 'demand', 'is', 'expected', 'to', 'grow', 'by', 'about', 'three', 'pct',\n",
      "  'annually', '.', 'garo', 'armen', ',', 'an', 'analyst', 'with', 'dean', 'witter', 'reynolds', ',',\n",
      "  'said', 'chemical', 'makers', 'have', 'also', 'benefitted', 'by', 'increasing', 'demand', 'for',\n",
      "  'plastics', 'as', 'prices', 'become', 'more', 'competitive', 'with', 'aluminum', ',', 'wood',\n",
      "  'and', 'steel', 'products', '.', 'armen', 'estimated', 'the', 'upturn', 'in', 'the', 'chemical',\n",
      "  'business', 'could', 'last', 'as', 'long', 'as', 'four', 'or', 'five', 'years', ',', 'provided',\n",
      "  'the', 'u', '.', 's', '.', 'economy', 'continues', 'its', 'modest', 'rate', 'of', 'growth', '.',\n",
      "  '<END>'],\n",
      " ['<START>', 'turkey', 'calls', 'for', 'dialogue', 'to', 'solve', 'dispute', 'turkey', 'said',\n",
      "  'today', 'its', 'disputes', 'with', 'greece', ',', 'including', 'rights', 'on', 'the',\n",
      "  'continental', 'shelf', 'in', 'the', 'aegean', 'sea', ',', 'should', 'be', 'solved', 'through',\n",
      "  'negotiations', '.', 'a', 'foreign', 'ministry', 'statement', 'said', 'the', 'latest', 'crisis',\n",
      "  'between', 'the', 'two', 'nato', 'members', 'stemmed', 'from', 'the', 'continental', 'shelf',\n",
      "  'dispute', 'and', 'an', 'agreement', 'on', 'this', 'issue', 'would', 'effect', 'the', 'security',\n",
      "  ',', 'economy', 'and', 'other', 'rights', 'of', 'both', 'countries', '.', '\"', 'as', 'the',\n",
      "  'issue', 'is', 'basicly', 'political', ',', 'a', 'solution', 'can', 'only', 'be', 'found', 'by',\n",
      "  'bilateral', 'negotiations', ',\"', 'the', 'statement', 'said', '.', 'greece', 'has', 'repeatedly',\n",
      "  'said', 'the', 'issue', 'was', 'legal', 'and', 'could', 'be', 'solved', 'at', 'the',\n",
      "  'international', 'court', 'of', 'justice', '.', 'the', 'two', 'countries', 'approached', 'armed',\n",
      "  'confrontation', 'last', 'month', 'after', 'greece', 'announced', 'it', 'planned', 'oil',\n",
      "  'exploration', 'work', 'in', 'the', 'aegean', 'and', 'turkey', 'said', 'it', 'would', 'also',\n",
      "  'search', 'for', 'oil', '.', 'a', 'face', '-', 'off', 'was', 'averted', 'when', 'turkey',\n",
      "  'confined', 'its', 'research', 'to', 'territorrial', 'waters', '.', '\"', 'the', 'latest',\n",
      "  'crises', 'created', 'an', 'historic', 'opportunity', 'to', 'solve', 'the', 'disputes', 'between',\n",
      "  'the', 'two', 'countries', ',\"', 'the', 'foreign', 'ministry', 'statement', 'said', '.', 'turkey',\n",
      "  \"'\", 's', 'ambassador', 'in', 'athens', ',', 'nazmi', 'akiman', ',', 'was', 'due', 'to', 'meet',\n",
      "  'prime', 'minister', 'andreas', 'papandreou', 'today', 'for', 'the', 'greek', 'reply', 'to', 'a',\n",
      "  'message', 'sent', 'last', 'week', 'by', 'turkish', 'prime', 'minister', 'turgut', 'ozal', '.',\n",
      "  'the', 'contents', 'of', 'the', 'message', 'were', 'not', 'disclosed', '.', '<END>']]\n"
     ]
    }
   ],
   "source": [
    "reuters_corpus = read_corpus()\n",
    "pprint.pprint(reuters_corpus[:3], compact=True, width=100)"
   ]
  },
  {
   "cell_type": "markdown",
   "metadata": {},
   "source": [
    "### Question 1.1: Implement `distinct_words` [code] (2 points)\n",
    "\n",
    "Write a method to work out the distinct words (word types) that occur in the corpus. You can do this with `for` loops, but it's more efficient to do it with Python list comprehensions. In particular, [this](https://coderwall.com/p/rcmaea/flatten-a-list-of-lists-in-one-line-in-python) may be useful to flatten a list of lists. If you're not familiar with Python list comprehensions in general, here's [more information](https://python-3-patterns-idioms-test.readthedocs.io/en/latest/Comprehensions.html).\n",
    "\n",
    "You may find it useful to use [Python sets](https://www.w3schools.com/python/python_sets.asp) to remove duplicate words."
   ]
  },
  {
   "cell_type": "code",
   "execution_count": 5,
   "metadata": {},
   "outputs": [],
   "source": [
    "def distinct_words(corpus):\n",
    "    \"\"\" Determine a list of distinct words for the corpus.\n",
    "        Params:\n",
    "            corpus (list of list of strings): corpus of documents\n",
    "        Return:\n",
    "            corpus_words (list of strings): list of distinct words across the corpus, sorted (using python 'sorted' function)\n",
    "            num_corpus_words (integer): number of distinct words across the corpus\n",
    "    \"\"\"\n",
    "    corpus_words = []\n",
    "    num_corpus_words = -1\n",
    "    \n",
    "    # ------------------\n",
    "    # Write your implementation here.\n",
    "    \n",
    "    corpus_words = sorted(list(set([word for text in corpus for word in text])))\n",
    "    num_corpus_words = len(corpus_words)\n",
    "    # ------------------\n",
    "\n",
    "    return corpus_words, num_corpus_words"
   ]
  },
  {
   "cell_type": "code",
   "execution_count": 6,
   "metadata": {},
   "outputs": [
    {
     "name": "stdout",
     "output_type": "stream",
     "text": [
      "--------------------------------------------------------------------------------\n",
      "Passed All Tests!\n",
      "--------------------------------------------------------------------------------\n"
     ]
    }
   ],
   "source": [
    "# ---------------------\n",
    "# Run this sanity check\n",
    "# Note that this not an exhaustive check for correctness.\n",
    "# ---------------------\n",
    "\n",
    "# Define toy corpus\n",
    "test_corpus = [\"START All that glitters isn't gold END\".split(\" \"), \"START All's well that ends well END\".split(\" \")]\n",
    "test_corpus_words, num_corpus_words = distinct_words(test_corpus)\n",
    "\n",
    "# Correct answers\n",
    "ans_test_corpus_words = sorted(list(set([\"START\", \"All\", \"ends\", \"that\", \"gold\", \"All's\", \"glitters\", \"isn't\", \"well\", \"END\"])))\n",
    "ans_num_corpus_words = len(ans_test_corpus_words)\n",
    "\n",
    "# Test correct number of words\n",
    "assert(num_corpus_words == ans_num_corpus_words), \"Incorrect number of distinct words. Correct: {}. Yours: {}\".format(ans_num_corpus_words, num_corpus_words)\n",
    "\n",
    "# Test correct words\n",
    "assert (test_corpus_words == ans_test_corpus_words), \"Incorrect corpus_words.\\nCorrect: {}\\nYours:   {}\".format(str(ans_test_corpus_words), str(test_corpus_words))\n",
    "\n",
    "# Print Success\n",
    "print (\"-\" * 80)\n",
    "print(\"Passed All Tests!\")\n",
    "print (\"-\" * 80)"
   ]
  },
  {
   "cell_type": "markdown",
   "metadata": {},
   "source": [
    "### Question 1.2: Implement `compute_co_occurrence_matrix` [code] (3 points)\n",
    "\n",
    "Write a method that constructs a co-occurrence matrix for a certain window-size $n$ (with a default of 4), considering words $n$ before and $n$ after the word in the center of the window. Here, we start to use `numpy (np)` to represent vectors, matrices, and tensors. If you're not familiar with NumPy, there's a NumPy tutorial in the second half of this cs231n [Python NumPy tutorial](http://cs231n.github.io/python-numpy-tutorial/).\n"
   ]
  },
  {
   "cell_type": "code",
   "execution_count": 7,
   "metadata": {},
   "outputs": [],
   "source": [
    "def compute_co_occurrence_matrix(corpus, window_size=4):\n",
    "    \"\"\" Compute co-occurrence matrix for the given corpus and window_size (default of 4).\n",
    "    \n",
    "        Note: Each word in a document should be at the center of a window. Words near edges will have a smaller\n",
    "              number of co-occurring words.\n",
    "              \n",
    "              For example, if we take the document \"START All that glitters is not gold END\" with window size of 4,\n",
    "              \"All\" will co-occur with \"START\", \"that\", \"glitters\", \"is\", and \"not\".\n",
    "    \n",
    "        Params:\n",
    "            corpus (list of list of strings): corpus of documents\n",
    "            window_size (int): size of context window\n",
    "        Return:\n",
    "            M (numpy matrix of shape (number of corpus words, number of corpus words)): \n",
    "                Co-occurence matrix of word counts. \n",
    "                The ordering of the words in the rows/columns should be the same as the ordering of the words given by the distinct_words function.\n",
    "            word2Ind (dict): dictionary that maps word to index (i.e. row/column number) for matrix M.\n",
    "    \"\"\"\n",
    "    words, num_words = distinct_words(corpus)\n",
    "    M = None\n",
    "    word2Ind = {word : words.index(word) for word in words}\n",
    "    print(word2Ind)\n",
    "    # ------------------\n",
    "    # Write your implementation here.\n",
    "    M = np.zeros((num_words, num_words), dtype = np.int32)\n",
    "    \n",
    "    for text in corpus:\n",
    "        for index, word in enumerate(text[window_size - 1:]):\n",
    "            for window_word in text[index - window_size:index]:\n",
    "                M[word2Ind[word]][word2Ind[window_word]]+=1\n",
    "                M[word2Ind[window_word]][word2Ind[word]]+=1\n",
    "            \n",
    "\n",
    "    # ------------------\n",
    "\n",
    "    return M, word2Ind"
   ]
  },
  {
   "cell_type": "code",
   "execution_count": 8,
   "metadata": {},
   "outputs": [
    {
     "name": "stdout",
     "output_type": "stream",
     "text": [
      "{'All': 0, \"All's\": 1, 'END': 2, 'START': 3, 'ends': 4, 'glitters': 5, 'gold': 6, \"isn't\": 7, 'that': 8, 'well': 9}\n",
      "--------------------------------------------------------------------------------\n",
      "Passed All Tests!\n",
      "--------------------------------------------------------------------------------\n"
     ]
    }
   ],
   "source": [
    "# ---------------------\n",
    "# Run this sanity check\n",
    "# Note that this is not an exhaustive check for correctness.\n",
    "# ---------------------\n",
    "\n",
    "# Define toy corpus and get student's co-occurrence matrix\n",
    "test_corpus = [\"START All that glitters isn't gold END\".split(\" \"), \"START All's well that ends well END\".split(\" \")]\n",
    "M_test, word2Ind_test = compute_co_occurrence_matrix(test_corpus, window_size=1)\n",
    "\n",
    "# Correct M and word2Ind\n",
    "M_test_ans = np.array( \n",
    "    [[0., 0., 0., 1., 0., 0., 0., 0., 1., 0.,],\n",
    "     [0., 0., 0., 1., 0., 0., 0., 0., 0., 1.,],\n",
    "     [0., 0., 0., 0., 0., 0., 1., 0., 0., 1.,],\n",
    "     [1., 1., 0., 0., 0., 0., 0., 0., 0., 0.,],\n",
    "     [0., 0., 0., 0., 0., 0., 0., 0., 1., 1.,],\n",
    "     [0., 0., 0., 0., 0., 0., 0., 1., 1., 0.,],\n",
    "     [0., 0., 1., 0., 0., 0., 0., 1., 0., 0.,],\n",
    "     [0., 0., 0., 0., 0., 1., 1., 0., 0., 0.,],\n",
    "     [1., 0., 0., 0., 1., 1., 0., 0., 0., 1.,],\n",
    "     [0., 1., 1., 0., 1., 0., 0., 0., 1., 0.,]]\n",
    ")\n",
    "word2Ind_ans = {'All': 0, \"All's\": 1, 'END': 2, 'START': 3, 'ends': 4, 'glitters': 5, 'gold': 6, \"isn't\": 7, 'that': 8, 'well': 9}\n",
    "\n",
    "# Test correct word2Ind\n",
    "assert (word2Ind_ans == word2Ind_test), \"Your word2Ind is incorrect:\\nCorrect: {}\\nYours: {}\".format(word2Ind_ans, word2Ind_test)\n",
    "\n",
    "# Test correct M shape\n",
    "assert (M_test.shape == M_test_ans.shape), \"M matrix has incorrect shape.\\nCorrect: {}\\nYours: {}\".format(M_test.shape, M_test_ans.shape)\n",
    "\n",
    "# Test correct M values\n",
    "for w1 in word2Ind_ans.keys():\n",
    "    idx1 = word2Ind_ans[w1]\n",
    "    for w2 in word2Ind_ans.keys():\n",
    "        idx2 = word2Ind_ans[w2]\n",
    "        student = M_test[idx1, idx2]\n",
    "        correct = M_test_ans[idx1, idx2]\n",
    "        if student != correct:\n",
    "            print(\"Correct M:\")\n",
    "            print(M_test_ans)\n",
    "            print(\"Your M: \")\n",
    "            print(M_test)\n",
    "            raise AssertionError(\"Incorrect count at index ({}, {})=({}, {}) in matrix M. Yours has {} but should have {}.\".format(idx1, idx2, w1, w2, student, correct))\n",
    "\n",
    "# Print Success\n",
    "print (\"-\" * 80)\n",
    "print(\"Passed All Tests!\")\n",
    "print (\"-\" * 80)"
   ]
  },
  {
   "cell_type": "markdown",
   "metadata": {},
   "source": [
    "### Question 1.3: Implement `reduce_to_k_dim` [code] (1 point)\n",
    "\n",
    "Construct a method that performs dimensionality reduction on the matrix to produce k-dimensional embeddings. Use SVD to take the top k components and produce a new matrix of k-dimensional embeddings. \n",
    "\n",
    "**Note:** All of numpy, scipy, and scikit-learn (`sklearn`) provide *some* implementation of SVD, but only scipy and sklearn provide an implementation of Truncated SVD, and only sklearn provides an efficient randomized algorithm for calculating large-scale Truncated SVD. So please use [sklearn.decomposition.TruncatedSVD](https://scikit-learn.org/stable/modules/generated/sklearn.decomposition.TruncatedSVD.html)."
   ]
  },
  {
   "cell_type": "code",
   "execution_count": 9,
   "metadata": {},
   "outputs": [],
   "source": [
    "def reduce_to_k_dim(M, k=2):\n",
    "    \"\"\" Reduce a co-occurence count matrix of dimensionality (num_corpus_words, num_corpus_words)\n",
    "        to a matrix of dimensionality (num_corpus_words, k) using the following SVD function from Scikit-Learn:\n",
    "            - http://scikit-learn.org/stable/modules/generated/sklearn.decomposition.TruncatedSVD.html\n",
    "    \n",
    "        Params:\n",
    "            M (numpy matrix of shape (number of corpus words, number of corpus words)): co-occurence matrix of word counts\n",
    "            k (int): embedding size of each word after dimension reduction\n",
    "        Return:\n",
    "            M_reduced (numpy matrix of shape (number of corpus words, k)): matrix of k-dimensioal word embeddings.\n",
    "                    In terms of the SVD from math class, this actually returns U * S\n",
    "    \"\"\"    \n",
    "    n_iters = 10     # Use this parameter in your call to `TruncatedSVD`\n",
    "    M_reduced = None\n",
    "    print(\"Running Truncated SVD over %i words...\" % (M.shape[0]))\n",
    "    \n",
    "    # ------------------\n",
    "    # Write your implementation here.\n",
    "    svd = TruncatedSVD(n_components=k, n_iter=n_iters, random_state=42) \n",
    "    M_reduced = svd.fit_transform(M)\n",
    "    # ------------------\n",
    "\n",
    "    print(\"Done.\")\n",
    "    return M_reduced"
   ]
  },
  {
   "cell_type": "code",
   "execution_count": 10,
   "metadata": {},
   "outputs": [
    {
     "name": "stdout",
     "output_type": "stream",
     "text": [
      "{'All': 0, \"All's\": 1, 'END': 2, 'START': 3, 'ends': 4, 'glitters': 5, 'gold': 6, \"isn't\": 7, 'that': 8, 'well': 9}\n",
      "Running Truncated SVD over 10 words...\n",
      "Done.\n",
      "--------------------------------------------------------------------------------\n",
      "Passed All Tests!\n",
      "--------------------------------------------------------------------------------\n"
     ]
    }
   ],
   "source": [
    "# ---------------------\n",
    "# Run this sanity check\n",
    "# Note that this not an exhaustive check for correctness \n",
    "# In fact we only check that your M_reduced has the right dimensions.\n",
    "# ---------------------\n",
    "\n",
    "# Define toy corpus and run student code\n",
    "test_corpus = [\"START All that glitters isn't gold END\".split(\" \"), \"START All's well that ends well END\".split(\" \")]\n",
    "M_test, word2Ind_test = compute_co_occurrence_matrix(test_corpus, window_size=1)\n",
    "M_test_reduced = reduce_to_k_dim(M_test, k=2)\n",
    "\n",
    "# Test proper dimensions\n",
    "assert (M_test_reduced.shape[0] == 10), \"M_reduced has {} rows; should have {}\".format(M_test_reduced.shape[0], 10)\n",
    "assert (M_test_reduced.shape[1] == 2), \"M_reduced has {} columns; should have {}\".format(M_test_reduced.shape[1], 2)\n",
    "\n",
    "# Print Success\n",
    "print (\"-\" * 80)\n",
    "print(\"Passed All Tests!\")\n",
    "print (\"-\" * 80)"
   ]
  },
  {
   "cell_type": "markdown",
   "metadata": {},
   "source": [
    "### Question 1.4: Implement `plot_embeddings` [code] (1 point)\n",
    "\n",
    "Here you will write a function to plot a set of 2D vectors in 2D space. For graphs, we will use Matplotlib (`plt`).\n",
    "\n",
    "For this example, you may find it useful to adapt [this code](https://www.pythonmembers.club/2018/05/08/matplotlib-scatter-plot-annotate-set-text-at-label-each-point/). In the future, a good way to make a plot is to look at [the Matplotlib gallery](https://matplotlib.org/gallery/index.html), find a plot that looks somewhat like what you want, and adapt the code they give."
   ]
  },
  {
   "cell_type": "code",
   "execution_count": 11,
   "metadata": {},
   "outputs": [],
   "source": [
    "def plot_embeddings(M_reduced, word2Ind, words):\n",
    "    \"\"\" Plot in a scatterplot the embeddings of the words specified in the list \"words\".\n",
    "        NOTE: do not plot all the words listed in M_reduced / word2Ind.\n",
    "        Include a label next to each point.\n",
    "        \n",
    "        Params:\n",
    "            M_reduced (numpy matrix of shape (number of unique words in the corpus , k)): matrix of k-dimensioal word embeddings\n",
    "            word2Ind (dict): dictionary that maps word to indices for matrix M\n",
    "            words (list of strings): words whose embeddings we want to visualize\n",
    "    \"\"\"\n",
    "\n",
    "    # ------------------\n",
    "    # Write your implementation here.\n",
    "    for index, word in enumerate(words):\n",
    "        x, y = M_reduced[word2Ind[word]]\n",
    "        plt.scatter(x, y, marker='x', color='red')\n",
    "        plt.text(x, y, word, fontsize=9)\n",
    "    plt.show()\n",
    "\n",
    "    # ------------------"
   ]
  },
  {
   "cell_type": "code",
   "execution_count": 12,
   "metadata": {},
   "outputs": [
    {
     "name": "stdout",
     "output_type": "stream",
     "text": [
      "--------------------------------------------------------------------------------\n",
      "Outputted Plot:\n"
     ]
    },
    {
     "data": {
      "image/png": "[encoded data removed]",
      "text/plain": [
       "<Figure size 720x360 with 1 Axes>"
      ]
     },
     "metadata": {
      "needs_background": "light"
     },
     "output_type": "display_data"
    },
    {
     "name": "stdout",
     "output_type": "stream",
     "text": [
      "--------------------------------------------------------------------------------\n"
     ]
    }
   ],
   "source": [
    "# ---------------------\n",
    "# Run this sanity check\n",
    "# Note that this not an exhaustive check for correctness.\n",
    "# The plot produced should look like the \"test solution plot\" depicted below. \n",
    "# ---------------------\n",
    "\n",
    "print (\"-\" * 80)\n",
    "print (\"Outputted Plot:\")\n",
    "\n",
    "M_reduced_plot_test = np.array([[1, 1], [-1, -1], [1, -1], [-1, 1], [0, 0]])\n",
    "word2Ind_plot_test = {'test1': 0, 'test2': 1, 'test3': 2, 'test4': 3, 'test5': 4}\n",
    "words = ['test1', 'test2', 'test3', 'test4', 'test5']\n",
    "plot_embeddings(M_reduced_plot_test, word2Ind_plot_test, words)\n",
    "\n",
    "print (\"-\" * 80)"
   ]
  },
  {
   "cell_type": "markdown",
   "metadata": {},
   "source": [
    "<font color=red>**Test Plot Solution**</font>\n",
    "<br>\n",
    "<img src=\"imgs/test_plot.png\" width=40% style=\"float: left;\"> </img>\n"
   ]
  },
  {
   "cell_type": "markdown",
   "metadata": {},
   "source": [
    "### Question 1.5: Co-Occurrence Plot Analysis [written] (3 points)\n",
    "\n",
    "Now we will put together all the parts you have written! We will compute the co-occurrence matrix with fixed window of 4, over the Reuters \"crude\" corpus. Then we will use TruncatedSVD to compute 2-dimensional embeddings of each word. TruncatedSVD returns U\\*S, so we normalize the returned vectors, so that all the vectors will appear around the unit circle (therefore closeness is directional closeness). **Note**: The line of code below that does the normalizing uses the NumPy concept of *broadcasting*. If you don't know about broadcasting, check out\n",
    "[Computation on Arrays: Broadcasting by Jake VanderPlas](https://jakevdp.github.io/PythonDataScienceHandbook/02.05-computation-on-arrays-broadcasting.html).\n",
    "\n",
    "Run the below cell to produce the plot. It'll probably take a few seconds to run."
   ]
  },
  {
   "cell_type": "code",
   "execution_count": 14,
   "metadata": {},
   "outputs": [
    {
     "name": "stdout",
     "output_type": "stream",
     "text": [
      "{'\"': 0, '\"(': 1, '\",': 2, '\"...': 3, '$': 4, '&': 5, \"'\": 6, '(': 7, ')': 8, ')\"': 9, '),': 10, '),\"': 11, ').': 12, ').\"': 13, ')...': 14, ')/': 15, ',': 16, ',\"': 17, '-': 18, '--': 19, '.': 20, '.\"': 21, '.(': 22, '.)': 23, '.,': 24, '.,\"': 25, '.-': 26, '...': 27, '...\"': 28, '...,\"': 29, '....': 30, '.....': 31, '......': 32, '.......': 33, '........': 34, '.........': 35, '..........': 36, '...........': 37, '............': 38, '................': 39, './': 40, '.>': 41, '.>,': 42, '/': 43, '0': 44, '00': 45, '000': 46, '001': 47, '01': 48, '011': 49, '014': 50, '015': 51, '02': 52, '020': 53, '023': 54, '0230': 55, '03': 56, '0300': 57, '036': 58, '04': 59, '043': 60, '046': 61, '05': 62, '06': 63, '0600': 64, '063': 65, '0650': 66, '066': 67, '07': 68, '0700': 69, '08': 70, '082': 71, '083': 72, '084': 73, '087': 74, '09': 75, '097': 76, '1': 77, '10': 78, '100': 79, '1002': 80, '101': 81, '102': 82, '103': 83, '104': 84, '105': 85, '106': 86, '108': 87, '109': 88, '10w2': 89, '11': 90, '110': 91, '1100': 92, '112': 93, '115': 94, '117': 95, '119': 96, '11th': 97, '12': 98, '120': 99, '123': 100, '124': 101, '125': 102, '1250': 103, '126': 104, '127': 105, '128': 106, '12th': 107, '13': 108, '130': 109, '131': 110, '132': 111, '133': 112, '134': 113, '135': 114, '136': 115, '137': 116, '138': 117, '13th': 118, '14': 119, '140': 120, '1400': 121, '141': 122, '142': 123, '143': 124, '144': 125, '145': 126, '146': 127, '147': 128, '149': 129, '14th': 130, '15': 131, '150': 132, '151': 133, '152': 134, '153': 135, '154': 136, '156': 137, '158': 138, '159': 139, '15th': 140, '16': 141, '160': 142, '162': 143, '164': 144, '165': 145, '166': 146, '167': 147, '168': 148, '17': 149, '170': 150, '172': 151, '173': 152, '174': 153, '175': 154, '176': 155, '178': 156, '18': 157, '180': 158, '1800': 159, '181': 160, '182': 161, '183': 162, '184': 163, '185': 164, '186': 165, '187': 166, '188': 167, '18th': 168, '19': 169, '190': 170, '1930': 171, '195': 172, '1955': 173, '1960s': 174, '1967': 175, '1968': 176, '1970': 177, '1970s': 178, '1972': 179, '1973': 180, '1974': 181, '1975': 182, '1976': 183, '1977': 184, '1978': 185, '1979': 186, '1980': 187, '1980s': 188, '1981': 189, '1982': 190, '1983': 191, '1984': 192, '1985': 193, '1986': 194, '1987': 195, '1988': 196, '1989': 197, '199': 198, '1990': 199, '1990s': 200, '1991': 201, '1992': 202, '1993': 203, '1995': 204, '2': 205, '20': 206, '200': 207, '2000': 208, '2001': 209, '202': 210, '205': 211, '206': 212, '208': 213, '20s': 214, '21': 215, '210': 216, '211': 217, '212': 218, '214': 219, '215': 220, '217': 221, '219': 222, '22': 223, '220': 224, '2200': 225, '221': 226, '222p': 227, '224': 228, '225': 229, '23': 230, '230': 231, '231': 232, '231p': 233, '233': 234, '234': 235, '235': 236, '237': 237, '238': 238, '24': 239, '240': 240, '245': 241, '246': 242, '247': 243, '248': 244, '25': 245, '250': 246, '251': 247, '252': 248, '255': 249, '258': 250, '25th': 251, '26': 252, '260': 253, '265': 254, '27': 255, '270': 256, '28': 257, '280': 258, '283': 259, '285': 260, '287': 261, '28th': 262, '29': 263, '290': 264, '293': 265, '295': 266, '298': 267, '299': 268, '2nd': 269, '3': 270, '30': 271, '300': 272, '303': 273, '304': 274, '305': 275, '3053': 276, '307': 277, '308': 278, '31': 279, '310': 280, '315': 281, '316': 282, '318': 283, '319': 284, '31st': 285, '32': 286, '320': 287, '323': 288, '324': 289, '325': 290, '326': 291, '328': 292, '329': 293, '33': 294, '330': 295, '331': 296, '333': 297, '335': 298, '337': 299, '339': 300, '34': 301, '340': 302, '341': 303, '342': 304, '345': 305, '346': 306, '35': 307, '350': 308, '352': 309, '353': 310, '357': 311, '36': 312, '360': 313, '362': 314, '366': 315, '369': 316, '37': 317, '370': 318, '371': 319, '373': 320, '374': 321, '375': 322, '38': 323, '380': 324, '381': 325, '387': 326, '388': 327, '39': 328, '390': 329, '391': 330, '395': 331, '4': 332, '40': 333, '400': 334, '401': 335, '402': 336, '403': 337, '404': 338, '405': 339, '4065': 340, '408': 341, '409': 342, '40th': 343, '41': 344, '410': 345, '419': 346, '42': 347, '420': 348, '422': 349, '423': 350, '424': 351, '428': 352, '43': 353, '431': 354, '432': 355, '437': 356, '439': 357, '44': 358, '440': 359, '443': 360, '446': 361, '45': 362, '450': 363, '459': 364, '46': 365, '462': 366, '466': 367, '467': 368, '47': 369, '470': 370, '472': 371, '476': 372, '48': 373, '480': 374, '482': 375, '486': 376, '49': 377, '491': 378, '492': 379, '495': 380, '5': 381, '50': 382, '500': 383, '503': 384, '507': 385, '508': 386, '51': 387, '510': 388, '511': 389, '516': 390, '52': 391, '520': 392, '521': 393, '53': 394, '530': 395, '531': 396, '539': 397, '54': 398, '540': 399, '543': 400, '546': 401, '547': 402, '548': 403, '55': 404, '550': 405, '552': 406, '555': 407, '556': 408, '56': 409, '561': 410, '562': 411, '563': 412, '564': 413, '565': 414, '567': 415, '568': 416, '57': 417, '575': 418, '58': 419, '583': 420, '59': 421, '591': 422, '593': 423, '595': 424, '596': 425, '599': 426, '6': 427, '60': 428, '600': 429, '603': 430, '604': 431, '605': 432, '609': 433, '61': 434, '611': 435, '614': 436, '615': 437, '616': 438, '617': 439, '62': 440, '621': 441, '624': 442, '625': 443, '627': 444, '628': 445, '63': 446, '635': 447, '636': 448, '64': 449, '6406': 450, '6407': 451, '644': 452, '645': 453, '646': 454, '648': 455, '65': 456, '650': 457, '655': 458, '658': 459, '659': 460, '66': 461, '660': 462, '663': 463, '667': 464, '669': 465, '67': 466, '670': 467, '675': 468, '679': 469, '68': 470, '680': 471, '682': 472, '69': 473, '692': 474, '694': 475, '695': 476, '6mm': 477, '7': 478, '70': 479, '700': 480, '707': 481, '71': 482, '7124': 483, '7125': 484, '714': 485, '719': 486, '72': 487, '720': 488, '7219': 489, '722': 490, '7220': 491, '7224': 492, '723': 493, '726': 494, '727': 495, '73': 496, '730': 497, '74': 498, '740': 499, '741': 500, '745': 501, '747': 502, '748': 503, '7495': 504, '75': 505, '750': 506, '7500': 507, '751': 508, '752': 509, '754': 510, '757': 511, '758': 512, '759': 513, '76': 514, '760': 515, '761': 516, '762': 517, '766': 518, '77': 519, '770': 520, '77th': 521, '78': 522, '784': 523, '79': 524, '8': 525, '80': 526, '800': 527, '802': 528, '81': 529, '814': 530, '82': 531, '826': 532, '827': 533, '83': 534, '830': 535, '834': 536, '837': 537, '84': 538, '840': 539, '85': 540, '850': 541, '852': 542, '853': 543, '86': 544, '862': 545, '869': 546, '87': 547, '870': 548, '872': 549, '88': 550, '880': 551, '89': 552, '897': 553, '9': 554, '90': 555, '900': 556, '902': 557, '905': 558, '91': 559, '913': 560, '915': 561, '92': 562, '920': 563, '925': 564, '929': 565, '93': 566, '930': 567, '94': 568, '940': 569, '948': 570, '95': 571, '950': 572, '953': 573, '96': 574, '962': 575, '964': 576, '97': 577, '974': 578, '976': 579, '978': 580, '98': 581, '985': 582, '99': 583, '998': 584, ':': 585, ';': 586, '<END>': 587, '<START>': 588, '>': 589, \">'\": 590, '>(': 591, '>,': 592, '>.': 593, '>/': 594, '?\"': 595, 'a': 596, 'a14': 597, 'aam': 598, 'ab': 599, 'abal': 600, 'abandon': 601, 'abandoned': 602, 'abandoning': 603, 'abated': 604, 'abatements': 605, 'abates': 606, 'abbas': 607, 'abdel': 608, 'abdelaziz': 609, 'abdul': 610, 'abdulaziz': 611, 'abdulla': 612, 'abide': 613, 'abiding': 614, 'ability': 615, 'ablaze': 616, 'able': 617, 'abolished': 618, 'about': 619, 'above': 620, 'abroad': 621, 'abruptly': 622, 'absolute': 623, 'absolutely': 624, 'absorbed': 625, 'absorbing': 626, 'absorption': 627, 'abu': 628, 'abundance': 629, 'abundant': 630, 'accelerate': 631, 'accelerated': 632, 'accelerating': 633, 'accentuated': 634, 'accept': 635, 'acceptable': 636, 'acceptance': 637, 'accepted': 638, 'accepting': 639, 'access': 640, 'accident': 641, 'accomodate': 642, 'accomodations': 643, 'accompanied': 644, 'accompanying': 645, 'accord': 646, 'accordance': 647, 'according': 648, 'accordingly': 649, 'accords': 650, 'account': 651, 'accounted': 652, 'accounting': 653, 'accounts': 654, 'accrued': 655, 'accumulated': 656, 'accumulating': 657, 'accurate': 658, 'accused': 659, 'aceh': 660, 'achieve': 661, 'achieved': 662, 'achieves': 663, 'achieving': 664, 'acid': 665, 'acknowledge': 666, 'acknowledged': 667, 'acknowleged': 668, 'acquire': 669, 'acquired': 670, 'acquires': 671, 'acquiring': 672, 'acquisition': 673, 'acquisitions': 674, 'acre': 675, 'acreage': 676, 'acres': 677, 'across': 678, 'act': 679, 'acting': 680, 'action': 681, 'actions': 682, 'active': 683, 'actively': 684, 'activities': 685, 'activity': 686, 'acts': 687, 'actual': 688, 'actually': 689, 'adams': 690, 'adana': 691, 'adapingthe': 692, 'add': 693, 'added': 694, 'adding': 695, 'addition': 696, 'additional': 697, 'additions': 698, 'address': 699, 'addressed': 700, 'addressing': 701, 'adds': 702, 'aden': 703, 'adhere': 704, 'adhered': 705, 'adherence': 706, 'adhering': 707, 'adjust': 708, 'adjusted': 709, 'adjustment': 710, 'adjustments': 711, 'adkerson': 712, 'adm': 713, 'administer': 714, 'administration': 715, 'administrations': 716, 'administrative': 717, 'administrator': 718, 'adminstration': 719, 'admiral': 720, 'admission': 721, 'admit': 722, 'admitted': 723, 'adnoc': 724, 'adopt': 725, 'adopted': 726, 'adopting': 727, 'adoption': 728, 'adopts': 729, 'adressed': 730, 'adrian': 731, 'advance': 732, 'advanced': 733, 'advantage': 734, 'advantageous': 735, 'advent': 736, 'adventure': 737, 'adventurism': 738, 'adventurist': 739, 'adverse': 740, 'adversely': 741, 'advice': 742, 'advised': 743, 'adviser': 744, 'advisers': 745, 'advisor': 746, 'advisory': 747, 'advocate': 748, 'advocated': 749, 'advocating': 750, 'aegean': 751, 'aerial': 752, 'affairs': 753, 'affect': 754, 'affected': 755, 'affecting': 756, 'affiliate': 757, 'affiliated': 758, 'affiliates': 759, 'affirmation': 760, 'afford': 761, 'africa': 762, 'african': 763, 'after': 764, 'aftermath': 765, 'afternoon': 766, 'afterwards': 767, 'ag': 768, 'aga': 769, 'again': 770, 'against': 771, 'agcny': 772, 'agencies': 773, 'agency': 774, 'agenda': 775, 'aggravate': 776, 'aggravated': 777, 'aggregate': 778, 'aggression': 779, 'aggressive': 780, 'aggressively': 781, 'aggressor': 782, 'aggressors': 783, 'agip': 784, 'ago': 785, 'agredd': 786, 'agree': 787, 'agreed': 788, 'agreeing': 789, 'agreement': 790, 'agreements': 791, 'agrement': 792, 'agression': 793, 'agricultural': 794, 'agriculture': 795, 'agrio': 796, 'aground': 797, 'aguarico': 798, 'ahc': 799, 'ahead': 800, 'ahmed': 801, 'ahvaz': 802, 'aid': 803, 'ailing': 804, 'aim': 805, 'aimed': 806, 'aiming': 807, 'aims': 808, 'air': 809, 'aircraft': 810, 'airliners': 811, 'airport': 812, 'akbar': 813, 'aker': 814, 'akiman': 815, 'al': 816, 'alabama': 817, 'alan': 818, 'alarmist': 819, 'alaska': 820, 'alaskan': 821, 'alba': 822, 'albeit': 823, 'alberta': 824, 'alberts': 825, 'alcohol': 826, 'alcudiai': 827, 'ald': 828, 'alert': 829, 'alexandria': 830, 'algeria': 831, 'algerian': 832, 'algerians': 833, 'algiers': 834, 'ali': 835, 'alice': 836, 'alick': 837, 'alif': 838, 'align': 839, 'aligned': 840, 'alive': 841, 'all': 842, 'alleged': 843, 'allen': 844, 'alliance': 845, 'allied': 846, 'allies': 847, 'allocate': 848, 'allocated': 849, 'allocation': 850, 'allocations': 851, 'allotted': 852, 'allow': 853, 'allowable': 854, 'allowance': 855, 'allowances': 856, 'allowed': 857, 'allowing': 858, 'allows': 859, 'alloys': 860, 'almir': 861, 'almost': 862, 'alone': 863, 'along': 864, 'alongside': 865, 'already': 866, 'also': 867, 'altamont': 868, 'alter': 869, 'altered': 870, 'altering': 871, 'alternate': 872, 'alternative': 873, 'alternatives': 874, 'although': 875, 'altogether': 876, 'aluminum': 877, 'alvite': 878, 'always': 879, 'am': 880, 'amadeus': 881, 'amauligak': 882, 'amazon': 883, 'ambassador': 884, 'ambassadors': 885, 'ambitious': 886, 'amend': 887, 'amended': 888, 'amending': 889, 'amendments': 890, 'amerada': 891, 'america': 892, 'american': 893, 'americans': 894, 'amid': 895, 'amidst': 896, 'amman': 897, 'ammendments': 898, 'ammonia': 899, 'amoco': 900, 'among': 901, 'amount': 902, 'amounts': 903, 'ample': 904, 'ampol': 905, 'ams': 906, 'amvo': 907, 'an': 908, 'analysis': 909, 'analyst': 910, 'analysts': 911, 'anatolian': 912, 'anba': 913, 'anbaa': 914, 'anchor': 915, 'anchorage': 916, 'and': 917, 'andean': 918, 'andersen': 919, 'anderson': 920, 'andes': 921, 'andreas': 922, 'andrew': 923, 'anew': 924, 'anger': 925, 'angered': 926, 'angle': 927, 'angola': 928, 'animals': 929, 'ankara': 930, 'annex': 931, 'anniversary': 932, 'annnounced': 933, 'annouce': 934, 'announce': 935, 'announced': 936, 'announcement': 937, 'announcing': 938, 'annual': 939, 'annually': 940, 'annum': 941, 'another': 942, 'ans': 943, 'answer': 944, 'answers': 945, 'antagonize': 946, 'anthony': 947, 'anti': 948, 'anticipate': 949, 'anticipated': 950, 'anticipation': 951, 'anticompetitive': 952, 'antonio': 953, 'antwerp': 954, 'anxious': 955, 'any': 956, 'anyone': 957, 'anything': 958, 'anytime': 959, 'anywhere': 960, 'anzali': 961, 'apart': 962, 'apartheid': 963, 'apea': 964, 'api': 965, 'apparent': 966, 'apparently': 967, 'appeal': 968, 'appealed': 969, 'appealing': 970, 'appeals': 971, 'appear': 972, 'appearance': 973, 'appeared': 974, 'appears': 975, 'applaud': 976, 'applicants': 977, 'application': 978, 'applications': 979, 'applied': 980, 'applies': 981, 'apply': 982, 'appoint': 983, 'appointed': 984, 'appointing': 985, 'appointment': 986, 'appraisal': 987, 'appraoch': 988, 'appreciation': 989, 'approach': 990, 'approached': 991, 'approaches': 992, 'approaching': 993, 'appropriate': 994, 'appropriately': 995, 'appropriations': 996, 'approval': 997, 'approvals': 998, 'approve': 999, 'approved': 1000, 'approves': 1001, 'approximately': 1002, 'apr': 1003, 'april': 1004, 'aps': 1005, 'aqazadeh': 1006, 'aquitaine': 1007, 'arab': 1008, 'arabia': 1009, 'arabian': 1010, 'arabic': 1011, 'aramco': 1012, 'arap': 1013, 'arauca': 1014, 'arbroath': 1015, 'arc': 1016, 'archibold': 1017, 'archie': 1018, 'architect': 1019, 'arco': 1020, 'arctic': 1021, 'arden': 1022, 'ardeshir': 1023, 'ardmore': 1024, 'are': 1025, 'area': 1026, 'areas': 1027, 'areias': 1028, 'aren': 1029, 'argentina': 1030, 'argentine': 1031, 'argue': 1032, 'argued': 1033, 'arguello': 1034, 'arguing': 1035, 'argument': 1036, 'arifin': 1037, 'arising': 1038, 'arm': 1039, 'armed': 1040, 'armen': 1041, 'arms': 1042, 'army': 1043, 'arne': 1044, 'arnold': 1045, 'aromatic': 1046, 'aromatics': 1047, 'arose': 1048, 'around': 1049, 'arrange': 1050, 'arranged': 1051, 'arrangement': 1052, 'arrangements': 1053, 'arranging': 1054, 'arrival': 1055, 'arrive': 1056, 'arrived': 1057, 'arrives': 1058, 'arthur': 1059, 'artic': 1060, 'article': 1061, 'articulation': 1062, 'artificially': 1063, 'artillery': 1064, 'arturo': 1065, 'as': 1066, 'asadi': 1067, 'asahi': 1068, 'asamera': 1069, 'asamoah': 1070, 'asbestos': 1071, 'ascertain': 1072, 'ash': 1073, 'ashland': 1074, 'asia': 1075, 'asian': 1076, 'ask': 1077, 'asked': 1078, 'asking': 1079, 'asks': 1080, 'asm': 1081, 'aspect': 1082, 'aspects': 1083, 'aspen': 1084, 'assam': 1085, 'assault': 1086, 'assaults': 1087, 'assembled': 1088, 'assembly': 1089, 'asserts': 1090, 'assess': 1091, 'assessed': 1092, 'assesses': 1093, 'assessing': 1094, 'assests': 1095, 'asset': 1096, 'assets': 1097, 'assign': 1098, 'assigned': 1099, 'assist': 1100, 'assistance': 1101, 'assistant': 1102, 'associate': 1103, 'associated': 1104, 'associates': 1105, 'association': 1106, 'asssociation': 1107, 'assume': 1108, 'assumed': 1109, 'assuming': 1110, 'assumption': 1111, 'assumptions': 1112, 'assurance': 1113, 'assure': 1114, 'assured': 1115, 'assuring': 1116, 'astride': 1117, 'at': 1118, 'athabasca': 1119, 'athens': 1120, 'atlantic': 1121, 'atp259p': 1122, 'attached': 1123, 'attachment': 1124, 'attack': 1125, 'attacked': 1126, 'attacking': 1127, 'attacks': 1128, 'attacksf': 1129, 'attain': 1130, 'attaka': 1131, 'attempt': 1132, 'attempting': 1133, 'attempts': 1134, 'attend': 1135, 'attended': 1136, 'attending': 1137, 'attention': 1138, 'attitude': 1139, 'attorney': 1140, 'attract': 1141, 'attractive': 1142, 'attributable': 1143, 'attribute': 1144, 'attributed': 1145, 'aturo': 1146, 'audience': 1147, 'audited': 1148, 'auditor': 1149, 'augmented': 1150, 'august': 1151, 'augusta': 1152, 'austerity': 1153, 'australia': 1154, 'australian': 1155, 'author': 1156, 'authoritative': 1157, 'authorities': 1158, 'authority': 1159, 'authorized': 1160, 'autobiography': 1161, 'automobile': 1162, 'autumn': 1163, 'availabilities': 1164, 'availability': 1165, 'available': 1166, 'avaj': 1167, 'avalanche': 1168, 'avenge': 1169, 'average': 1170, 'averaged': 1171, 'averaging': 1172, 'avert': 1173, 'averted': 1174, 'aviation': 1175, 'avoid': 1176, 'avoiding': 1177, 'awaiting': 1178, 'award': 1179, 'awarded': 1180, 'awards': 1181, 'aware': 1182, 'away': 1183, 'awful': 1184, 'awsat': 1185, 'axelgard': 1186, 'ayal': 1187, 'ayala': 1188, 'aymah': 1189, 'aziz': 1190, 'azpur': 1191, 'azpurua': 1192, 'b': 1193, 'baath': 1194, 'bache': 1195, 'back': 1196, 'backdrop': 1197, 'backed': 1198, 'backer': 1199, 'background': 1200, 'backing': 1201, 'backlash': 1202, 'backs': 1203, 'bad': 1204, 'bader': 1205, 'badly': 1206, 'baes': 1207, 'baghdad': 1208, 'bags': 1209, 'bahar': 1210, 'bahrain': 1211, 'bain': 1212, 'baird': 1213, 'baker': 1214, 'bakr': 1215, 'balance': 1216, 'balanced': 1217, 'balancing': 1218, 'balao': 1219, 'ball': 1220, 'baltic': 1221, 'ban': 1222, 'banco': 1223, 'bancorporation': 1224, 'band': 1225, 'bandar': 1226, 'bank': 1227, 'banker': 1228, 'bankers': 1229, 'banking': 1230, 'bankrupcty': 1231, 'bankruptcies': 1232, 'bankruptcy': 1233, 'banks': 1234, 'banned': 1235, 'banque': 1236, 'bans': 1237, 'baong': 1238, 'barakat': 1239, 'barbara': 1240, 'barber': 1241, 'barbosa': 1242, 'barclays': 1243, 'barely': 1244, 'barents': 1245, 'bargain': 1246, 'barite': 1247, 'barney': 1248, 'barometer': 1249, 'barrage': 1250, 'barrel': 1251, 'barrels': 1252, 'barrier': 1253, 'barriers': 1254, 'barring': 1255, 'bars': 1256, 'barter': 1257, 'bartering': 1258, 'base': 1259, 'based': 1260, 'baseless': 1261, 'baseload': 1262, 'bases': 1263, 'basic': 1264, 'basically': 1265, 'basicly': 1266, 'basin': 1267, 'basins': 1268, 'basis': 1269, 'basket': 1270, 'basra': 1271, 'bass': 1272, 'batteries': 1273, 'battle': 1274, 'battlefield': 1275, 'battles': 1276, 'battleship': 1277, 'bay': 1278, 'bayou': 1279, 'baytown': 1280, 'bbc': 1281, 'bbd': 1282, 'bbl': 1283, 'bbls': 1284, 'bcf': 1285, 'bcv': 1286, 'be': 1287, 'beach': 1288, 'beacon': 1289, 'beacons': 1290, 'bearish': 1291, 'beat': 1292, 'beaubien': 1293, 'beaufort': 1294, 'became': 1295, 'because': 1296, 'become': 1297, 'becomes': 1298, 'becoming': 1299, 'bed': 1300, 'been': 1301, 'before': 1302, 'began': 1303, 'begin': 1304, 'begining': 1305, 'beginning': 1306, 'begins': 1307, 'begun': 1308, 'behalf': 1309, 'behind': 1310, 'being': 1311, 'belgian': 1312, 'belgium': 1313, 'belief': 1314, 'believe': 1315, 'believed': 1316, 'believes': 1317, 'belkacem': 1318, 'bell': 1319, 'bellies': 1320, 'belongs': 1321, 'below': 1322, 'belt': 1323, 'benbow': 1324, 'benchmark': 1325, 'beneficial': 1326, 'beneficiaries': 1327, 'benefit': 1328, 'benefited': 1329, 'benefits': 1330, 'benefitted': 1331, 'bennett': 1332, 'bentsen': 1333, 'benzene': 1334, 'bergen': 1335, 'bering': 1336, 'berkeley': 1337, 'berne': 1338, 'bernstein': 1339, 'berre': 1340, 'beshir': 1341, 'besides': 1342, 'best': 1343, 'better': 1344, 'betting': 1345, 'between': 1346, 'beutel': 1347, 'beyond': 1348, 'bhi': 1349, 'bi': 1350, 'biannual': 1351, 'bid': 1352, 'bidder': 1353, 'bidders': 1354, 'bidding': 1355, 'bids': 1356, 'big': 1357, 'bigger': 1358, 'biggest': 1359, 'bijan': 1360, 'bilateral': 1361, 'bilion': 1362, 'bill': 1363, 'billion': 1364, 'billions': 1365, 'billlion': 1366, 'billowing': 1367, 'bills': 1368, 'bin': 1369, 'binding': 1370, 'bir': 1371, 'birr': 1372, 'bit': 1373, 'bitterly': 1374, 'bjoern': 1375, 'bko': 1376, 'black': 1377, 'blame': 1378, 'blamed': 1379, 'blames': 1380, 'blasted': 1381, 'blazing': 1382, 'bleak': 1383, 'blend': 1384, 'blends': 1385, 'bloated': 1386, 'bloc': 1387, 'block': 1388, 'blockade': 1389, 'blockading': 1390, 'blocked': 1391, 'blocks': 1392, 'blood': 1393, 'blow': 1394, 'blown': 1395, 'blows': 1396, 'bluebell': 1397, 'blueprint': 1398, 'blunt': 1399, 'board': 1400, 'boarded': 1401, 'boat': 1402, 'boats': 1403, 'bob': 1404, 'bodies': 1405, 'body': 1406, 'boiler': 1407, 'boilers': 1408, 'bold': 1409, 'bolder': 1410, 'bolivar': 1411, 'bolivares': 1412, 'bolivars': 1413, 'bolster': 1414, 'bombarded': 1415, 'bombay': 1416, 'bombed': 1417, 'bombers': 1418, 'bombing': 1419, 'bombings': 1420, 'bonanza': 1421, 'bond': 1422, 'bonds': 1423, 'bonny': 1424, 'bonus': 1425, 'book': 1426, 'boom': 1427, 'boone': 1428, 'boost': 1429, 'boosted': 1430, 'boosting': 1431, 'boosts': 1432, 'bor': 1433, 'border': 1434, 'bordering': 1435, 'bore': 1436, 'borg': 1437, 'borrowers': 1438, 'borrowing': 1439, 'borrowings': 1440, 'boston': 1441, 'both': 1442, 'bottled': 1443, 'bottom': 1444, 'bottomed': 1445, 'bottoming': 1446, 'bottoms': 1447, 'bought': 1448, 'bound': 1449, 'bouy': 1450, 'boxleigh': 1451, 'boycott': 1452, 'bp': 1453, 'bpd': 1454, 'br': 1455, 'bracho': 1456, 'bradstreet': 1457, 'brake': 1458, 'branching': 1459, 'brancho': 1460, 'brasil': 1461, 'brasileiro': 1462, 'brasilia': 1463, 'brass': 1464, 'brave': 1465, 'brazil': 1466, 'brazilian': 1467, 'breach': 1468, 'breached': 1469, 'breaching': 1470, 'break': 1471, 'breakdown': 1472, 'breakfast': 1473, 'breakneck': 1474, 'breakout': 1475, 'breaks': 1476, 'brent': 1477, 'brian': 1478, 'bridge': 1479, 'bridged': 1480, 'brief': 1481, 'briefed': 1482, 'briefing': 1483, 'briefly': 1484, 'bright': 1485, 'brightest': 1486, 'bring': 1487, 'bringing': 1488, 'brings': 1489, 'brink': 1490, 'brisbane': 1491, 'britain': 1492, 'britian': 1493, 'british': 1494, 'britoil': 1495, 'brkn': 1496, 'broad': 1497, 'broadcast': 1498, 'broadened': 1499, 'broader': 1500, 'broadly': 1501, 'broke': 1502, 'broken': 1503, 'broker': 1504, 'brokerage': 1505, 'brooklyn': 1506, 'brothers': 1507, 'brought': 1508, 'broussard': 1509, 'bruce': 1510, 'brussels': 1511, 'bryan': 1512, 'btol': 1513, 'btu': 1514, 'btx': 1515, 'bu': 1516, 'bubble': 1517, 'bucci': 1518, 'buchanan': 1519, 'bucking': 1520, 'buckler': 1521, 'budget': 1522, 'budgetary': 1523, 'budgeted': 1524, 'budgeting': 1525, 'buena': 1526, 'bugdet': 1527, 'build': 1528, 'builders': 1529, 'building': 1530, 'buildings': 1531, 'builds': 1532, 'built': 1533, 'bukhoosh': 1534, 'bulk': 1535, 'bulletin': 1536, 'bullish': 1537, 'bullishly': 1538, 'bunch': 1539, 'buoy': 1540, 'burden': 1541, 'burdened': 1542, 'burdens': 1543, 'bureacracy': 1544, 'burning': 1545, 'burns': 1546, 'burst': 1547, 'bus': 1548, 'bushels': 1549, 'businesess': 1550, 'business': 1551, 'businesses': 1552, 'businessmen': 1553, 'but': 1554, 'butane': 1555, 'buy': 1556, 'buyer': 1557, 'buyers': 1558, 'buying': 1559, 'buyout': 1560, 'buys': 1561, 'by': 1562, 'byron': 1563, 'c': 1564, 'cabinet': 1565, 'caf': 1566, 'cain': 1567, 'calculated': 1568, 'calculation': 1569, 'calculations': 1570, 'calendar': 1571, 'calender': 1572, 'calgary': 1573, 'cali': 1574, 'calif': 1575, 'california': 1576, 'caljet': 1577, 'call': 1578, 'called': 1579, 'calling': 1580, 'calls': 1581, 'calm': 1582, 'calmer': 1583, 'calmness': 1584, 'caltex': 1585, 'calumet': 1586, 'cambridge': 1587, 'came': 1588, 'cameron': 1589, 'camp': 1590, 'campaign': 1591, 'campeche': 1592, 'campos': 1593, 'camps': 1594, 'can': 1595, 'canada': 1596, 'canadaina': 1597, 'canadian': 1598, 'canakkale': 1599, 'cancel': 1600, 'canceled': 1601, 'cancelled': 1602, 'cancelling': 1603, 'cancels': 1604, 'candidate': 1605, 'candidates': 1606, 'canning': 1607, 'cannot': 1608, 'cano': 1609, 'canot': 1610, 'cantarell': 1611, 'canterra': 1612, 'capabilities': 1613, 'capability': 1614, 'capable': 1615, 'capacities': 1616, 'capacity': 1617, 'capcity': 1618, 'capital': 1619, 'capitalize': 1620, 'capitol': 1621, 'capozza': 1622, 'captain': 1623, 'captains': 1624, 'captive': 1625, 'captured': 1626, 'caracas': 1627, 'carbide': 1628, 'carbone': 1629, 'carbozulia': 1630, 'card': 1631, 'cardenas': 1632, 'care': 1633, 'career': 1634, 'careful': 1635, 'carefully': 1636, 'cargo': 1637, 'cargoes': 1638, 'caribbean': 1639, 'caribou': 1640, 'carl': 1641, 'carlos': 1642, 'carlucci': 1643, 'carol': 1644, 'carpet': 1645, 'carried': 1646, 'carrier': 1647, 'carriers': 1648, 'carries': 1649, 'carrington': 1650, 'carroll': 1651, 'carry': 1652, 'carrying': 1653, 'cars': 1654, 'cartel': 1655, 'carter': 1656, 'carvalho': 1657, 'case': 1658, 'cased': 1659, 'cases': 1660, 'casey': 1661, 'cash': 1662, 'caspar': 1663, 'caspian': 1664, 'casualties': 1665, 'casualty': 1666, 'catalytic': 1667, 'catapulted': 1668, 'categories': 1669, 'category': 1670, 'catenary': 1671, 'cattle': 1672, 'caught': 1673, 'cause': 1674, 'caused': 1675, 'causing': 1676, 'caution': 1677, 'cautioned': 1678, 'cautious': 1679, 'cautiously': 1680, 'cayambe': 1681, 'cbs': 1682, 'cdi': 1683, 'cease': 1684, 'ceased': 1685, 'ceasefire': 1686, 'ceiling': 1687, 'ceilings': 1688, 'celebrating': 1689, 'celebrations': 1690, 'celeron': 1691, 'cement': 1692, 'cent': 1693, 'center': 1694, 'centers': 1695, 'centigrade': 1696, 'central': 1697, 'centrally': 1698, 'centre': 1699, 'centred': 1700, 'cents': 1701, 'century': 1702, 'cepe': 1703, 'cera': 1704, 'ceremenony': 1705, 'ceremony': 1706, 'certain': 1707, 'certainly': 1708, 'certainty': 1709, 'ceylon': 1710, 'cf': 1711, 'cfr': 1712, 'cftc': 1713, 'cgp': 1714, 'chacin': 1715, 'chairman': 1716, 'chairs': 1717, 'chalabi': 1718, 'chalaby': 1719, 'challenge': 1720, 'challenged': 1721, 'challenges': 1722, 'chambers': 1723, 'champlin': 1724, 'chance': 1725, 'chancellor': 1726, 'chances': 1727, 'change': 1728, 'changed': 1729, 'changes': 1730, 'changing': 1731, 'channel': 1732, 'chapter': 1733, 'characterized': 1734, 'charge': 1735, 'charged': 1736, 'charges': 1737, 'charging': 1738, 'charles': 1739, 'chart': 1740, 'charter': 1741, 'chartered': 1742, 'chartering': 1743, 'chartists': 1744, 'charts': 1745, 'chase': 1746, 'chased': 1747, 'cheap': 1748, 'cheaper': 1749, 'cheaply': 1750, 'cheat': 1751, 'cheating': 1752, 'check': 1753, 'checks': 1754, 'chemical': 1755, 'chemicals': 1756, 'chemie': 1757, 'chevron': 1758, 'cheyenne': 1759, 'chicago': 1760, 'chicken': 1761, 'chief': 1762, 'chiefs': 1763, 'chiles': 1764, 'china': 1765, 'chinese': 1766, 'choice': 1767, 'choices': 1768, 'choke': 1769, 'chokepoint': 1770, 'chona': 1771, 'choosing': 1772, 'chose': 1773, 'chosen': 1774, 'chris': 1775, 'christi': 1776, 'christian': 1777, 'christmas': 1778, 'christopher': 1779, 'chv': 1780, 'chyn': 1781, 'cie': 1782, 'cif': 1783, 'circumstance': 1784, 'circumstances': 1785, 'cited': 1786, 'citgo': 1787, 'cities': 1788, 'citing': 1789, 'citizens': 1790, 'city': 1791, 'civil': 1792, 'civilian': 1793, 'claim': 1794, 'claimed': 1795, 'claiming': 1796, 'claims': 1797, 'clash': 1798, 'clashes': 1799, 'class': 1800, 'classification': 1801, 'classified': 1802, 'classifying': 1803, 'clause': 1804, 'clauses': 1805, 'clear': 1806, 'clearly': 1807, 'clever': 1808, 'client': 1809, 'clients': 1810, 'climate': 1811, 'climb': 1812, 'climbed': 1813, 'climbs': 1814, 'clinton': 1815, 'close': 1816, 'closed': 1817, 'closely': 1818, 'closer': 1819, 'closes': 1820, 'closest': 1821, 'closing': 1822, 'closure': 1823, 'closures': 1824, 'clouded': 1825, 'cmb': 1826, 'cms': 1827, 'cnooc': 1828, 'cnp': 1829, 'co': 1830, 'coal': 1831, 'coast': 1832, 'coastal': 1833, 'coasts': 1834, 'code': 1835, 'coffee': 1836, 'coherent': 1837, 'coinciding': 1838, 'coking': 1839, 'colder': 1840, 'collaborating': 1841, 'collapse': 1842, 'collapsed': 1843, 'colleagues': 1844, 'collective': 1845, 'colo': 1846, 'colombia': 1847, 'colombian': 1848, 'colombo': 1849, 'colon': 1850, 'colorado': 1851, 'columbia': 1852, 'columns': 1853, 'colville': 1854, 'combat': 1855, 'combination': 1856, 'combinations': 1857, 'combine': 1858, 'combined': 1859, 'combining': 1860, 'combustion': 1861, 'come': 1862, 'comes': 1863, 'cometra': 1864, 'coming': 1865, 'command': 1866, 'commanded': 1867, 'comment': 1868, 'commentator': 1869, 'commented': 1870, 'commenting': 1871, 'comments': 1872, 'commerce': 1873, 'commercial': 1874, 'commercially': 1875, 'commission': 1876, 'commissioner': 1877, 'commissioners': 1878, 'commitment': 1879, 'commitments': 1880, 'committed': 1881, 'committee': 1882, 'committees': 1883, 'commodities': 1884, 'commodity': 1885, 'common': 1886, 'commons': 1887, 'communciation': 1888, 'communication': 1889, 'communications': 1890, 'communique': 1891, 'communist': 1892, 'community': 1893, 'compacted': 1894, 'compagnie': 1895, 'companies': 1896, 'company': 1897, 'comparable': 1898, 'compare': 1899, 'compared': 1900, 'compares': 1901, 'comparison': 1902, 'compatible': 1903, 'compensate': 1904, 'compensated': 1905, 'compensation': 1906, 'competent': 1907, 'competing': 1908, 'competition': 1909, 'competitive': 1910, 'competitively': 1911, 'competitiveness': 1912, 'complained': 1913, 'complaints': 1914, 'complete': 1915, 'completed': 1916, 'completely': 1917, 'completes': 1918, 'completion': 1919, 'completions': 1920, 'complex': 1921, 'complexity': 1922, 'compliance': 1923, 'comply': 1924, 'compounding': 1925, 'comprehension': 1926, 'comprehensive': 1927, 'comprising': 1928, 'compromise': 1929, 'compromised': 1930, 'computer': 1931, 'conable': 1932, 'concentrate': 1933, 'concern': 1934, 'concerned': 1935, 'concerning': 1936, 'concerns': 1937, 'concerted': 1938, 'concession': 1939, 'concessions': 1940, 'conclude': 1941, 'concluded': 1942, 'conclusion': 1943, 'concrete': 1944, 'concurred': 1945, 'condensate': 1946, 'condensates': 1947, 'condition': 1948, 'conditions': 1949, 'condtions': 1950, 'conduct': 1951, 'conducted': 1952, 'conducting': 1953, 'confederation': 1954, 'conference': 1955, 'conferenced': 1956, 'conferences': 1957, 'confidence': 1958, 'confident': 1959, 'confine': 1960, 'confined': 1961, 'confirm': 1962, 'confirmation': 1963, 'confirmed': 1964, 'conflict': 1965, 'confrontation': 1966, 'conglomerate': 1967, 'congress': 1968, 'congressional': 1969, 'congressman': 1970, 'congressmen': 1971, 'conjunction': 1972, 'conn': 1973, 'connect': 1974, 'connected': 1975, 'connecting': 1976, 'connection': 1977, 'connections': 1978, 'conoco': 1979, 'consensus': 1980, 'consent': 1981, 'consequences': 1982, 'conservation': 1983, 'conservative': 1984, 'conservatives': 1985, 'conserve': 1986, 'conserving': 1987, 'consider': 1988, 'considerable': 1989, 'considerably': 1990, 'consideration': 1991, 'considered': 1992, 'considering': 1993, 'considers': 1994, 'consist': 1995, 'consistent': 1996, 'consistently': 1997, 'consists': 1998, 'consolidated': 1999, 'consolidating': 2000, 'consolidation': 2001, 'consortium': 2002, 'constant': 2003, 'constantine': 2004, 'constitution': 2005, 'constrained': 2006, 'constraints': 2007, 'construct': 2008, 'constructed': 2009, 'constructing': 2010, 'construction': 2011, 'constructive': 2012, 'construed': 2013, 'consult': 2014, 'consultants': 2015, 'consultation': 2016, 'consultations': 2017, 'consulted': 2018, 'consulting': 2019, 'consumer': 2020, 'consumers': 2021, 'consumes': 2022, 'consuming': 2023, 'consumption': 2024, 'contacts': 2025, 'contain': 2026, 'contained': 2027, 'contains': 2028, 'contemplated': 2029, 'contend': 2030, 'contended': 2031, 'content': 2032, 'contents': 2033, 'context': 2034, 'continent': 2035, 'continental': 2036, 'contingent': 2037, 'continuation': 2038, 'continue': 2039, 'continued': 2040, 'continues': 2041, 'continuing': 2042, 'continuous': 2043, 'contract': 2044, 'contracted': 2045, 'contracting': 2046, 'contractors': 2047, 'contracts': 2048, 'contractual': 2049, 'contradicting': 2050, 'contrary': 2051, 'contravened': 2052, 'contravening': 2053, 'contribute': 2054, 'contributed': 2055, 'contributes': 2056, 'contribution': 2057, 'control': 2058, 'controls': 2059, 'controversial': 2060, 'convened': 2061, 'conventional': 2062, 'conversion': 2063, 'convert': 2064, 'converted': 2065, 'convertible': 2066, 'conviction': 2067, 'convince': 2068, 'convinced': 2069, 'convoy': 2070, 'convoys': 2071, 'cook': 2072, 'cool': 2073, 'cooled': 2074, 'cooper': 2075, 'cooperate': 2076, 'cooperation': 2077, 'cooperative': 2078, 'coordinate': 2079, 'coordinating': 2080, 'coordination': 2081, 'coordinator': 2082, 'copany': 2083, 'cope': 2084, 'coppernickle': 2085, 'cordero': 2086, 'cordesman': 2087, 'core': 2088, 'corn': 2089, 'corp': 2090, 'corporacion': 2091, 'corporate': 2092, 'corporation': 2093, 'corporations': 2094, 'corpoven': 2095, 'corpses': 2096, 'corpus': 2097, 'correct': 2098, 'correspond': 2099, 'correspondents': 2100, 'corresponding': 2101, 'cos': 2102, 'cosmo': 2103, 'cost': 2104, 'costing': 2105, 'costly': 2106, 'costs': 2107, 'cote': 2108, 'could': 2109, 'council': 2110, 'count': 2111, 'counted': 2112, 'counter': 2113, 'counterattack': 2114, 'countermeasures': 2115, 'counterpart': 2116, 'counterpoint': 2117, 'countertrade': 2118, 'countertrading': 2119, 'countries': 2120, 'country': 2121, 'counts': 2122, 'county': 2123, 'couple': 2124, 'coupled': 2125, 'coupon': 2126, 'course': 2127, 'court': 2128, 'courted': 2129, 'courts': 2130, 'covenants': 2131, 'covenas': 2132, 'cover': 2133, 'covered': 2134, 'covering': 2135, 'covers': 2136, 'covert': 2137, 'cower': 2138, 'cp': 2139, 'cpc': 2140, 'crack': 2141, 'cracker': 2142, 'cracking': 2143, 'crandall': 2144, 'crane': 2145, 'crash': 2146, 'cravo': 2147, 'crawl': 2148, 'create': 2149, 'created': 2150, 'creating': 2151, 'credibility': 2152, 'credit': 2153, 'creditor': 2154, 'creditors': 2155, 'credits': 2156, 'creek': 2157, 'crept': 2158, 'crew': 2159, 'crews': 2160, 'crisanti': 2161, 'crises': 2162, 'crisis': 2163, 'criteria': 2164, 'critical': 2165, 'criticised': 2166, 'criticism': 2167, 'criticized': 2168, 'critics': 2169, 'cross': 2170, 'crosses': 2171, 'crossing': 2172, 'crossroads': 2173, 'crowe': 2174, 'crown': 2175, 'crowns': 2176, 'crucial': 2177, 'crucially': 2178, 'crude': 2179, 'crudes': 2180, 'crushing': 2181, 'cruz': 2182, 'cruzado': 2183, 'cryssen': 2184, 'csis': 2185, 'csr': 2186, 'csra': 2187, 'ct': 2188, 'cts': 2189, 'cu': 2190, 'cuba': 2191, 'cuban': 2192, 'cubic': 2193, 'cuellar': 2194, 'culminating': 2195, 'culture': 2196, 'cumhuriyet': 2197, 'cumulative': 2198, 'curb': 2199, 'curbing': 2200, 'curbs': 2201, 'currencies': 2202, 'currency': 2203, 'current': 2204, 'currently': 2205, 'curtail': 2206, 'curtailed': 2207, 'curtailing': 2208, 'curtailments': 2209, 'curti': 2210, 'curve': 2211, 'cushing': 2212, 'cushion': 2213, 'custom': 2214, 'customer': 2215, 'customers': 2216, 'cut': 2217, 'cutback': 2218, 'cutbacks': 2219, 'cutoff': 2220, 'cuts': 2221, 'cutting': 2222, 'cycle': 2223, 'cyclical': 2224, 'cypriot': 2225, 'cyprus': 2226, 'cyrus': 2227, 'd': 2228, 'daewoo': 2229, 'daily': 2230, 'dakota': 2231, 'dallas': 2232, 'damage': 2233, 'damaged': 2234, 'damages': 2235, 'damaging': 2236, 'damascus': 2237, 'dampen': 2238, 'dan': 2239, 'danger': 2240, 'dangerous': 2241, 'daniel': 2242, 'dardanelles': 2243, 'darwin': 2244, 'data': 2245, 'date': 2246, 'david': 2247, 'davies': 2248, 'davis': 2249, 'day': 2250, 'days': 2251, 'dd': 2252, 'de': 2253, 'dead': 2254, 'deadweight': 2255, 'deal': 2256, 'dealers': 2257, 'dealing': 2258, 'dealings': 2259, 'deals': 2260, 'dealt': 2261, 'dean': 2262, 'death': 2263, 'debate': 2264, 'debated': 2265, 'debt': 2266, 'debtor': 2267, 'debts': 2268, 'debut': 2269, 'dec': 2270, 'decade': 2271, 'december': 2272, 'decide': 2273, 'decided': 2274, 'decides': 2275, 'deciding': 2276, 'decision': 2277, 'decisions': 2278, 'decisive': 2279, 'deck': 2280, 'declare': 2281, 'declared': 2282, 'declaring': 2283, 'decline': 2284, 'declined': 2285, 'declines': 2286, 'declining': 2287, 'decontrol': 2288, 'decrease': 2289, 'decreased': 2290, 'decree': 2291, 'dedicate': 2292, 'deductibility': 2293, 'deductible': 2294, 'deduction': 2295, 'deductions': 2296, 'deemed': 2297, 'deep': 2298, 'deeper': 2299, 'deepest': 2300, 'deeply': 2301, 'defaults': 2302, 'defence': 2303, 'defences': 2304, 'defend': 2305, 'defended': 2306, 'defending': 2307, 'defends': 2308, 'defense': 2309, 'defensive': 2310, 'deferred': 2311, 'deferring': 2312, 'defiant': 2313, 'deficit': 2314, 'deficits': 2315, 'define': 2316, 'defined': 2317, 'definitely': 2318, 'definition': 2319, 'definitive': 2320, 'definitively': 2321, 'deflating': 2322, 'deflect': 2323, 'defunct': 2324, 'defuse': 2325, 'degree': 2326, 'degrees': 2327, 'deilmann': 2328, 'delaware': 2329, 'delay': 2330, 'delayed': 2331, 'delegate': 2332, 'delegation': 2333, 'delegations': 2334, 'delhi': 2335, 'deliberately': 2336, 'deliberations': 2337, 'delicate': 2338, 'delimitation': 2339, 'delimiting': 2340, 'delineation': 2341, 'deliver': 2342, 'deliverability': 2343, 'delivered': 2344, 'deliveries': 2345, 'delivering': 2346, 'delivery': 2347, 'delta': 2348, 'demand': 2349, 'demanded': 2350, 'demanding': 2351, 'demands': 2352, 'deminex': 2353, 'democracies': 2354, 'democrat': 2355, 'democrats': 2356, 'demonstrable': 2357, 'demonstrated': 2358, 'den': 2359, 'denemours': 2360, 'denial': 2361, 'denials': 2362, 'denied': 2363, 'dennis': 2364, 'denominated': 2365, 'denounced': 2366, 'denounces': 2367, 'dent': 2368, 'denver': 2369, 'deny': 2370, 'department': 2371, 'departments': 2372, 'departmet': 2373, 'departure': 2374, 'depedent': 2375, 'depend': 2376, 'depended': 2377, 'dependence': 2378, 'dependency': 2379, 'dependent': 2380, 'depending': 2381, 'depends': 2382, 'depleted': 2383, 'depletion': 2384, 'deploy': 2385, 'deployed': 2386, 'deployment': 2387, 'deposit': 2388, 'deposits': 2389, 'depot': 2390, 'depreciation': 2391, 'depress': 2392, 'depressed': 2393, 'deprive': 2394, 'depth': 2395, 'depths': 2396, 'deputy': 2397, 'deregulate': 2398, 'deregulating': 2399, 'deregulation': 2400, 'deregulatory': 2401, 'derivatives': 2402, 'derived': 2403, 'des': 2404, 'descent': 2405, 'described': 2406, 'describing': 2407, 'desert': 2408, 'deserved': 2409, 'design': 2410, 'designated': 2411, 'designed': 2412, 'desirable': 2413, 'desire': 2414, 'desired': 2415, 'desires': 2416, 'desk': 2417, 'despatched': 2418, 'desperately': 2419, 'despite': 2420, 'destination': 2421, 'destinations': 2422, 'destocking': 2423, 'destroyed': 2424, 'destroyer': 2425, 'destroyers': 2426, 'destroying': 2427, 'destruction': 2428, 'detail': 2429, 'detailed': 2430, 'details': 2431, 'detection': 2432, 'deter': 2433, 'deteriorated': 2434, 'deterioration': 2435, 'determination': 2436, 'determine': 2437, 'determined': 2438, 'determining': 2439, 'deterred': 2440, 'deterrence': 2441, 'deterring': 2442, 'devalue': 2443, 'devalued': 2444, 'devaluing': 2445, 'devastated': 2446, 'devastating': 2447, 'develop': 2448, 'developed': 2449, 'developing': 2450, 'development': 2451, 'developments': 2452, 'deviations': 2453, 'device': 2454, 'devised': 2455, 'devon': 2456, 'devoted': 2457, 'dhabi': 2458, 'di': 2459, 'dia': 2460, 'dialogue': 2461, 'diameter': 2462, 'diamond': 2463, 'dibona': 2464, 'did': 2465, 'died': 2466, 'diesel': 2467, 'diet': 2468, 'difference': 2469, 'different': 2470, 'differential': 2471, 'differentials': 2472, 'difficult': 2473, 'difficulties': 2474, 'difficultiesand': 2475, 'difficulty': 2476, 'dignity': 2477, 'dilemma': 2478, 'dilemmas': 2479, 'dillard': 2480, 'diminish': 2481, 'diminished': 2482, 'diminishing': 2483, 'din': 2484, 'dinars': 2485, 'dinkov': 2486, 'dip': 2487, 'diplomacy': 2488, 'diplomat': 2489, 'diplomatic': 2490, 'diplomats': 2491, 'dipped': 2492, 'dipping': 2493, 'direct': 2494, 'directed': 2495, 'direction': 2496, 'directly': 2497, 'director': 2498, 'directorate': 2499, 'directors': 2500, 'dirhams': 2501, 'disagreed': 2502, 'disagreement': 2503, 'disappear': 2504, 'disappeared': 2505, 'disappointed': 2506, 'disappointing': 2507, 'disassociated': 2508, 'disaster': 2509, 'discharge': 2510, 'discharged': 2511, 'discharging': 2512, 'discipline': 2513, 'disclose': 2514, 'disclosed': 2515, 'disclosure': 2516, 'disclosures': 2517, 'discomfort': 2518, 'discontinue': 2519, 'discount': 2520, 'discounted': 2521, 'discounting': 2522, 'discounts': 2523, 'discouraged': 2524, 'discovered': 2525, 'discoveries': 2526, 'discovery': 2527, 'discreet': 2528, 'discreetly': 2529, 'discriminatory': 2530, 'discused': 2531, 'discuss': 2532, 'discussed': 2533, 'discusses': 2534, 'discussing': 2535, 'discussion': 2536, 'discussions': 2537, 'disguised': 2538, 'disincentive': 2539, 'disincentives': 2540, 'dislocation': 2541, 'dismal': 2542, 'dismantling': 2543, 'dismissed': 2544, 'dispatched': 2545, 'dispite': 2546, 'displeasure': 2547, 'disposal': 2548, 'disposals': 2549, 'dispose': 2550, 'dispute': 2551, 'disputed': 2552, 'disputes': 2553, 'disrupt': 2554, 'disruption': 2555, 'dissociated': 2556, 'distance': 2557, 'distillate': 2558, 'distillates': 2559, 'distillation': 2560, 'distinct': 2561, 'distortive': 2562, 'distorts': 2563, 'distributed': 2564, 'distribution': 2565, 'distributions': 2566, 'district': 2567, 'disution': 2568, 'dived': 2569, 'divers': 2570, 'diversifed': 2571, 'diversification': 2572, 'diversified': 2573, 'diversify': 2574, 'diversity': 2575, 'diverted': 2576, 'divested': 2577, 'divided': 2578, 'dividend': 2579, 'dividends': 2580, 'diving': 2581, 'division': 2582, 'divisions': 2583, 'dlr': 2584, 'dlrs': 2585, 'dlruntied': 2586, 'dmp': 2587, 'dnlaf': 2588, 'do': 2589, 'docemarte': 2590, 'docks': 2591, 'document': 2592, 'doe': 2593, 'does': 2594, 'doesn': 2595, 'doha': 2596, 'doing': 2597, 'dollar': 2598, 'dollars': 2599, 'dome': 2600, 'domenici': 2601, 'domestic': 2602, 'dominance': 2603, 'dominant': 2604, 'dominate': 2605, 'dominion': 2606, 'don': 2607, 'donald': 2608, 'done': 2609, 'door': 2610, 'doors': 2611, 'doorstep': 2612, 'dosher': 2613, 'dot': 2614, 'double': 2615, 'doubles': 2616, 'doubt': 2617, 'doubts': 2618, 'dounas': 2619, 'dow': 2620, 'down': 2621, 'downplayed': 2622, 'downstream': 2623, 'downtrend': 2624, 'downturn': 2625, 'downward': 2626, 'downwards': 2627, 'dozen': 2628, 'dozens': 2629, 'draft': 2630, 'drafting': 2631, 'dragged': 2632, 'drain': 2633, 'dramatic': 2634, 'dramatically': 2635, 'drastic': 2636, 'draugen': 2637, 'draw': 2638, 'drawbacks': 2639, 'drawdown': 2640, 'drawdowns': 2641, 'drawing': 2642, 'drawn': 2643, 'draws': 2644, 'dregs': 2645, 'dresser': 2646, 'drew': 2647, 'dreyer': 2648, 'drift': 2649, 'drifted': 2650, 'drill': 2651, 'drilled': 2652, 'drilling': 2653, 'drillings': 2654, 'drive': 2655, 'driver': 2656, 'drives': 2657, 'driving': 2658, 'drm': 2659, 'drop': 2660, 'dropped': 2661, 'dropping': 2662, 'drops': 2663, 'drove': 2664, 'dry': 2665, 'dsm': 2666, 'dtuch': 2667, 'du': 2668, 'dual': 2669, 'dubai': 2670, 'dublin': 2671, 'duchesne': 2672, 'due': 2673, 'dumping': 2674, 'dune': 2675, 'dunham': 2676, 'dunn': 2677, 'dupont': 2678, 'duration': 2679, 'duri': 2680, 'during': 2681, 'dust': 2682, 'dutch': 2683, 'duties': 2684, 'duty': 2685, 'dwindle': 2686, 'dwindling': 2687, 'dwt': 2688, 'dynamism': 2689, 'dynamite': 2690, 'e': 2691, 'e12c': 2692, 'e15b': 2693, 'each': 2694, 'eagle': 2695, 'earlier': 2696, 'early': 2697, 'earmarked': 2698, 'earn': 2699, 'earned': 2700, 'earnings': 2701, 'earth': 2702, 'earthquake': 2703, 'earthquakes': 2704, 'ease': 2705, 'eased': 2706, 'easier': 2707, 'easiest': 2708, 'easily': 2709, 'easing': 2710, 'east': 2711, 'easter': 2712, 'eastern': 2713, 'easy': 2714, 'ebinger': 2715, 'ec': 2716, 'ecaudor': 2717, 'economic': 2718, 'economical': 2719, 'economically': 2720, 'economicly': 2721, 'economics': 2722, 'economies': 2723, 'economist': 2724, 'economists': 2725, 'economy': 2726, 'ecopetrol': 2727, 'ecstatic': 2728, 'ecuador': 2729, 'ecuadorean': 2730, 'ecuatoriana': 2731, 'ed': 2732, 'edge': 2733, 'edgington': 2734, 'edinburgh': 2735, 'edition': 2736, 'editor': 2737, 'editorial': 2738, 'edmonton': 2739, 'edomestic': 2740, 'edson': 2741, 'edt': 2742, 'eduard': 2743, 'education': 2744, 'edward': 2745, 'effect': 2746, 'effective': 2747, 'effectively': 2748, 'effects': 2749, 'efficiency': 2750, 'efficient': 2751, 'effort': 2752, 'efforts': 2753, 'efp': 2754, 'efps': 2755, 'egil': 2756, 'egpc': 2757, 'egypt': 2758, 'egyptian': 2759, 'eia': 2760, 'eic': 2761, 'eider': 2762, 'eight': 2763, 'eighth': 2764, 'eileen': 2765, 'either': 2766, 'eiu': 2767, 'ekofisk': 2768, 'el': 2769, 'elaborate': 2770, 'elders': 2771, 'elecetric': 2772, 'elections': 2773, 'electric': 2774, 'electricity': 2775, 'electromagnetic': 2776, 'electronic': 2777, 'eleven': 2778, 'eleventh': 2779, 'elf': 2780, 'elfp': 2781, 'elicited': 2782, 'eligible': 2783, 'eliminate': 2784, 'eliminating': 2785, 'elimination': 2786, 'elizabethtown': 2787, 'elk': 2788, 'elkins': 2789, 'elmano': 2790, 'eln': 2791, 'else': 2792, 'elsewhere': 2793, 'elton': 2794, 'embargo': 2795, 'embark': 2796, 'embarked': 2797, 'embarrassment': 2798, 'embassy': 2799, 'emerge': 2800, 'emerged': 2801, 'emergence': 2802, 'emergency': 2803, 'emerging': 2804, 'emigration': 2805, 'emirate': 2806, 'emirates': 2807, 'emissions': 2808, 'emp': 2809, 'emphasis': 2810, 'emphasize': 2811, 'emphasized': 2812, 'employ': 2813, 'employed': 2814, 'employee': 2815, 'employees': 2816, 'employment': 2817, 'empresa': 2818, 'en': 2819, 'enable': 2820, 'enabling': 2821, 'enacted': 2822, 'encompassing': 2823, 'encounter': 2824, 'encourage': 2825, 'encouraged': 2826, 'encouraging': 2827, 'end': 2828, 'endanger': 2829, 'endangering': 2830, 'ended': 2831, 'ending': 2832, 'endorse': 2833, 'endorsed': 2834, 'endorsement': 2835, 'ends': 2836, 'enemy': 2837, 'energia': 2838, 'energie': 2839, 'energy': 2840, 'enforced': 2841, 'engage': 2842, 'engaged': 2843, 'engineer': 2844, 'engineered': 2845, 'engineering': 2846, 'engineers': 2847, 'england': 2848, 'english': 2849, 'enhance': 2850, 'enhanced': 2851, 'eni': 2852, 'enjoined': 2853, 'enjoy': 2854, 'enjoys': 2855, 'enormously': 2856, 'enough': 2857, 'enquiries': 2858, 'ensure': 2859, 'ensured': 2860, 'ensuring': 2861, 'entail': 2862, 'entailed': 2863, 'ente': 2864, 'enter': 2865, 'entered': 2866, 'entering': 2867, 'enterprise': 2868, 'enterprises': 2869, 'entertain': 2870, 'entex': 2871, 'enthusiasm': 2872, 'enthusiastic': 2873, 'entire': 2874, 'entirely': 2875, 'entities': 2876, 'entitled': 2877, 'entitlement': 2878, 'entitlements': 2879, 'entitling': 2880, 'entity': 2881, 'entrance': 2882, 'environment': 2883, 'environmental': 2884, 'envisaged': 2885, 'envoy': 2886, 'epicentre': 2887, 'equal': 2888, 'equally': 2889, 'equip': 2890, 'equipment': 2891, 'equities': 2892, 'equity': 2893, 'equivalent': 2894, 'eralp': 2895, 'erdem': 2896, 'erected': 2897, 'ergenc': 2898, 'ernest': 2899, 'erode': 2900, 'eromanga': 2901, 'erupt': 2902, 'erupted': 2903, 'es': 2904, 'escalate': 2905, 'escalated': 2906, 'escalating': 2907, 'escalation': 2908, 'escalatory': 2909, 'escape': 2910, 'escort': 2911, 'escorted': 2912, 'escorting': 2913, 'escorts': 2914, 'eskimo': 2915, 'eskimos': 2916, 'especially': 2917, 'espinosa': 2918, 'essential': 2919, 'essf': 2920, 'esso': 2921, 'establish': 2922, 'established': 2923, 'establishment': 2924, 'estatal': 2925, 'estate': 2926, 'estimate': 2927, 'estimated': 2928, 'estimates': 2929, 'et': 2930, 'etang': 2931, 'ethylene': 2932, 'eugene': 2933, 'euro': 2934, 'eurodollar': 2935, 'europe': 2936, 'european': 2937, 'europeans': 2938, 'evaluate': 2939, 'evaluated': 2940, 'evaluating': 2941, 'evaluation': 2942, 'evans': 2943, 'evasion': 2944, 'even': 2945, 'evening': 2946, 'event': 2947, 'events': 2948, 'eventual': 2949, 'eventualities': 2950, 'eventually': 2951, 'ever': 2952, 'every': 2953, 'everybody': 2954, 'everyone': 2955, 'everything': 2956, 'everywhere': 2957, 'evidence': 2958, 'evolution': 2959, 'evros': 2960, 'ewing': 2961, 'ex': 2962, 'exacerbate': 2963, 'exacerbating': 2964, 'exact': 2965, 'exactly': 2966, 'exaggerated': 2967, 'examine': 2968, 'examined': 2969, 'example': 2970, 'examples': 2971, 'exceed': 2972, 'exceeded': 2973, 'exceeding': 2974, 'except': 2975, 'exception': 2976, 'exceptional': 2977, 'excess': 2978, 'excesses': 2979, 'excessive': 2980, 'exchange': 2981, 'exchanges': 2982, 'exchequer': 2983, 'excise': 2984, 'excitement': 2985, 'exciting': 2986, 'exclude': 2987, 'excluded': 2988, 'excluding': 2989, 'exclusion': 2990, 'exclusive': 2991, 'exclusively': 2992, 'excpanding': 2993, 'executive': 2994, 'executives': 2995, 'exempt': 2996, 'exempted': 2997, 'exempting': 2998, 'exercise': 2999, 'exercised': 3000, 'exert': 3001, 'exerted': 3002, 'exisiting': 3003, 'exist': 3004, 'existing': 3005, 'exists': 3006, 'expand': 3007, 'expanded': 3008, 'expanding': 3009, 'expansion': 3010, 'expansionist': 3011, 'expansive': 3012, 'expatriate': 3013, 'expect': 3014, 'expectation': 3015, 'expectations': 3016, 'expected': 3017, 'expecting': 3018, 'expects': 3019, 'expenditure': 3020, 'expenditures': 3021, 'expense': 3022, 'expenses': 3023, 'expensive': 3024, 'experience': 3025, 'experienced': 3026, 'experiencing': 3027, 'expert': 3028, 'expertise': 3029, 'experts': 3030, 'expire': 3031, 'expired': 3032, 'expiring': 3033, 'explained': 3034, 'explaining': 3035, 'explanation': 3036, 'explicit': 3037, 'explicitly': 3038, 'exploit': 3039, 'exploitation': 3040, 'exploited': 3041, 'exploiting': 3042, 'exploration': 3043, 'exploratory': 3044, 'explore': 3045, 'explored': 3046, 'exploring': 3047, 'explosion': 3048, 'explosive': 3049, 'expoloration': 3050, 'export': 3051, 'exported': 3052, 'exporter': 3053, 'exporters': 3054, 'exporting': 3055, 'exports': 3056, 'expose': 3057, 'exposure': 3058, 'expressed': 3059, 'expressions': 3060, 'extend': 3061, 'extended': 3062, 'extending': 3063, 'extends': 3064, 'extension': 3065, 'extensions': 3066, 'extensive': 3067, 'extent': 3068, 'external': 3069, 'extra': 3070, 'extract': 3071, 'extraction': 3072, 'extracts': 3073, 'extraordinarily': 3074, 'extraordinary': 3075, 'extraordinrary': 3076, 'extremely': 3077, 'extricate': 3078, 'exxon': 3079, 'f': 3080, 'fabric': 3081, 'face': 3082, 'faced': 3083, 'faces': 3084, 'facilitate': 3085, 'facilities': 3086, 'facility': 3087, 'facing': 3088, 'fact': 3089, 'factor': 3090, 'factored': 3091, 'factors': 3092, 'facts': 3093, 'fadhil': 3094, 'fahd': 3095, 'fail': 3096, 'failed': 3097, 'failing': 3098, 'fails': 3099, 'failure': 3100, 'failures': 3101, 'fair': 3102, 'fairchild': 3103, 'fairly': 3104, 'faisal': 3105, 'fakkan': 3106, 'fall': 3107, 'fallen': 3108, 'falling': 3109, 'fallout': 3110, 'falls': 3111, 'false': 3112, 'faltering': 3113, 'family': 3114, 'far': 3115, 'fares': 3116, 'fargo': 3117, 'farm': 3118, 'farmers': 3119, 'fast': 3120, 'faster': 3121, 'fattah': 3122, 'fault': 3123, 'favor': 3124, 'favorable': 3125, 'favored': 3126, 'favorite': 3127, 'favors': 3128, 'favour': 3129, 'favourable': 3130, 'favourably': 3131, 'favours': 3132, 'faw': 3133, 'fbt': 3134, 'fear': 3135, 'feared': 3136, 'fears': 3137, 'feasibility': 3138, 'feasible': 3139, 'feature': 3140, 'feb': 3141, 'febres': 3142, 'february': 3143, 'fed': 3144, 'federal': 3145, 'federation': 3146, 'fee': 3147, 'feed': 3148, 'feedstock': 3149, 'feedstocks': 3150, 'feel': 3151, 'feeling': 3152, 'feelings': 3153, 'fees': 3154, 'feet': 3155, 'fell': 3156, 'fellow': 3157, 'fence': 3158, 'fereidun': 3159, 'ferguson': 3160, 'fernando': 3161, 'ferro': 3162, 'fertiliser': 3163, 'fertilizer': 3164, 'fesharaki': 3165, 'fetched': 3166, 'few': 3167, 'fewer': 3168, 'fibre': 3169, 'field': 3170, 'fields': 3171, 'fifth': 3172, 'fight': 3173, 'fighter': 3174, 'fighting': 3175, 'figure': 3176, 'figures': 3177, 'file': 3178, 'filed': 3179, 'filing': 3180, 'filings': 3181, 'fill': 3182, 'filling': 3183, 'fina': 3184, 'final': 3185, 'finalise': 3186, 'finalised': 3187, 'finalize': 3188, 'finalized': 3189, 'finalizing': 3190, 'finally': 3191, 'finance': 3192, 'financed': 3193, 'finances': 3194, 'financial': 3195, 'financially': 3196, 'financier': 3197, 'financing': 3198, 'find': 3199, 'finding': 3200, 'finds': 3201, 'fine': 3202, 'finished': 3203, 'finnish': 3204, 'fire': 3205, 'fireball': 3206, 'fired': 3207, 'firm': 3208, 'firmed': 3209, 'firmer': 3210, 'firming': 3211, 'firmly': 3212, 'firmness': 3213, 'firms': 3214, 'first': 3215, 'fiscal': 3216, 'fiscales': 3217, 'fish': 3218, 'fishing': 3219, 'fit': 3220, 'fits': 3221, 'fitzwater': 3222, 'five': 3223, 'fix': 3224, 'fixed': 3225, 'flag': 3226, 'flagged': 3227, 'flagging': 3228, 'flags': 3229, 'flank': 3230, 'flanked': 3231, 'flare': 3232, 'flat': 3233, 'flatly': 3234, 'flatten': 3235, 'flattened': 3236, 'flawed': 3237, 'fled': 3238, 'fledged': 3239, 'fledgling': 3240, 'fleet': 3241, 'flew': 3242, 'flexibility': 3243, 'flexible': 3244, 'float': 3245, 'floating': 3246, 'flood': 3247, 'flooded': 3248, 'flooding': 3249, 'floods': 3250, 'floor': 3251, 'florakis': 3252, 'florida': 3253, 'flotilla': 3254, 'flow': 3255, 'flowed': 3256, 'flowing': 3257, 'flows': 3258, 'fluctuate': 3259, 'fluctuations': 3260, 'fluidized': 3261, 'flumar': 3262, 'flurry': 3263, 'fly': 3264, 'flying': 3265, 'focus': 3266, 'foiled': 3267, 'fold': 3268, 'follow': 3269, 'followed': 3270, 'following': 3271, 'follows': 3272, 'followthrough': 3273, 'food': 3274, 'foot': 3275, 'foothold': 3276, 'for': 3277, 'foray': 3278, 'forbidding': 3279, 'force': 3280, 'forced': 3281, 'forces': 3282, 'forcing': 3283, 'ford': 3284, 'forecast': 3285, 'forecasts': 3286, 'foreign': 3287, 'foreigners': 3288, 'foremost': 3289, 'foresaw': 3290, 'foresee': 3291, 'foreseeable': 3292, 'foreseen': 3293, 'foresees': 3294, 'forestall': 3295, 'forgotten': 3296, 'form': 3297, 'formal': 3298, 'formality': 3299, 'formalize': 3300, 'formally': 3301, 'formation': 3302, 'formed': 3303, 'former': 3304, 'formerly': 3305, 'forms': 3306, 'formula': 3307, 'formulas': 3308, 'fort': 3309, 'fortunes': 3310, 'forum': 3311, 'forward': 3312, 'fos': 3313, 'foster': 3314, 'fostering': 3315, 'foulkes': 3316, 'found': 3317, 'foundation': 3318, 'founder': 3319, 'foundry': 3320, 'four': 3321, 'fourth': 3322, 'fractionation': 3323, 'framework': 3324, 'francaise': 3325, 'france': 3326, 'franchised': 3327, 'franciso': 3328, 'francois': 3329, 'frank': 3330, 'fred': 3331, 'free': 3332, 'freedman': 3333, 'freedom': 3334, 'freeing': 3335, 'freer': 3336, 'freeze': 3337, 'freight': 3338, 'french': 3339, 'frequently': 3340, 'fresh': 3341, 'friday': 3342, 'friedburg': 3343, 'friendly': 3344, 'friends': 3345, 'frigate': 3346, 'frigates': 3347, 'frion': 3348, 'froces': 3349, 'from': 3350, 'front': 3351, 'frontier': 3352, 'frontline': 3353, 'frozen': 3354, 'frugal': 3355, 'fruit': 3356, 'ft': 3357, 'ftc': 3358, 'fuel': 3359, 'fueled': 3360, 'fuels': 3361, 'fujairah': 3362, 'fulfill': 3363, 'full': 3364, 'fuller': 3365, 'fully': 3366, 'function': 3367, 'functioning': 3368, 'fund': 3369, 'fundamental': 3370, 'fundamentally': 3371, 'fundamentals': 3372, 'funded': 3373, 'funding': 3374, 'funds': 3375, 'further': 3376, 'furthermore': 3377, 'future': 3378, 'futures': 3379, 'g': 3380, 'gabes': 3381, 'gabon': 3382, 'gabonese': 3383, 'gaf': 3384, 'gain': 3385, 'gained': 3386, 'gains': 3387, 'gallon': 3388, 'galo': 3389, 'gambell': 3390, 'game': 3391, 'gannet': 3392, 'gao': 3393, 'gap': 3394, 'gaping': 3395, 'gaps': 3396, 'garcia': 3397, 'gareth': 3398, 'garo': 3399, 'garrone': 3400, 'gary': 3401, 'gas': 3402, 'gasoil': 3403, 'gasoline': 3404, 'gaspar': 3405, 'gasper': 3406, 'gather': 3407, 'gathered': 3408, 'gathering': 3409, 'gathers': 3410, 'gatt': 3411, 'gauge': 3412, 'gaughan': 3413, 'gauntlet': 3414, 'gaurantees': 3415, 'gave': 3416, 'gb': 3417, 'gcc': 3418, 'gear': 3419, 'gebang': 3420, 'general': 3421, 'generally': 3422, 'generate': 3423, 'generated': 3424, 'generating': 3425, 'generous': 3426, 'geneva': 3427, 'gennady': 3428, 'geodyne': 3429, 'geoffrey': 3430, 'geographic': 3431, 'geolog': 3432, 'geologic': 3433, 'geological': 3434, 'geophysical': 3435, 'geophysicists': 3436, 'george': 3437, 'georgia': 3438, 'gerasimov': 3439, 'german': 3440, 'germany': 3441, 'get': 3442, 'gets': 3443, 'getting': 3444, 'getty': 3445, 'ghana': 3446, 'ghanaian': 3447, 'gholamreza': 3448, 'giant': 3449, 'giants': 3450, 'gidgealpa': 3451, 'gigantic': 3452, 'gil': 3453, 'gippsland': 3454, 'giuliani': 3455, 'give': 3456, 'given': 3457, 'gives': 3458, 'giving': 3459, 'glamorous': 3460, 'glenn': 3461, 'global': 3462, 'globalization': 3463, 'glut': 3464, 'gmt': 3465, 'go': 3466, 'goal': 3467, 'goals': 3468, 'gobert': 3469, 'goc': 3470, 'god': 3471, 'goes': 3472, 'going': 3473, 'gold': 3474, 'golden': 3475, 'goldman': 3476, 'goldston': 3477, 'gomes': 3478, 'gone': 3479, 'good': 3480, 'goode': 3481, 'goods': 3482, 'goodyear': 3483, 'gop': 3484, 'gorbachev': 3485, 'gordon': 3486, 'gos': 3487, 'gosper': 3488, 'got': 3489, 'gotaas': 3490, 'gothenburg': 3491, 'gotlf': 3492, 'goverment': 3493, 'government': 3494, 'governmental': 3495, 'governments': 3496, 'governor': 3497, 'govett': 3498, 'govt': 3499, 'gra': 3500, 'grab': 3501, 'grace': 3502, 'grade': 3503, 'grades': 3504, 'gradual': 3505, 'gradually': 3506, 'graham': 3507, 'grain': 3508, 'grandmarais': 3509, 'grangemouth': 3510, 'granite': 3511, 'granted': 3512, 'granting': 3513, 'granule': 3514, 'graven': 3515, 'gravity': 3516, 'great': 3517, 'greater': 3518, 'greatest': 3519, 'greatly': 3520, 'greece': 3521, 'greek': 3522, 'greeks': 3523, 'green': 3524, 'greene': 3525, 'greenshields': 3526, 'greenwich': 3527, 'greeted': 3528, 'grievances': 3529, 'grieveson': 3530, 'grips': 3531, 'grisanti': 3532, 'gross': 3533, 'ground': 3534, 'grounds': 3535, 'group': 3536, 'groups': 3537, 'grow': 3538, 'growing': 3539, 'grows': 3540, 'growth': 3541, 'gsp': 3542, 'gsps': 3543, 'gt': 3544, 'guarantee': 3545, 'guaranteed': 3546, 'guarantees': 3547, 'guaranty': 3548, 'guard': 3549, 'guarded': 3550, 'guarding': 3551, 'guards': 3552, 'guasare': 3553, 'guayaquil': 3554, 'guerard': 3555, 'guerrilla': 3556, 'guided': 3557, 'guilermno': 3558, 'guillermo': 3559, 'guinea': 3560, 'guinean': 3561, 'gulf': 3562, 'gullfaks': 3563, 'gunboat': 3564, 'gunboats': 3565, 'gunes': 3566, 'gunships': 3567, 'guven': 3568, 'guzman': 3569, 'h': 3570, 'haber': 3571, 'had': 3572, 'hadi': 3573, 'hague': 3574, 'hailed': 3575, 'hair': 3576, 'hal': 3577, 'halefoglu': 3578, 'halefolu': 3579, 'half': 3580, 'halifax': 3581, 'hall': 3582, 'halliburton': 3583, 'halt': 3584, 'halted': 3585, 'haltenbanken': 3586, 'halting': 3587, 'halvorsen': 3588, 'hamilton': 3589, 'haml': 3590, 'hammering': 3591, 'hampered': 3592, 'hamza': 3593, 'hand': 3594, 'handle': 3595, 'handles': 3596, 'hands': 3597, 'hanke': 3598, 'hanover': 3599, 'hans': 3600, 'hansen': 3601, 'happen': 3602, 'happened': 3603, 'happens': 3604, 'happy': 3605, 'harbors': 3606, 'harbour': 3607, 'hard': 3608, 'harder': 3609, 'hardest': 3610, 'hardjoko': 3611, 'hardship': 3612, 'hardware': 3613, 'harilaos': 3614, 'harlan': 3615, 'harm': 3616, 'harmful': 3617, 'harming': 3618, 'harms': 3619, 'harold': 3620, 'harrington': 3621, 'harris': 3622, 'harrison': 3623, 'hartley': 3624, 'harvard': 3625, 'harvest': 3626, 'has': 3627, 'hashemi': 3628, 'haslam': 3629, 'hasn': 3630, 'hassan': 3631, 'hasty': 3632, 'hate': 3633, 'hatfield': 3634, 'haul': 3635, 'have': 3636, 'haven': 3637, 'having': 3638, 'havoc': 3639, 'hawaii': 3640, 'hawaiian': 3641, 'hawk': 3642, 'hawks': 3643, 'haynes': 3644, 'he': 3645, 'head': 3646, 'headed': 3647, 'heading': 3648, 'headlined': 3649, 'headlines': 3650, 'headquarters': 3651, 'heads': 3652, 'heady': 3653, 'health': 3654, 'healthy': 3655, 'hear': 3656, 'heard': 3657, 'hearing': 3658, 'heart': 3659, 'hearts': 3660, 'heat': 3661, 'heated': 3662, 'heating': 3663, 'heavier': 3664, 'heaviest': 3665, 'heavily': 3666, 'heavy': 3667, 'hector': 3668, 'hedge': 3669, 'hedged': 3670, 'heeled': 3671, 'hegemonistic': 3672, 'heidrun': 3673, 'heightened': 3674, 'held': 3675, 'helicopter': 3676, 'helicopters': 3677, 'helle': 3678, 'helmut': 3679, 'help': 3680, 'helped': 3681, 'helpful': 3682, 'helping': 3683, 'helps': 3684, 'hemisphere': 3685, 'hemminghaus': 3686, 'henceforth': 3687, 'heng': 3688, 'henley': 3689, 'henrique': 3690, 'henry': 3691, 'her': 3692, 'here': 3693, 'hereby': 3694, 'herington': 3695, 'hernandez': 3696, 'herold': 3697, 'herrington': 3698, 'hess': 3699, 'heyman': 3700, 'hfag': 3701, 'hibernia': 3702, 'high': 3703, 'higher': 3704, 'highest': 3705, 'highlighted': 3706, 'highly': 3707, 'highs': 3708, 'hike': 3709, 'hikes': 3710, 'hill': 3711, 'hills': 3712, 'him': 3713, 'himself': 3714, 'hinder': 3715, 'hinted': 3716, 'hints': 3717, 'hiring': 3718, 'his': 3719, 'hisham': 3720, 'hispanoil': 3721, 'historic': 3722, 'historical': 3723, 'history': 3724, 'hit': 3725, 'hitting': 3726, 'ho': 3727, 'hoare': 3728, 'hodel': 3729, 'hodges': 3730, 'hoechst': 3731, 'hoel': 3732, 'hoenmans': 3733, 'hoffman': 3734, 'hogs': 3735, 'hojatoleslam': 3736, 'hold': 3737, 'holders': 3738, 'holding': 3739, 'holdings': 3740, 'holds': 3741, 'holes': 3742, 'holiday': 3743, 'holidays': 3744, 'holmes': 3745, 'home': 3746, 'homeland': 3747, 'homeless': 3748, 'homes': 3749, 'hondo': 3750, 'honolulu': 3751, 'honour': 3752, 'hook': 3753, 'hope': 3754, 'hoped': 3755, 'hopes': 3756, 'hoping': 3757, 'horde': 3758, 'hormuz': 3759, 'horrific': 3760, 'hossein': 3761, 'hostage': 3762, 'hostile': 3763, 'hostilities': 3764, 'hostitilies': 3765, 'hotels': 3766, 'houlder': 3767, 'hour': 3768, 'hours': 3769, 'house': 3770, 'housed': 3771, 'houses': 3772, 'housing': 3773, 'houston': 3774, 'hover': 3775, 'hovers': 3776, 'how': 3777, 'howard': 3778, 'howe': 3779, 'however': 3780, 'hrs': 3781, 'ht': 3782, 'hua': 3783, 'huge': 3784, 'hugely': 3785, 'huges': 3786, 'hugh': 3787, 'hughes': 3788, 'huh': 3789, 'humanistic': 3790, 'hundred': 3791, 'hundreds': 3792, 'hunting': 3793, 'huntington': 3794, 'hurdles': 3795, 'hurghada': 3796, 'hurriyet': 3797, 'hurt': 3798, 'hurtado': 3799, 'hurting': 3800, 'hussein': 3801, 'huts': 3802, 'hutton': 3803, 'hydraulic': 3804, 'hydro': 3805, 'hydrocal': 3806, 'hydrocarbon': 3807, 'hydrocarbons': 3808, 'hydrocracker': 3809, 'hydrodealkylation': 3810, 'hydrotreater': 3811, 'hyman': 3812, 'hypothesis': 3813, 'i': 3814, 'ia': 3815, 'iagifu': 3816, 'ian': 3817, 'ibj': 3818, 'ibjt': 3819, 'ibn': 3820, 'ibrahim': 3821, 'icahn': 3822, 'ice': 3823, 'icebreaker': 3824, 'iceland': 3825, 'icg': 3826, 'ichan': 3827, 'idea': 3828, 'ideal': 3829, 'ideas': 3830, 'identical': 3831, 'identified': 3832, 'identify': 3833, 'idled': 3834, 'idling': 3835, 'idrocarburi': 3836, 'iea': 3837, 'if': 3838, 'ifs': 3839, 'ignore': 3840, 'ignored': 3841, 'ii': 3842, 'iia': 3843, 'iit': 3844, 'ike': 3845, 'ilacqua': 3846, 'ilaqua': 3847, 'ill': 3848, 'illegal': 3849, 'illegally': 3850, 'illinois': 3851, 'illustrating': 3852, 'image': 3853, 'imagine': 3854, 'immediate': 3855, 'immediately': 3856, 'imminent': 3857, 'imo': 3858, 'impact': 3859, 'imperative': 3860, 'imperial': 3861, 'impetus': 3862, 'implement': 3863, 'implementation': 3864, 'implemented': 3865, 'implicate': 3866, 'implication': 3867, 'implications': 3868, 'implicit': 3869, 'implied': 3870, 'imply': 3871, 'implying': 3872, 'import': 3873, 'importance': 3874, 'important': 3875, 'imported': 3876, 'importing': 3877, 'imports': 3878, 'impose': 3879, 'imposed': 3880, 'imposition': 3881, 'impossible': 3882, 'impressed': 3883, 'impression': 3884, 'improbability': 3885, 'improperly': 3886, 'improve': 3887, 'improved': 3888, 'improvement': 3889, 'improvements': 3890, 'improving': 3891, 'impunity': 3892, 'in': 3893, 'ina': 3894, 'inability': 3895, 'inaction': 3896, 'inactive': 3897, 'inadequate': 3898, 'inadquate': 3899, 'inaugurated': 3900, 'inauguration': 3901, 'inc': 3902, 'incentive': 3903, 'incentives': 3904, 'inch': 3905, 'inches': 3906, 'incident': 3907, 'inclined': 3908, 'include': 3909, 'included': 3910, 'includes': 3911, 'including': 3912, 'inclusion': 3913, 'income': 3914, 'incomes': 3915, 'incorporating': 3916, 'incorrectly': 3917, 'increase': 3918, 'increased': 3919, 'increases': 3920, 'increasing': 3921, 'increasingly': 3922, 'incremental': 3923, 'incurred': 3924, 'indeed': 3925, 'indefinite': 3926, 'indefinitely': 3927, 'indefintiely': 3928, 'indepedent': 3929, 'indepedents': 3930, 'independent': 3931, 'independents': 3932, 'indepndent': 3933, 'index': 3934, 'india': 3935, 'indian': 3936, 'indiana': 3937, 'indicate': 3938, 'indicated': 3939, 'indicates': 3940, 'indicating': 3941, 'indication': 3942, 'indications': 3943, 'indicator': 3944, 'indicators': 3945, 'indidate': 3946, 'indigenous': 3947, 'indirect': 3948, 'indirectly': 3949, 'individual': 3950, 'individuals': 3951, 'indonesia': 3952, 'indonesian': 3953, 'induced': 3954, 'industrial': 3955, 'industrialisation': 3956, 'industrialised': 3957, 'industrialized': 3958, 'industrier': 3959, 'industries': 3960, 'industry': 3961, 'industrywide': 3962, 'inefficient': 3963, 'inelectra': 3964, 'inequalities': 3965, 'inevitable': 3966, 'inevitably': 3967, 'infantry': 3968, 'infill': 3969, 'inflation': 3970, 'influence': 3971, 'influenced': 3972, 'influences': 3973, 'influential': 3974, 'informal': 3975, 'information': 3976, 'informed': 3977, 'infrastructure': 3978, 'infringed': 3979, 'ingolstadt': 3980, 'inherent': 3981, 'initial': 3982, 'initialled': 3983, 'initially': 3984, 'initiate': 3985, 'initiated': 3986, 'initiative': 3987, 'inject': 3988, 'injecting': 3989, 'injection': 3990, 'injunction': 3991, 'injured': 3992, 'injuries': 3993, 'injury': 3994, 'inland': 3995, 'inoc': 3996, 'inoperative': 3997, 'inquiries': 3998, 'insecure': 3999, 'inside': 4000, 'insignificant': 4001, 'insisted': 4002, 'insisting': 4003, 'inspected': 4004, 'inspecting': 4005, 'inspire': 4006, 'instability': 4007, 'installations': 4008, 'installed': 4009, 'installs': 4010, 'instalment': 4011, 'instances': 4012, 'instead': 4013, 'institute': 4014, 'institutional': 4015, 'institutions': 4016, 'insufficient': 4017, 'insurance': 4018, 'insure': 4019, 'int': 4020, 'integral': 4021, 'integrated': 4022, 'intelligence': 4023, 'intend': 4024, 'intended': 4025, 'intends': 4026, 'intense': 4027, 'intensification': 4028, 'intensify': 4029, 'intensive': 4030, 'intent': 4031, 'intention': 4032, 'intentions': 4033, 'inter': 4034, 'interbank': 4035, 'interest': 4036, 'interested': 4037, 'interesting': 4038, 'interests': 4039, 'interfere': 4040, 'interfered': 4041, 'interference': 4042, 'interferring': 4043, 'interfuel': 4044, 'intergroup': 4045, 'interior': 4046, 'intermediate': 4047, 'intermediates': 4048, 'internal': 4049, 'internally': 4050, 'internation': 4051, 'international': 4052, 'internationally': 4053, 'interprovincial': 4054, 'intervene': 4055, 'intervention': 4056, 'interview': 4057, 'interviewer': 4058, 'intimidation': 4059, 'into': 4060, 'introduce': 4061, 'introduced': 4062, 'invading': 4063, 'inventories': 4064, 'inventory': 4065, 'invest': 4066, 'invested': 4067, 'investigate': 4068, 'investigated': 4069, 'investigating': 4070, 'investing': 4071, 'investment': 4072, 'investments': 4073, 'investor': 4074, 'investors': 4075, 'invitation': 4076, 'invited': 4077, 'inviting': 4078, 'invoked': 4079, 'involve': 4080, 'involved': 4081, 'involvement': 4082, 'involves': 4083, 'involving': 4084, 'iran': 4085, 'iranan': 4086, 'iranian': 4087, 'iranians': 4088, 'iraq': 4089, 'iraqi': 4090, 'iraqis': 4091, 'irna': 4092, 'iron': 4093, 'irreversible': 4094, 'is': 4095, 'isab': 4096, 'isam': 4097, 'islamic': 4098, 'island': 4099, 'islands': 4100, 'isle': 4101, 'isn': 4102, 'isnlikely': 4103, 'isolated': 4104, 'isomerization': 4105, 'issam': 4106, 'issue': 4107, 'issued': 4108, 'issues': 4109, 'issuing': 4110, 'isthmus': 4111, 'it': 4112, 'italian': 4113, 'italiana': 4114, 'italy': 4115, 'items': 4116, 'itoh': 4117, 'its': 4118, 'itself': 4119, 'j': 4120, 'jaap': 4121, 'jabbar': 4122, 'jack': 4123, 'jacket': 4124, 'jackson': 4125, 'jackup': 4126, 'jail': 4127, 'jaime': 4128, 'jakarta': 4129, 'jamaica': 4130, 'jamal': 4131, 'james': 4132, 'jan': 4133, 'janeiro': 4134, 'january': 4135, 'japan': 4136, 'japanese': 4137, 'japex': 4138, 'jarl': 4139, 'java': 4140, 'javier': 4141, 'jawa': 4142, 'jawboning': 4143, 'jay': 4144, 'jeapordy': 4145, 'jeddah': 4146, 'jefferson': 4147, 'jeffrey': 4148, 'jeopardises': 4149, 'jeopardized': 4150, 'jerome': 4151, 'jersey': 4152, 'jet': 4153, 'jets': 4154, 'jetty': 4155, 'jim': 4156, 'jlit': 4157, 'joaquin': 4158, 'job': 4159, 'jobs': 4160, 'joe': 4161, 'jofree': 4162, 'john': 4163, 'johnson': 4164, 'johnston': 4165, 'join': 4166, 'joined': 4167, 'joint': 4168, 'jointly': 4169, 'jolfa': 4170, 'jonahi': 4171, 'jordan': 4172, 'jorge': 4173, 'jose': 4174, 'journal': 4175, 'jpm': 4176, 'ju': 4177, 'juan': 4178, 'jubail': 4179, 'judgement': 4180, 'judgment': 4181, 'judy': 4182, 'juha': 4183, 'jukardi': 4184, 'july': 4185, 'jumardi': 4186, 'jump': 4187, 'jumped': 4188, 'jumps': 4189, 'jun': 4190, 'june': 4191, 'jungle': 4192, 'jurisdictions': 4193, 'jury': 4194, 'just': 4195, 'justice': 4196, 'justifiable': 4197, 'justification': 4198, 'justified': 4199, 'justify': 4200, 'jute': 4201, 'k': 4202, 'kamal': 4203, 'kan': 4204, 'kandeel': 4205, 'kansas': 4206, 'kapsis': 4207, 'kaputin': 4208, 'kaya': 4209, 'keen': 4210, 'keep': 4211, 'keeping': 4212, 'keeps': 4213, 'keg': 4214, 'kelley': 4215, 'kellog': 4216, 'kellogg': 4217, 'kelvin': 4218, 'kendall': 4219, 'kenneth': 4220, 'kentucky': 4221, 'kenya': 4222, 'kenyan': 4223, 'kept': 4224, 'kerir': 4225, 'kern': 4226, 'kerr': 4227, 'kerridge': 4228, 'kevan': 4229, 'key': 4230, 'khadeir': 4231, 'khafji': 4232, 'khail': 4233, 'khalaf': 4234, 'khalifa': 4235, 'khamenei': 4236, 'kharg': 4237, 'khark': 4238, 'kharrazi': 4239, 'khatib': 4240, 'khor': 4241, 'kidd': 4242, 'kidnappings': 4243, 'kill': 4244, 'killed': 4245, 'killing': 4246, 'kilolitres': 4247, 'kilometers': 4248, 'kilometres': 4249, 'kilowatt': 4250, 'kina': 4251, 'kind': 4252, 'kinds': 4253, 'king': 4254, 'kingdom': 4255, 'kirkuk': 4256, 'kittiwake': 4257, 'kitty': 4258, 'kl': 4259, 'klaipeda': 4260, 'klein': 4261, 'kleinwort': 4262, 'klootwijk': 4263, 'kly': 4264, 'km': 4265, 'kmg': 4266, 'kms': 4267, 'knew': 4268, 'know': 4269, 'knowing': 4270, 'known': 4271, 'knows': 4272, 'knuettel': 4273, 'kohlberg': 4274, 'korea': 4275, 'korean': 4276, 'koreans': 4277, 'kotc': 4278, 'kotowski': 4279, 'krapels': 4280, 'kravis': 4281, 'kreir': 4282, 'krutikhin': 4283, 'kuna': 4284, 'kuwait': 4285, 'kuwaiti': 4286, 'kuwaitis': 4287, 'kvaerner': 4288, 'kvio': 4289, 'l': 4290, 'l63': 4291, 'la': 4292, 'labor': 4293, 'labour': 4294, 'labrador': 4295, 'lack': 4296, 'lacked': 4297, 'lacks': 4298, 'laden': 4299, 'lag': 4300, 'lagging': 4301, 'lago': 4302, 'lagos': 4303, 'laid': 4304, 'laiohe': 4305, 'lajous': 4306, 'lake': 4307, 'lambert': 4308, 'land': 4309, 'landed': 4310, 'landing': 4311, 'lands': 4312, 'landslide': 4313, 'landslides': 4314, 'lanes': 4315, 'langasco': 4316, 'langsa': 4317, 'language': 4318, 'lanka': 4319, 'lapse': 4320, 'lara': 4321, 'large': 4322, 'largely': 4323, 'larger': 4324, 'largest': 4325, 'larsen': 4326, 'lasmo': 4327, 'last': 4328, 'lasting': 4329, 'late': 4330, 'lately': 4331, 'later': 4332, 'latest': 4333, 'latin': 4334, 'latter': 4335, 'launch': 4336, 'launched': 4337, 'launchers': 4338, 'launching': 4339, 'lavan': 4340, 'lavera': 4341, 'law': 4342, 'lawmakers': 4343, 'laws': 4344, 'lawson': 4345, 'lawsuit': 4346, 'lawsuits': 4347, 'lawton': 4348, 'lay': 4349, 'layers': 4350, 'laying': 4351, 'layoffs': 4352, 'lazaro': 4353, 'lazier': 4354, 'lead': 4355, 'leader': 4356, 'leaders': 4357, 'leadership': 4358, 'leading': 4359, 'leak': 4360, 'leakage': 4361, 'leal': 4362, 'leaner': 4363, 'leap': 4364, 'lear': 4365, 'learn': 4366, 'learned': 4367, 'lease': 4368, 'leaseback': 4369, 'leased': 4370, 'leaseholds': 4371, 'leases': 4372, 'leasing': 4373, 'least': 4374, 'leave': 4375, 'leaves': 4376, 'leaving': 4377, 'lebanon': 4378, 'leblanc': 4379, 'led': 4380, 'lee': 4381, 'leeway': 4382, 'left': 4383, 'leftist': 4384, 'leftwich': 4385, 'leg': 4386, 'legal': 4387, 'legendary': 4388, 'legislated': 4389, 'legislation': 4390, 'legitimate': 4391, 'lehman': 4392, 'leiner': 4393, 'lend': 4394, 'lenders': 4395, 'lending': 4396, 'length': 4397, 'lengthy': 4398, 'lent': 4399, 'leon': 4400, 'leroux': 4401, 'less': 4402, 'lessen': 4403, 'lesser': 4404, 'lesson': 4405, 'lessons': 4406, 'let': 4407, 'letter': 4408, 'letters': 4409, 'level': 4410, 'levels': 4411, 'leveraged': 4412, 'levesque': 4413, 'levy': 4414, 'lewis': 4415, 'liabilities': 4416, 'liability': 4417, 'liberal': 4418, 'liberalise': 4419, 'liberalised': 4420, 'liberation': 4421, 'liberian': 4422, 'libya': 4423, 'libyan': 4424, 'licence': 4425, 'licences': 4426, 'license': 4427, 'licensed': 4428, 'licenses': 4429, 'licensing': 4430, 'lichtbalu': 4431, 'lichtblau': 4432, 'lie': 4433, 'liedtke': 4434, 'liens': 4435, 'lies': 4436, 'lieutenant': 4437, 'life': 4438, 'lifeline': 4439, 'lifetime': 4440, 'lift': 4441, 'lifted': 4442, 'lifters': 4443, 'lifting': 4444, 'liftings': 4445, 'lifts': 4446, 'light': 4447, 'lighter': 4448, 'lightest': 4449, 'ligigation': 4450, 'like': 4451, 'likelihood': 4452, 'likely': 4453, 'limit': 4454, 'limitation': 4455, 'limited': 4456, 'limiting': 4457, 'limits': 4458, 'limon': 4459, 'line': 4460, 'lines': 4461, 'lining': 4462, 'link': 4463, 'linked': 4464, 'linking': 4465, 'links': 4466, 'linkup': 4467, 'liquefied': 4468, 'liquid': 4469, 'liquidated': 4470, 'liquidity': 4471, 'liquids': 4472, 'liquified': 4473, 'list': 4474, 'listening': 4475, 'lit': 4476, 'literally': 4477, 'little': 4478, 'liu': 4479, 'live': 4480, 'lived': 4481, 'livestock': 4482, 'living': 4483, 'll': 4484, 'lloyd': 4485, 'lloyds': 4486, 'llx': 4487, 'load': 4488, 'loaded': 4489, 'loading': 4490, 'loan': 4491, 'loaned': 4492, 'loans': 4493, 'local': 4494, 'located': 4495, 'location': 4496, 'lock': 4497, 'lodged': 4498, 'london': 4499, 'long': 4500, 'longer': 4501, 'longest': 4502, 'longitude': 4503, 'longshot': 4504, 'look': 4505, 'looked': 4506, 'looking': 4507, 'looks': 4508, 'loophole': 4509, 'lord': 4510, 'lorries': 4511, 'lose': 4512, 'losing': 4513, 'loss': 4514, 'losses': 4515, 'lost': 4516, 'lot': 4517, 'louisiana': 4518, 'lousiana': 4519, 'louw': 4520, 'low': 4521, 'lower': 4522, 'lowered': 4523, 'lowering': 4524, 'lowers': 4525, 'lowest': 4526, 'lows': 4527, 'lpg': 4528, 'lpp': 4529, 'lt': 4530, 'ltd': 4531, 'lubricant': 4532, 'luck': 4533, 'lucky': 4534, 'lufeng': 4535, 'luis': 4536, 'lukman': 4537, 'lull': 4538, 'lunch': 4539, 'lunday': 4540, 'lured': 4541, 'lusinchi': 4542, 'luxembourg': 4543, 'lying': 4544, 'lynch': 4545, 'm': 4546, 'maanagement': 4547, 'machinegun': 4548, 'machinery': 4549, 'maciej': 4550, 'mackenzie': 4551, 'macmillan': 4552, 'mad': 4553, 'madagascar': 4554, 'made': 4555, 'madrid': 4556, 'maffei': 4557, 'magangue': 4558, 'magazine': 4559, 'magnitude': 4560, 'main': 4561, 'mainly': 4562, 'maintain': 4563, 'maintained': 4564, 'maintaining': 4565, 'maintains': 4566, 'maintenance': 4567, 'majed': 4568, 'majeure': 4569, 'major': 4570, 'majority': 4571, 'majors': 4572, 'make': 4573, 'makers': 4574, 'makes': 4575, 'making': 4576, 'makri': 4577, 'malaysia': 4578, 'malaysian': 4579, 'malmgreen': 4580, 'man': 4581, 'mana': 4582, 'manage': 4583, 'managed': 4584, 'management': 4585, 'manager': 4586, 'managers': 4587, 'managing': 4588, 'mandate': 4589, 'mandatory': 4590, 'maneuvers': 4591, 'manganese': 4592, 'manhattan': 4593, 'manipulate': 4594, 'mankind': 4595, 'manner': 4596, 'manning': 4597, 'manpower': 4598, 'manuel': 4599, 'manufacture': 4600, 'manufacturer': 4601, 'manufacturers': 4602, 'manufactures': 4603, 'manufacturing': 4604, 'many': 4605, 'map': 4606, 'mar': 4607, 'maracaibo': 4608, 'marathon': 4609, 'marcel': 4610, 'march': 4611, 'marco': 4612, 'margaret': 4613, 'margin': 4614, 'marginal': 4615, 'marginally': 4616, 'margins': 4617, 'margoshes': 4618, 'maria': 4619, 'marine': 4620, 'marines': 4621, 'marion': 4622, 'maritime': 4623, 'mark': 4624, 'marker': 4625, 'market': 4626, 'marketed': 4627, 'marketer': 4628, 'marketers': 4629, 'marketing': 4630, 'marketplace': 4631, 'markets': 4632, 'marks': 4633, 'marlin': 4634, 'marshall': 4635, 'martime': 4636, 'martin': 4637, 'masoud': 4638, 'mass': 4639, 'masse': 4640, 'massing': 4641, 'massive': 4642, 'massy': 4643, 'match': 4644, 'matched': 4645, 'matching': 4646, 'matchmaking': 4647, 'material': 4648, 'materials': 4649, 'materialy': 4650, 'materiel': 4651, 'matrix': 4652, 'matter': 4653, 'maturation': 4654, 'maurizio': 4655, 'mawson': 4656, 'maximize': 4657, 'maximum': 4658, 'may': 4659, 'maya': 4660, 'maybe': 4661, 'mccarthy': 4662, 'mccormick': 4663, 'mcdermott': 4664, 'mcentee': 4665, 'mcf': 4666, 'mcfadden': 4667, 'mcgee': 4668, 'mcginley': 4669, 'mcivor': 4670, 'mckibbin': 4671, 'mckiernan': 4672, 'mckinley': 4673, 'mcmillan': 4674, 'mcmurray': 4675, 'mdr': 4676, 'me': 4677, 'meagre': 4678, 'mean': 4679, 'meaningful': 4680, 'means': 4681, 'meant': 4682, 'meantime': 4683, 'meanwhile': 4684, 'meares': 4685, 'measure': 4686, 'measured': 4687, 'measures': 4688, 'meat': 4689, 'mechanical': 4690, 'med': 4691, 'mede': 4692, 'media': 4693, 'median': 4694, 'mediation': 4695, 'mediator': 4696, 'mediterranean': 4697, 'medium': 4698, 'mees': 4699, 'meet': 4700, 'meeting': 4701, 'meetings': 4702, 'meets': 4703, 'megalitre': 4704, 'megalitres': 4705, 'mehdi': 4706, 'mellili': 4707, 'member': 4708, 'members': 4709, 'membership': 4710, 'men': 4711, 'mena': 4712, 'mention': 4713, 'mentioned': 4714, 'mepsi': 4715, 'mer': 4716, 'mercalli': 4717, 'mercantile': 4718, 'merchant': 4719, 'merchants': 4720, 'mereenie': 4721, 'merge': 4722, 'merger': 4723, 'mergers': 4724, 'merging': 4725, 'merrill': 4726, 'mesa': 4727, 'message': 4728, 'met': 4729, 'metal': 4730, 'metals': 4731, 'meter': 4732, 'meters': 4733, 'method': 4734, 'methods': 4735, 'metre': 4736, 'metrers': 4737, 'metres': 4738, 'metric': 4739, 'metro': 4740, 'mexican': 4741, 'mexicanos': 4742, 'mexico': 4743, 'mhc': 4744, 'michael': 4745, 'michigan': 4746, 'mid': 4747, 'midday': 4748, 'middle': 4749, 'mideast': 4750, 'midland': 4751, 'midyear': 4752, 'might': 4753, 'migrations': 4754, 'mihalis': 4755, 'mike': 4756, 'mikhail': 4757, 'mild': 4758, 'mile': 4759, 'miles': 4760, 'militarily': 4761, 'military': 4762, 'miller': 4763, 'million': 4764, 'milliyet': 4765, 'mills': 4766, 'miltary': 4767, 'minas': 4768, 'minatome': 4769, 'mind': 4770, 'minds': 4771, 'mine': 4772, 'mineral': 4773, 'minerals': 4774, 'miners': 4775, 'mines': 4776, 'minesweepers': 4777, 'minimal': 4778, 'minimised': 4779, 'minimized': 4780, 'minimum': 4781, 'minimums': 4782, 'mining': 4783, 'minister': 4784, 'ministerial': 4785, 'ministers': 4786, 'ministries': 4787, 'ministry': 4788, 'minority': 4789, 'minsitry': 4790, 'minus': 4791, 'minute': 4792, 'mir': 4793, 'miraflores': 4794, 'mirror': 4795, 'mirrored': 4796, 'misleading': 4797, 'missed': 4798, 'missile': 4799, 'missiles': 4800, 'mission': 4801, 'missions': 4802, 'mississippi': 4803, 'missouri': 4804, 'mistake': 4805, 'mistakes': 4806, 'misunderstandings': 4807, 'mitchell': 4808, 'miti': 4809, 'mitigate': 4810, 'mitsotakis': 4811, 'mixed': 4812, 'mizrahi': 4813, 'mlc': 4814, 'mln': 4815, 'mlotok': 4816, 'mlp': 4817, 'mm': 4818, 'mmtc': 4819, 'mnd': 4820, 'mob': 4821, 'mobil': 4822, 'mobile': 4823, 'mock': 4824, 'moderate': 4825, 'modern': 4826, 'modest': 4827, 'modification': 4828, 'modifications': 4829, 'modified': 4830, 'modular': 4831, 'modules': 4832, 'moere': 4833, 'mohammed': 4834, 'moi': 4835, 'molding': 4836, 'moment': 4837, 'momentary': 4838, 'momentum': 4839, 'monday': 4840, 'monetary': 4841, 'money': 4842, 'mongstad': 4843, 'monitor': 4844, 'monitored': 4845, 'monitoring': 4846, 'monopolies': 4847, 'monopolistic': 4848, 'monsanto': 4849, 'montana': 4850, 'montano': 4851, 'montedison': 4852, 'month': 4853, 'monthly': 4854, 'months': 4855, 'mood': 4856, 'moomba': 4857, 'moonie': 4858, 'mooring': 4859, 'moratorium': 4860, 'more': 4861, 'moreover': 4862, 'morgan': 4863, 'morning': 4864, 'morondava': 4865, 'morris': 4866, 'morton': 4867, 'mosar': 4868, 'moscow': 4869, 'moslems': 4870, 'moss': 4871, 'mossel': 4872, 'most': 4873, 'mostly': 4874, 'mosts': 4875, 'mothball': 4876, 'motion': 4877, 'motivate': 4878, 'motorists': 4879, 'mould': 4880, 'mountains': 4881, 'mounted': 4882, 'mounting': 4883, 'moura': 4884, 'mousavi': 4885, 'moussavar': 4886, 'mouth': 4887, 'move': 4888, 'moved': 4889, 'movement': 4890, 'movements': 4891, 'moves': 4892, 'moving': 4893, 'mr': 4894, 'mt': 4895, 'mtc': 4896, 'much': 4897, 'mud': 4898, 'multi': 4899, 'multinational': 4900, 'multiple': 4901, 'munger': 4902, 'mur': 4903, 'murchison': 4904, 'murphy': 4905, 'murray': 4906, 'musa': 4907, 'muscles': 4908, 'musk': 4909, 'must': 4910, 'my': 4911, 'myself': 4912, 'n': 4913, 'na': 4914, 'nabi': 4915, 'naccowlah': 4916, 'nacional': 4917, 'naftagas': 4918, 'naftaplin': 4919, 'nahayan': 4920, 'naif': 4921, 'nakasone': 4922, 'name': 4923, 'named': 4924, 'namely': 4925, 'names': 4926, 'namibia': 4927, 'naming': 4928, 'nance': 4929, 'naphtha': 4930, 'napo': 4931, 'nar': 4932, 'narrow': 4933, 'narrower': 4934, 'narrowest': 4935, 'narvaez': 4936, 'nassau': 4937, 'nation': 4938, 'national': 4939, 'nationale': 4940, 'nationalists': 4941, 'nationalities': 4942, 'nationality': 4943, 'nationally': 4944, 'nations': 4945, 'nationwide': 4946, 'native': 4947, 'natives': 4948, 'nato': 4949, 'natural': 4950, 'naturally': 4951, 'nature': 4952, 'nauman': 4953, 'naval': 4954, 'navigating': 4955, 'navigation': 4956, 'navy': 4957, 'nazer': 4958, 'nazionale': 4959, 'nazir': 4960, 'nazmi': 4961, 'nbc': 4962, 'ne': 4963, 'nea': 4964, 'neale': 4965, 'near': 4966, 'nearby': 4967, 'nearer': 4968, 'nearing': 4969, 'nearly': 4970, 'necessarily': 4971, 'necessary': 4972, 'necessitate': 4973, 'necessity': 4974, 'need': 4975, 'needed': 4976, 'needs': 4977, 'negates': 4978, 'negative': 4979, 'negatively': 4980, 'negotiable': 4981, 'negotiate': 4982, 'negotiates': 4983, 'negotiating': 4984, 'negotiations': 4985, 'negotiators': 4986, 'neighbour': 4987, 'neighbouring': 4988, 'neighbours': 4989, 'neither': 4990, 'neka': 4991, 'nemours': 4992, 'neogtiating': 4993, 'neoy': 4994, 'ner': 4995, 'nerci': 4996, 'nerco': 4997, 'nervous': 4998, 'nervousness': 4999, 'nes': 5000, 'neste': 5001, 'net': 5002, 'netback': 5003, 'netbacks': 5004, 'netherlands': 5005, 'netted': 5006, 'network': 5007, 'networks': 5008, 'neutral': 5009, 'never': 5010, 'new': 5011, 'newfoundland': 5012, 'newhall': 5013, 'newly': 5014, 'news': 5015, 'newsletter': 5016, 'newspaper': 5017, 'newspapers': 5018, 'next': 5019, 'ngls': 5020, 'nhy': 5021, 'nibbling': 5022, 'nicaragua': 5023, 'nicaraguan': 5024, 'niche': 5025, 'nickles': 5026, 'nicol': 5027, 'nicolas': 5028, 'nicosia': 5029, 'nielsen': 5030, 'nigel': 5031, 'nigeria': 5032, 'nigerian': 5033, 'night': 5034, 'nii': 5035, 'nine': 5036, 'nioc': 5037, 'nippon': 5038, 'no': 5039, 'nobody': 5040, 'noise': 5041, 'nominal': 5042, 'nominations': 5043, 'non': 5044, 'nonbelligerent': 5045, 'none': 5046, 'nonetheless': 5047, 'nonperforming': 5048, 'nonsubsidiary': 5049, 'nonutility': 5050, 'nor': 5051, 'norbec': 5052, 'norcem': 5053, 'norcen': 5054, 'nordic': 5055, 'norge': 5056, 'normal': 5057, 'normally': 5058, 'norman': 5059, 'norsk': 5060, 'norske': 5061, 'norte': 5062, 'north': 5063, 'northeast': 5064, 'northeastern': 5065, 'northen': 5066, 'northermost': 5067, 'northern': 5068, 'northstar': 5069, 'northwest': 5070, 'northwestern': 5071, 'norway': 5072, 'norwegian': 5073, 'nosedive': 5074, 'not': 5075, 'notably': 5076, 'note': 5077, 'noted': 5078, 'noteholders': 5079, 'notes': 5080, 'nothing': 5081, 'noticeably': 5082, 'notification': 5083, 'notified': 5084, 'notify': 5085, 'noting': 5086, 'nova': 5087, 'november': 5088, 'novi': 5089, 'now': 5090, 'nowak': 5091, 'nowruz': 5092, 'nowshahr': 5093, 'np': 5094, 'npeeq': 5095, 'nra': 5096, 'nuclear': 5097, 'nueva': 5098, 'nugent': 5099, 'nui': 5100, 'nuisance': 5101, 'number': 5102, 'numbers': 5103, 'nymex': 5104, 'nynas': 5105, 'o': 5106, 'oahu': 5107, 'oak': 5108, 'oakley': 5109, 'oapec': 5110, 'obed': 5111, 'objection': 5112, 'objections': 5113, 'objective': 5114, 'objects': 5115, 'obligated': 5116, 'obligation': 5117, 'obligations': 5118, 'obliged': 5119, 'observed': 5120, 'observer': 5121, 'observers': 5122, 'obtain': 5123, 'obtained': 5124, 'obvious': 5125, 'obviously': 5126, 'occidental': 5127, 'occupants': 5128, 'occupation': 5129, 'occupied': 5130, 'occupy': 5131, 'occupying': 5132, 'occur': 5133, 'occurred': 5134, 'occurring': 5135, 'occurs': 5136, 'ocean': 5137, 'oct': 5138, 'october': 5139, 'oecd': 5140, 'oeien': 5141, 'oel': 5142, 'of': 5143, 'off': 5144, 'offensive': 5145, 'offer': 5146, 'offered': 5147, 'offering': 5148, 'offers': 5149, 'office': 5150, 'officer': 5151, 'offices': 5152, 'official': 5153, 'officially': 5154, 'officials': 5155, 'offload': 5156, 'offs': 5157, 'offset': 5158, 'offsets': 5159, 'offsetting': 5160, 'offshoot': 5161, 'offshore': 5162, 'often': 5163, 'ohio': 5164, 'oil': 5165, 'oilers': 5166, 'oilfied': 5167, 'oilfield': 5168, 'oilfields': 5169, 'oilfileds': 5170, 'oilman': 5171, 'oilmen': 5172, 'oilpatch': 5173, 'oils': 5174, 'oilsands': 5175, 'ok': 5176, 'okesman': 5177, 'okla': 5178, 'oklahoma': 5179, 'ol': 5180, 'old': 5181, 'olieselskab': 5182, 'oljeselskap': 5183, 'oman': 5184, 'omani': 5185, 'omni': 5186, 'omnis': 5187, 'on': 5188, 'once': 5189, 'one': 5190, 'ones': 5191, 'ongc': 5192, 'ongoing': 5193, 'only': 5194, 'onset': 5195, 'onshore': 5196, 'onstream': 5197, 'onto': 5198, 'onwards': 5199, 'oozing': 5200, 'ope': 5201, 'opec': 5202, 'opecna': 5203, 'open': 5204, 'opened': 5205, 'opening': 5206, 'opens': 5207, 'operable': 5208, 'operate': 5209, 'operated': 5210, 'operates': 5211, 'operating': 5212, 'operation': 5213, 'operational': 5214, 'operations': 5215, 'operator': 5216, 'operators': 5217, 'operatorship': 5218, 'operatorships': 5219, 'opertations': 5220, 'opinion': 5221, 'opinions': 5222, 'oppenheimer': 5223, 'opportunities': 5224, 'opportunity': 5225, 'oppose': 5226, 'opposed': 5227, 'opposes': 5228, 'opposing': 5229, 'opposite': 5230, 'opposition': 5231, 'oppposed': 5232, 'optimal': 5233, 'optimism': 5234, 'optimistic': 5235, 'optimistically': 5236, 'optimize': 5237, 'opting': 5238, 'option': 5239, 'options': 5240, 'or': 5241, 'orange': 5242, 'oranje': 5243, 'orbit': 5244, 'orchestrated': 5245, 'orchestrating': 5246, 'order': 5247, 'ordered': 5248, 'orderly': 5249, 'orders': 5250, 'ordinary': 5251, 'ordinate': 5252, 'ore': 5253, 'oreffice': 5254, 'oregon': 5255, 'ores': 5256, 'organiaation': 5257, 'organisation': 5258, 'organised': 5259, 'organization': 5260, 'organizations': 5261, 'organized': 5262, 'orginal': 5263, 'oriented': 5264, 'original': 5265, 'originally': 5266, 'origins': 5267, 'orkin': 5268, 'ors': 5269, 'orthoxylene': 5270, 'orval': 5271, 'osborne': 5272, 'oseberg': 5273, 'osg': 5274, 'oslo': 5275, 'osp': 5276, 'osprey': 5277, 'ostracism': 5278, 'oteiba': 5279, 'oth': 5280, 'other': 5281, 'others': 5282, 'otherwise': 5283, 'ouachita': 5284, 'ouput': 5285, 'our': 5286, 'ours': 5287, 'out': 5288, 'outbreak': 5289, 'outcome': 5290, 'outer': 5291, 'outlay': 5292, 'outlays': 5293, 'outlet': 5294, 'outlined': 5295, 'outlining': 5296, 'outlook': 5297, 'output': 5298, 'outrageous': 5299, 'outright': 5300, 'outside': 5301, 'outsized': 5302, 'outstanding': 5303, 'outweighing': 5304, 'over': 5305, 'overall': 5306, 'overcharges': 5307, 'overcome': 5308, 'overdependence': 5309, 'overdoing': 5310, 'overestimated': 5311, 'overhaul': 5312, 'overhauling': 5313, 'overlifting': 5314, 'overly': 5315, 'overpriced': 5316, 'overproducing': 5317, 'overproduction': 5318, 'overriding': 5319, 'overseas': 5320, 'oversee': 5321, 'overshoot': 5322, 'oversold': 5323, 'oversupplies': 5324, 'overvalued': 5325, 'overwhelming': 5326, 'owed': 5327, 'owen': 5328, 'owing': 5329, 'own': 5330, 'owned': 5331, 'owner': 5332, 'owners': 5333, 'ownership': 5334, 'owning': 5335, 'owns': 5336, 'oxen': 5337, 'oxy': 5338, 'ozal': 5339, 'p': 5340, 'pa': 5341, 'pablo': 5342, 'pace': 5343, 'pacific': 5344, 'pack': 5345, 'package': 5346, 'packages': 5347, 'packers': 5348, 'pact': 5349, 'pads': 5350, 'page': 5351, 'paid': 5352, 'painewebber': 5353, 'painted': 5354, 'paints': 5355, 'pakistan': 5356, 'palace': 5357, 'palestinians': 5358, 'palito': 5359, 'palm': 5360, 'pancanadian': 5361, 'panel': 5362, 'panic': 5363, 'pannzoil': 5364, 'papanderou': 5365, 'papandreou': 5366, 'paper': 5367, 'papua': 5368, 'papuan': 5369, 'par': 5370, 'parachute': 5371, 'paralysed': 5372, 'paralyzed': 5373, 'paramilitary': 5374, 'parana': 5375, 'parcels': 5376, 'pare': 5377, 'pared': 5378, 'parent': 5379, 'parex': 5380, 'paribas': 5381, 'paringa': 5382, 'paris': 5383, 'parish': 5384, 'parity': 5385, 'parliament': 5386, 'parliamentarians': 5387, 'parliamentary': 5388, 'parra': 5389, 'part': 5390, 'partially': 5391, 'partialy': 5392, 'participants': 5393, 'participate': 5394, 'participating': 5395, 'participation': 5396, 'participators': 5397, 'particular': 5398, 'particularly': 5399, 'particulartly': 5400, 'particulary': 5401, 'parties': 5402, 'partitioning': 5403, 'partly': 5404, 'partner': 5405, 'partners': 5406, 'partnership': 5407, 'partnerships': 5408, 'parts': 5409, 'party': 5410, 'pass': 5411, 'passed': 5412, 'passes': 5413, 'past': 5414, 'patch': 5415, 'path': 5416, 'paths': 5417, 'patient': 5418, 'patricio': 5419, 'patrick': 5420, 'patrol': 5421, 'patrolling': 5422, 'pattern': 5423, 'patterns': 5424, 'paul': 5425, 'paulo': 5426, 'paulsboro': 5427, 'paust': 5428, 'pave': 5429, 'paved': 5430, 'pay': 5431, 'payable': 5432, 'paying': 5433, 'payment': 5434, 'payments': 5435, 'payout': 5436, 'payroll': 5437, 'pays': 5438, 'pazzionotto': 5439, 'pbt': 5440, 'pciac': 5441, 'pct': 5442, 'pdsva': 5443, 'pdvsa': 5444, 'peace': 5445, 'peaceful': 5446, 'peak': 5447, 'peaked': 5448, 'peaks': 5449, 'pearl': 5450, 'peerless': 5451, 'pegged': 5452, 'peking': 5453, 'pemex': 5454, 'penalty': 5455, 'pending': 5456, 'penetrated': 5457, 'peninsula': 5458, 'pennsylvania': 5459, 'pennzoil': 5460, 'pentagon': 5461, 'people': 5462, 'per': 5463, 'percentage': 5464, 'perception': 5465, 'perez': 5466, 'perfidious': 5467, 'perforations': 5468, 'performance': 5469, 'performed': 5470, 'performing': 5471, 'perhaps': 5472, 'period': 5473, 'periods': 5474, 'permament': 5475, 'permanent': 5476, 'permanently': 5477, 'permian': 5478, 'permit': 5479, 'permits': 5480, 'perry': 5481, 'persian': 5482, 'persist': 5483, 'persistent': 5484, 'person': 5485, 'personal': 5486, 'personnel': 5487, 'persuade': 5488, 'persuading': 5489, 'persuasive': 5490, 'pertains': 5491, 'pertamina': 5492, 'peru': 5493, 'peruvian': 5494, 'pessimistic': 5495, 'pet': 5496, 'petb': 5497, 'pete': 5498, 'peter': 5499, 'peters': 5500, 'petition': 5501, 'petrleum': 5502, 'petro': 5503, 'petrobras': 5504, 'petrocanada': 5505, 'petrochemcial': 5506, 'petrochemical': 5507, 'petrochemicals': 5508, 'petroeleos': 5509, 'petroelum': 5510, 'petrofina': 5511, 'petrol': 5512, 'petroleo': 5513, 'petroleos': 5514, 'petrolera': 5515, 'petroles': 5516, 'petroleum': 5517, 'petroliferos': 5518, 'petroluem': 5519, 'petromin': 5520, 'petronas': 5521, 'pgrt': 5522, 'phase': 5523, 'phenomenon': 5524, 'philadelphia': 5525, 'philip': 5526, 'philips': 5527, 'phillip': 5528, 'phillips': 5529, 'phyllis': 5530, 'physical': 5531, 'physicals': 5532, 'pick': 5533, 'picked': 5534, 'pickens': 5535, 'picketed': 5536, 'picking': 5537, 'picks': 5538, 'pickup': 5539, 'picture': 5540, 'pilot': 5541, 'pioneer': 5542, 'pipe': 5543, 'pipeline': 5544, 'pipelines': 5545, 'pipelline': 5546, 'piping': 5547, 'pitched': 5548, 'pitmen': 5549, 'pitts': 5550, 'pivot': 5551, 'piw': 5552, 'place': 5553, 'placed': 5554, 'placement': 5555, 'places': 5556, 'plain': 5557, 'plains': 5558, 'plan': 5559, 'planes': 5560, 'planned': 5561, 'planners': 5562, 'planning': 5563, 'plans': 5564, 'plant': 5565, 'planting': 5566, 'plants': 5567, 'plastics': 5568, 'plateau': 5569, 'platform': 5570, 'platforms': 5571, 'platinum': 5572, 'play': 5573, 'played': 5574, 'player': 5575, 'playing': 5576, 'plays': 5577, 'plc': 5578, 'plea': 5579, 'pleas': 5580, 'pledged': 5581, 'pledges': 5582, 'pledging': 5583, 'plenty': 5584, 'plexman': 5585, 'plight': 5586, 'plns': 5587, 'ploughing': 5588, 'plugged': 5589, 'plunge': 5590, 'plunged': 5591, 'plus': 5592, 'plying': 5593, 'png': 5594, 'pockets': 5595, 'point': 5596, 'pointed': 5597, 'pointing': 5598, 'points': 5599, 'poised': 5600, 'police': 5601, 'policies': 5602, 'policy': 5603, 'policymakers': 5604, 'political': 5605, 'politically': 5606, 'poll': 5607, 'polled': 5608, 'pollution': 5609, 'polmar': 5610, 'pont': 5611, 'pool': 5612, 'pools': 5613, 'poor': 5614, 'popular': 5615, 'population': 5616, 'populous': 5617, 'pork': 5618, 'port': 5619, 'portending': 5620, 'portfolio': 5621, 'portion': 5622, 'ports': 5623, 'pose': 5624, 'posed': 5625, 'posing': 5626, 'position': 5627, 'positions': 5628, 'positive': 5629, 'positively': 5630, 'possibilities': 5631, 'possibility': 5632, 'possible': 5633, 'possibly': 5634, 'post': 5635, 'posted': 5636, 'posting': 5637, 'postings': 5638, 'postitions': 5639, 'postpone': 5640, 'postponed': 5641, 'posts': 5642, 'potential': 5643, 'potentially': 5644, 'potetnital': 5645, 'pound': 5646, 'pounds': 5647, 'powdered': 5648, 'power': 5649, 'powerful': 5650, 'powerhouse': 5651, 'powerine': 5652, 'powerplants': 5653, 'powers': 5654, 'ppc': 5655, 'practical': 5656, 'practically': 5657, 'practice': 5658, 'practices': 5659, 'praised': 5660, 'prawiro': 5661, 'pre': 5662, 'precarious': 5663, 'precaution': 5664, 'preceded': 5665, 'precedent': 5666, 'preceding': 5667, 'precipitated': 5668, 'preconditions': 5669, 'predatory': 5670, 'predecessor': 5671, 'predict': 5672, 'predicted': 5673, 'predictions': 5674, 'predicts': 5675, 'predominant': 5676, 'prefential': 5677, 'prefer': 5678, 'preference': 5679, 'preferred': 5680, 'preliminary': 5681, 'premier': 5682, 'premium': 5683, 'preparation': 5684, 'prepare': 5685, 'prepared': 5686, 'preparing': 5687, 'prepay': 5688, 'prepayment': 5689, 'prerequisite': 5690, 'prersident': 5691, 'prescott': 5692, 'prescribed': 5693, 'presence': 5694, 'present': 5695, 'presented': 5696, 'presents': 5697, 'preserve': 5698, 'preserving': 5699, 'presidency': 5700, 'president': 5701, 'presidential': 5702, 'press': 5703, 'pressed': 5704, 'pressing': 5705, 'pressure': 5706, 'pressured': 5707, 'pressures': 5708, 'pressuring': 5709, 'prestige': 5710, 'pretax': 5711, 'pretoria': 5712, 'pretty': 5713, 'preussag': 5714, 'prevails': 5715, 'prevent': 5716, 'prevented': 5717, 'preventing': 5718, 'prevents': 5719, 'previouly': 5720, 'previous': 5721, 'previously': 5722, 'pri': 5723, 'price': 5724, 'priced': 5725, 'prices': 5726, 'pricing': 5727, 'primarily': 5728, 'primary': 5729, 'prime': 5730, 'prince': 5731, 'princeton': 5732, 'principal': 5733, 'principally': 5734, 'principle': 5735, 'priolo': 5736, 'prior': 5737, 'priorities': 5738, 'priority': 5739, 'private': 5740, 'privately': 5741, 'privileged': 5742, 'pro': 5743, 'probability': 5744, 'probable': 5745, 'probably': 5746, 'probing': 5747, 'problem': 5748, 'problems': 5749, 'procedure': 5750, 'procedures': 5751, 'proceed': 5752, 'proceedings': 5753, 'proceeds': 5754, 'process': 5755, 'processed': 5756, 'processiing': 5757, 'processing': 5758, 'produce': 5759, 'produced': 5760, 'producer': 5761, 'producers': 5762, 'produces': 5763, 'producing': 5764, 'product': 5765, 'production': 5766, 'productive': 5767, 'products': 5768, 'professionally': 5769, 'profile': 5770, 'profit': 5771, 'profitability': 5772, 'profitable': 5773, 'profits': 5774, 'profound': 5775, 'profoundly': 5776, 'program': 5777, 'programme': 5778, 'programmes': 5779, 'programs': 5780, 'progress': 5781, 'progressing': 5782, 'progressive': 5783, 'prohibit': 5784, 'prohibited': 5785, 'prohibiting': 5786, 'prohibits': 5787, 'project': 5788, 'projected': 5789, 'projection': 5790, 'projections': 5791, 'projects': 5792, 'prominent': 5793, 'promise': 5794, 'promised': 5795, 'promising': 5796, 'promote': 5797, 'promoted': 5798, 'promoting': 5799, 'prompt': 5800, 'prompted': 5801, 'pronged': 5802, 'pronounced': 5803, 'propaganda': 5804, 'propane': 5805, 'propel': 5806, 'properly': 5807, 'properties': 5808, 'property': 5809, 'proportion': 5810, 'proportions': 5811, 'proposal': 5812, 'proposals': 5813, 'propose': 5814, 'proposed': 5815, 'proposes': 5816, 'proprietary': 5817, 'propuced': 5818, 'proration': 5819, 'prorationing': 5820, 'prospect': 5821, 'prospecting': 5822, 'prospective': 5823, 'prospects': 5824, 'protect': 5825, 'protected': 5826, 'protecting': 5827, 'protection': 5828, 'protectionism': 5829, 'protectionist': 5830, 'protest': 5831, 'protests': 5832, 'protocol': 5833, 'prove': 5834, 'proved': 5835, 'proven': 5836, 'provide': 5837, 'provided': 5838, 'provides': 5839, 'providing': 5840, 'province': 5841, 'provision': 5842, 'provisional': 5843, 'provisionally': 5844, 'provisions': 5845, 'provocative': 5846, 'proximity': 5847, 'prspect': 5848, 'prt': 5849, 'prudence': 5850, 'prudential': 5851, 'prudhoe': 5852, 'pruposes': 5853, 'psychological': 5854, 'pty': 5855, 'public': 5856, 'publication': 5857, 'publications': 5858, 'publicly': 5859, 'publish': 5860, 'published': 5861, 'publishing': 5862, 'puerto': 5863, 'puertollano': 5864, 'pull': 5865, 'pulled': 5866, 'pulling': 5867, 'pullout': 5868, 'pulverized': 5869, 'pump': 5870, 'pumped': 5871, 'pumping': 5872, 'pumps': 5873, 'purchase': 5874, 'purchased': 5875, 'purchasers': 5876, 'purchases': 5877, 'purchasing': 5878, 'pure': 5879, 'purely': 5880, 'purge': 5881, 'purhcase': 5882, 'purpose': 5883, 'purposes': 5884, 'pursuant': 5885, 'pursue': 5886, 'pursued': 5887, 'pursuing': 5888, 'push': 5889, 'pushed': 5890, 'pushing': 5891, 'put': 5892, 'putting': 5893, 'pyne': 5894, 'pzl': 5895, 'q': 5896, 'q4a': 5897, 'q5c': 5898, 'qabas': 5899, 'qassem': 5900, 'qatar': 5901, 'qtr': 5902, 'quake': 5903, 'qualified': 5904, 'qualifies': 5905, 'qualify': 5906, 'qualifying': 5907, 'quality': 5908, 'quantities': 5909, 'quantity': 5910, 'quaotities': 5911, 'quarter': 5912, 'quarterly': 5913, 'quarters': 5914, 'quays': 5915, 'quebec': 5916, 'queensland': 5917, 'query': 5918, 'question': 5919, 'questionable': 5920, 'questioned': 5921, 'questioning': 5922, 'questions': 5923, 'quevedo': 5924, 'quick': 5925, 'quickly': 5926, 'quiet': 5927, 'quietly': 5928, 'quirico': 5929, 'quit': 5930, 'quite': 5931, 'quito': 5932, 'quo': 5933, 'quota': 5934, 'quotas': 5935, 'quoted': 5936, 'quotes': 5937, 'quoting': 5938, 'r': 5939, 'rachman': 5940, 'radar': 5941, 'radio': 5942, 'radius': 5943, 'rafael': 5944, 'raffinage': 5945, 'rafsanjani': 5946, 'ragged': 5947, 'rahim': 5948, 'rahmani': 5949, 'rai': 5950, 'raid': 5951, 'raided': 5952, 'raiders': 5953, 'raids': 5954, 'railroad': 5955, 'rails': 5956, 'railway': 5957, 'rain': 5958, 'rainbow': 5959, 'rains': 5960, 'raise': 5961, 'raised': 5962, 'raises': 5963, 'raising': 5964, 'rakhsh': 5965, 'rallied': 5966, 'rallies': 5967, 'rally': 5968, 'ramly': 5969, 'ramnath': 5970, 'ran': 5971, 'randol': 5972, 'random': 5973, 'range': 5974, 'ranged': 5975, 'ranger': 5976, 'ranging': 5977, 'ranking': 5978, 'ranks': 5979, 'rapid': 5980, 'rapidly': 5981, 'ras': 5982, 'rash': 5983, 'rashadat': 5984, 'rastam': 5985, 'rate': 5986, 'rated': 5987, 'rates': 5988, 'rather': 5989, 'ratification': 5990, 'ratifies': 5991, 'ratio': 5992, 'rationalisation': 5993, 'rationalise': 5994, 'ratsimandresy': 5995, 'raw': 5996, 'ray': 5997, 'raymond': 5998, 'rd': 5999, 're': 6000, 'reach': 6001, 'reached': 6002, 'reaches': 6003, 'reaching': 6004, 'react': 6005, 'reacted': 6006, 'reacting': 6007, 'reaction': 6008, 'reactivate': 6009, 'reacts': 6010, 'readdress': 6011, 'readily': 6012, 'readiness': 6013, 'ready': 6014, 'reaffirm': 6015, 'reaffirmation': 6016, 'reaffirmed': 6017, 'reaffirming': 6018, 'reaffirms': 6019, 'reagan': 6020, 'real': 6021, 'realise': 6022, 'realism': 6023, 'realistic': 6024, 'realities': 6025, 'reality': 6026, 'realize': 6027, 'realized': 6028, 'reallocation': 6029, 'really': 6030, 'rearranged': 6031, 'reason': 6032, 'reasonable': 6033, 'reasonably': 6034, 'reasons': 6035, 'reassess': 6036, 'reassessment': 6037, 'rebel': 6038, 'rebels': 6039, 'rebound': 6040, 'rebounded': 6041, 'rebuild': 6042, 'recapture': 6043, 'recapturing': 6044, 'recede': 6045, 'recedes': 6046, 'receding': 6047, 'receipts': 6048, 'receivables': 6049, 'receive': 6050, 'received': 6051, 'recent': 6052, 'recently': 6053, 'reception': 6054, 'recession': 6055, 'recipient': 6056, 'recklessness': 6057, 'reclaim': 6058, 'recognise': 6059, 'recognised': 6060, 'recognises': 6061, 'recognition': 6062, 'recognize': 6063, 'recommend': 6064, 'recommendation': 6065, 'recommendations': 6066, 'recommended': 6067, 'recommending': 6068, 'recommends': 6069, 'reconciled': 6070, 'reconfirm': 6071, 'reconstruction': 6072, 'record': 6073, 'recorded': 6074, 'recording': 6075, 'recourse': 6076, 'recover': 6077, 'recoverable': 6078, 'recovered': 6079, 'recovering': 6080, 'recovers': 6081, 'recovery': 6082, 'recur': 6083, 'recurrent': 6084, 'red': 6085, 'redec': 6086, 'redeemable': 6087, 'redeployed': 6088, 'redman': 6089, 'reduce': 6090, 'reduced': 6091, 'reduces': 6092, 'reducing': 6093, 'reduction': 6094, 'reductions': 6095, 'reed': 6096, 'reeserves': 6097, 'reestablish': 6098, 'reestablished': 6099, 'reevaluate': 6100, 'reference': 6101, 'referring': 6102, 'refine': 6103, 'refined': 6104, 'refiner': 6105, 'refineries': 6106, 'refiners': 6107, 'refinery': 6108, 'refining': 6109, 'reflag': 6110, 'reflagging': 6111, 'reflect': 6112, 'reflected': 6113, 'reflecting': 6114, 'reflection': 6115, 'reflects': 6116, 'refloat': 6117, 'reform': 6118, 'reformer': 6119, 'reforms': 6120, 'refrain': 6121, 'refuge': 6122, 'refunds': 6123, 'refurbished': 6124, 'refusal': 6125, 'refused': 6126, 'refusing': 6127, 'regain': 6128, 'regard': 6129, 'regarding': 6130, 'regards': 6131, 'regime': 6132, 'region': 6133, 'regional': 6134, 'regions': 6135, 'register': 6136, 'registered': 6137, 'registration': 6138, 'registries': 6139, 'regrettable': 6140, 'regular': 6141, 'regulated': 6142, 'regulates': 6143, 'regulating': 6144, 'regulation': 6145, 'regulations': 6146, 'regulator': 6147, 'regulators': 6148, 'regulatory': 6149, 'rehearing': 6150, 'reid': 6151, 'reigning': 6152, 'reimpell': 6153, 'reinforce': 6154, 'reinforcement': 6155, 'reinosa': 6156, 'reinstate': 6157, 'reintroduce': 6158, 'reintroduced': 6159, 'reinvest': 6160, 'reinvestment': 6161, 'reiterate': 6162, 'reiterated': 6163, 'reiterates': 6164, 'reiterating': 6165, 'rejected': 6166, 'rejection': 6167, 'rejects': 6168, 'relate': 6169, 'related': 6170, 'relates': 6171, 'relating': 6172, 'relation': 6173, 'relations': 6174, 'relationship': 6175, 'relative': 6176, 'relatively': 6177, 'relaxation': 6178, 'release': 6179, 'released': 6180, 'relected': 6181, 'relevant': 6182, 'reliance': 6183, 'relief': 6184, 'reliefs': 6185, 'relies': 6186, 'relieve': 6187, 'relieved': 6188, 'relieving': 6189, 'reluctance': 6190, 'reluctant': 6191, 'rely': 6192, 'relying': 6193, 'remain': 6194, 'remainder': 6195, 'remained': 6196, 'remaining': 6197, 'remains': 6198, 'remark': 6199, 'remarkably': 6200, 'remarked': 6201, 'remarks': 6202, 'remit': 6203, 'remote': 6204, 'removal': 6205, 'remove': 6206, 'removed': 6207, 'removing': 6208, 'renegotiation': 6209, 'renegotiations': 6210, 'renew': 6211, 'renewal': 6212, 'renewed': 6213, 'renewing': 6214, 'rent': 6215, 'rental': 6216, 'reopen': 6217, 'reopening': 6218, 'reopens': 6219, 'reorganization': 6220, 'rep': 6221, 'repaid': 6222, 'repair': 6223, 'repaired': 6224, 'repairing': 6225, 'repairs': 6226, 'repay': 6227, 'repaying': 6228, 'repayment': 6229, 'repayments': 6230, 'repeal': 6231, 'repeals': 6232, 'repeat': 6233, 'repeated': 6234, 'repeatedly': 6235, 'repeating': 6236, 'repeats': 6237, 'repetition': 6238, 'replace': 6239, 'replaced': 6240, 'replacement': 6241, 'replacements': 6242, 'replaces': 6243, 'replacing': 6244, 'replenish': 6245, 'replied': 6246, 'reply': 6247, 'replying': 6248, 'report': 6249, 'reported': 6250, 'reportedly': 6251, 'reporter': 6252, 'reporters': 6253, 'reporting': 6254, 'reports': 6255, 'represent': 6256, 'representative': 6257, 'representatives': 6258, 'represented': 6259, 'representing': 6260, 'represents': 6261, 'reprisal': 6262, 'reprisals': 6263, 'republic': 6264, 'republican': 6265, 'republicans': 6266, 'repurchase': 6267, 'repurchasing': 6268, 'request': 6269, 'requested': 6270, 'require': 6271, 'required': 6272, 'requirement': 6273, 'requirements': 6274, 'requires': 6275, 'requries': 6276, 'resalat': 6277, 'rescheduling': 6278, 'rescue': 6279, 'research': 6280, 'reserve': 6281, 'reserved': 6282, 'reserves': 6283, 'reservoir': 6284, 'resevoir': 6285, 'reshadat': 6286, 'reshapes': 6287, 'reshuffle': 6288, 'residential': 6289, 'residents': 6290, 'residual': 6291, 'resigned': 6292, 'resist': 6293, 'resistance': 6294, 'resisted': 6295, 'resisting': 6296, 'resold': 6297, 'resolute': 6298, 'resolve': 6299, 'resolved': 6300, 'resolves': 6301, 'resort': 6302, 'resource': 6303, 'resources': 6304, 'respect': 6305, 'respectively': 6306, 'respond': 6307, 'responded': 6308, 'respondents': 6309, 'responding': 6310, 'response': 6311, 'responses': 6312, 'responsibilites': 6313, 'responsibility': 6314, 'responsible': 6315, 'responsibly': 6316, 'ressearch': 6317, 'rest': 6318, 'restart': 6319, 'restarting': 6320, 'restated': 6321, 'restaurant': 6322, 'restocking': 6323, 'restore': 6324, 'restored': 6325, 'restoring': 6326, 'restrain': 6327, 'restrained': 6328, 'restraining': 6329, 'restraint': 6330, 'restraints': 6331, 'restrict': 6332, 'restricted': 6333, 'restricting': 6334, 'restrictions': 6335, 'restrictive': 6336, 'restructure': 6337, 'restructured': 6338, 'restructuring': 6339, 'result': 6340, 'resulted': 6341, 'resulting': 6342, 'results': 6343, 'resume': 6344, 'resumed': 6345, 'resuming': 6346, 'resurgence': 6347, 'retail': 6348, 'retailing': 6349, 'retain': 6350, 'retained': 6351, 'retains': 6352, 'retaliate': 6353, 'retaliated': 6354, 'retaliation': 6355, 'retaliatory': 6356, 'retire': 6357, 'retired': 6358, 'retreat': 6359, 'retreated': 6360, 'retroactive': 6361, 'retroactively': 6362, 'return': 6363, 'returned': 6364, 'returns': 6365, 'reuter': 6366, 'reuters': 6367, 'revamp': 6368, 'revealed': 6369, 'reveals': 6370, 'revelations': 6371, 'revenge': 6372, 'reventador': 6373, 'revenue': 6374, 'revenues': 6375, 'reversal': 6376, 'reverse': 6377, 'reversed': 6378, 'revert': 6379, 'review': 6380, 'reviewed': 6381, 'reviewing': 6382, 'reviews': 6383, 'revise': 6384, 'revised': 6385, 'revision': 6386, 'revisions': 6387, 'revitalise': 6388, 'revitalize': 6389, 'revived': 6390, 'revolution': 6391, 'revolutionary': 6392, 'revolving': 6393, 'rexi': 6394, 'reynolds': 6395, 'rgo': 6396, 'rhetoric': 6397, 'riased': 6398, 'rich': 6399, 'richard': 6400, 'riches': 6401, 'richfield': 6402, 'rico': 6403, 'ridicule': 6404, 'ridiculed': 6405, 'rig': 6406, 'right': 6407, 'rights': 6408, 'rigs': 6409, 'rijeka': 6410, 'rilwanu': 6411, 'ring': 6412, 'rio': 6413, 'rip': 6414, 'ripped': 6415, 'rise': 6416, 'risen': 6417, 'rises': 6418, 'rising': 6419, 'risk': 6420, 'riskier': 6421, 'risking': 6422, 'risks': 6423, 'risky': 6424, 'rival': 6425, 'river': 6426, 'rivers': 6427, 'riyadh': 6428, 'riyal': 6429, 'riyals': 6430, 'road': 6431, 'roadblocks': 6432, 'robert': 6433, 'roberts': 6434, 'robust': 6435, 'rocks': 6436, 'roderick': 6437, 'rodney': 6438, 'roger': 6439, 'rogers': 6440, 'roland': 6441, 'role': 6442, 'romo': 6443, 'romoleroux': 6444, 'ronald': 6445, 'room': 6446, 'rosario': 6447, 'rose': 6448, 'rosemary': 6449, 'rosenberg': 6450, 'rostam': 6451, 'rotary': 6452, 'rothschild': 6453, 'rotterdam': 6454, 'roubatis': 6455, 'roughly': 6456, 'round': 6457, 'rounds': 6458, 'roustabouts': 6459, 'route': 6460, 'routes': 6461, 'routine': 6462, 'routinely': 6463, 'row': 6464, 'rowland': 6465, 'roxy': 6466, 'roy': 6467, 'royal': 6468, 'royalties': 6469, 'royalty': 6470, 'royce': 6471, 'rrt': 6472, 'rtz': 6473, 'rtzl': 6474, 'rubaishi': 6475, 'rubber': 6476, 'rubble': 6477, 'rubio': 6478, 'rucias': 6479, 'rule': 6480, 'ruled': 6481, 'rulers': 6482, 'rules': 6483, 'ruling': 6484, 'rumors': 6485, 'rumour': 6486, 'rumours': 6487, 'run': 6488, 'running': 6489, 'runs': 6490, 'runup': 6491, 'rupees': 6492, 'rupiah': 6493, 'ruptured': 6494, 'ruputured': 6495, 'rushing': 6496, 's': 6497, 'sa': 6498, 'sab': 6499, 'sabah': 6500, 'sabine': 6501, 'sabotage': 6502, 'sachs': 6503, 'sacrifices': 6504, 'sad': 6505, 'saddam': 6506, 'saf': 6507, 'safe': 6508, 'safeguards': 6509, 'safely': 6510, 'safer': 6511, 'safety': 6512, 'saga': 6513, 'sago': 6514, 'sagp': 6515, 'said': 6516, 'sail': 6517, 'sailed': 6518, 'sailing': 6519, 'salado': 6520, 'salaries': 6521, 'sale': 6522, 'sales': 6523, 'salim': 6524, 'salina': 6525, 'salman': 6526, 'salomon': 6527, 'salvino': 6528, 'same': 6529, 'sample': 6530, 'samudio': 6531, 'samuel': 6532, 'san': 6533, 'sanchez': 6534, 'sanctions': 6535, 'sand': 6536, 'sandi': 6537, 'sands': 6538, 'sandstone': 6539, 'sanford': 6540, 'sank': 6541, 'santa': 6542, 'santana': 6543, 'santos': 6544, 'sao': 6545, 'sarney': 6546, 'saskatchewan': 6547, 'sassan': 6548, 'satisfaction': 6549, 'satisfactorily': 6550, 'satisfactory': 6551, 'satisfied': 6552, 'satisfying': 6553, 'saturday': 6554, 'saudi': 6555, 'saudia': 6556, 'saudis': 6557, 'save': 6558, 'saved': 6559, 'saving': 6560, 'savings': 6561, 'saw': 6562, 'say': 6563, 'saying': 6564, 'says': 6565, 'sc': 6566, 'scale': 6567, 'scandal': 6568, 'scant': 6569, 'scarce': 6570, 'scared': 6571, 'scenario': 6572, 'scenerio': 6573, 'schaefer': 6574, 'schedualed': 6575, 'schedule': 6576, 'scheduled': 6577, 'schedules': 6578, 'scheme': 6579, 'schleede': 6580, 'schlumberger': 6581, 'schuler': 6582, 'scientific': 6583, 'scope': 6584, 'scotia': 6585, 'scotian': 6586, 'scotland': 6587, 'scottish': 6588, 'scrape': 6589, 'scraps': 6590, 'scrutiny': 6591, 'scurry': 6592, 'sea': 6593, 'seabed': 6594, 'seafarers': 6595, 'seaman': 6596, 'seamen': 6597, 'seapride': 6598, 'search': 6599, 'searching': 6600, 'seas': 6601, 'season': 6602, 'seasonal': 6603, 'seat': 6604, 'second': 6605, 'secondary': 6606, 'secret': 6607, 'secretariat': 6608, 'secretary': 6609, 'section': 6610, 'sector': 6611, 'sectors': 6612, 'secure': 6613, 'secured': 6614, 'securites': 6615, 'securities': 6616, 'security': 6617, 'sedi': 6618, 'sedimentary': 6619, 'see': 6620, 'seeing': 6621, 'seek': 6622, 'seeking': 6623, 'seeks': 6624, 'seemed': 6625, 'seems': 6626, 'seen': 6627, 'sees': 6628, 'segment': 6629, 'seismic': 6630, 'seismologists': 6631, 'seized': 6632, 'seizes': 6633, 'selected': 6634, 'selective': 6635, 'self': 6636, 'sell': 6637, 'seller': 6638, 'sellers': 6639, 'selling': 6640, 'sells': 6641, 'selm': 6642, 'semi': 6643, 'semiconductor': 6644, 'seminar': 6645, 'semisubmersible': 6646, 'sen': 6647, 'senate': 6648, 'senator': 6649, 'senators': 6650, 'send': 6651, 'sending': 6652, 'senior': 6653, 'sense': 6654, 'sensible': 6655, 'sent': 6656, 'sentiment': 6657, 'seoul': 6658, 'separate': 6659, 'separately': 6660, 'sept': 6661, 'september': 6662, 'seputro': 6663, 'series': 6664, 'serious': 6665, 'seriously': 6666, 'serve': 6667, 'serves': 6668, 'service': 6669, 'services': 6670, 'servicing': 6671, 'serving': 6672, 'session': 6673, 'sessions': 6674, 'set': 6675, 'setback': 6676, 'sets': 6677, 'setting': 6678, 'settle': 6679, 'settled': 6680, 'settlement': 6681, 'settlements': 6682, 'settles': 6683, 'seven': 6684, 'several': 6685, 'severance': 6686, 'severe': 6687, 'severely': 6688, 'severity': 6689, 'shabwa': 6690, 'shaheen': 6691, 'shake': 6692, 'shaken': 6693, 'shakeup': 6694, 'shale': 6695, 'shall': 6696, 'shallow': 6697, 'shambles': 6698, 'shamrock': 6699, 'share': 6700, 'shared': 6701, 'shareholder': 6702, 'shareholders': 6703, 'shares': 6704, 'sharing': 6705, 'sharp': 6706, 'sharper': 6707, 'sharpest': 6708, 'sharply': 6709, 'sharq': 6710, 'shc': 6711, 'she': 6712, 'shearson': 6713, 'shed': 6714, 'sheikh': 6715, 'shelbourne': 6716, 'shelf': 6717, 'shell': 6718, 'shelled': 6719, 'shelling': 6720, 'shells': 6721, 'shelve': 6722, 'shenzhen': 6723, 'shevardnadze': 6724, 'shield': 6725, 'shift': 6726, 'shifting': 6727, 'shilling': 6728, 'shimbun': 6729, 'shinawi': 6730, 'shines': 6731, 'ship': 6732, 'shipbroker': 6733, 'shipbuilding': 6734, 'shipholding': 6735, 'shipment': 6736, 'shipments': 6737, 'shipowners': 6738, 'shipped': 6739, 'shipping': 6740, 'ships': 6741, 'shiviyacu': 6742, 'shock': 6743, 'shook': 6744, 'shoot': 6745, 'shopping': 6746, 'shopuld': 6747, 'shore': 6748, 'shoreline': 6749, 'shores': 6750, 'short': 6751, 'shortage': 6752, 'shortages': 6753, 'shortfall': 6754, 'shortfull': 6755, 'shot': 6756, 'should': 6757, 'shoulder': 6758, 'shoup': 6759, 'show': 6760, 'showed': 6761, 'showing': 6762, 'shown': 6763, 'shows': 6764, 'shrank': 6765, 'shrinking': 6766, 'shuffle': 6767, 'shuffling': 6768, 'shut': 6769, 'shutdown': 6770, 'shutdowns': 6771, 'shuts': 6772, 'shutting': 6773, 'sick': 6774, 'sickly': 6775, 'side': 6776, 'sidelined': 6777, 'sider': 6778, 'sides': 6779, 'sidetrack': 6780, 'sidi': 6781, 'sienna': 6782, 'sight': 6783, 'sightseers': 6784, 'sign': 6785, 'signal': 6786, 'signalled': 6787, 'signals': 6788, 'signed': 6789, 'significant': 6790, 'significantly': 6791, 'signing': 6792, 'signs': 6793, 'silas': 6794, 'silent': 6795, 'silkworm': 6796, 'silkworms': 6797, 'silver': 6798, 'similar': 6799, 'similarly': 6800, 'simmons': 6801, 'simon': 6802, 'simple': 6803, 'simplifying': 6804, 'simply': 6805, 'since': 6806, 'singapore': 6807, 'singer': 6808, 'single': 6809, 'singled': 6810, 'sink': 6811, 'sir': 6812, 'siracusa': 6813, 'siregar': 6814, 'sisak': 6815, 'sismik': 6816, 'sit': 6817, 'site': 6818, 'sited': 6819, 'sites': 6820, 'sits': 6821, 'sitting': 6822, 'situated': 6823, 'situation': 6824, 'situations': 6825, 'six': 6826, 'sixth': 6827, 'sizable': 6828, 'size': 6829, 'sized': 6830, 'sjt': 6831, 'skeptical': 6832, 'skepticism': 6833, 'skeptics': 6834, 'skittish': 6835, 'skyrocket': 6836, 'slack': 6837, 'slackens': 6838, 'slashed': 6839, 'slb': 6840, 'slc': 6841, 'sleeping': 6842, 'slide': 6843, 'slight': 6844, 'slightly': 6845, 'slipped': 6846, 'slope': 6847, 'slow': 6848, 'slowdown': 6849, 'slowed': 6850, 'slower': 6851, 'slowest': 6852, 'slowing': 6853, 'slowly': 6854, 'sluggish': 6855, 'slump': 6856, 'slumped': 6857, 'small': 6858, 'smaller': 6859, 'smith': 6860, 'smoerbukk': 6861, 'smoke': 6862, 'smolinski': 6863, 'snap': 6864, 'snare': 6865, 'snith': 6866, 'so': 6867, 'soar': 6868, 'soared': 6869, 'social': 6870, 'socialist': 6871, 'societa': 6872, 'societe': 6873, 'society': 6874, 'soekor': 6875, 'soft': 6876, 'soften': 6877, 'softer': 6878, 'sohio': 6879, 'soil': 6880, 'sold': 6881, 'solidarity': 6882, 'solids': 6883, 'solution': 6884, 'solv': 6885, 'solve': 6886, 'solved': 6887, 'some': 6888, 'someone': 6889, 'something': 6890, 'sometime': 6891, 'someway': 6892, 'somewhat': 6893, 'sonatrach': 6894, 'soon': 6895, 'sooner': 6896, 'sorely': 6897, 'sorry': 6898, 'sort': 6899, 'sorties': 6900, 'sought': 6901, 'sound': 6902, 'soundly': 6903, 'sounds': 6904, 'sour': 6905, 'source': 6906, 'sources': 6907, 'sours': 6908, 'south': 6909, 'southeast': 6910, 'southern': 6911, 'southland': 6912, 'southward': 6913, 'southwards': 6914, 'southwest': 6915, 'southwestern': 6916, 'sovereign': 6917, 'sovereignty': 6918, 'soviet': 6919, 'soviets': 6920, 'soybean': 6921, 'spa': 6922, 'spacing': 6923, 'spadine': 6924, 'spain': 6925, 'spanish': 6926, 'spare': 6927, 'spared': 6928, 'spark': 6929, 'sparked': 6930, 'sparking': 6931, 'speaker': 6932, 'speaking': 6933, 'special': 6934, 'specialised': 6935, 'specialist': 6936, 'specialists': 6937, 'specialty': 6938, 'specific': 6939, 'specifically': 6940, 'specifics': 6941, 'specify': 6942, 'specter': 6943, 'speculate': 6944, 'speculated': 6945, 'speculation': 6946, 'speculative': 6947, 'speculators': 6948, 'spedding': 6949, 'speech': 6950, 'speeches': 6951, 'speed': 6952, 'speedboat': 6953, 'speedier': 6954, 'speeding': 6955, 'spell': 6956, 'spend': 6957, 'spending': 6958, 'spent': 6959, 'spill': 6960, 'spilled': 6961, 'spin': 6962, 'spinning': 6963, 'spiral': 6964, 'spiralled': 6965, 'spiralling': 6966, 'spirit': 6967, 'spite': 6968, 'split': 6969, 'spoke': 6970, 'spoken': 6971, 'spokesman': 6972, 'spokesmen': 6973, 'spokeswoman': 6974, 'sponsor': 6975, 'sponsored': 6976, 'sponsorship': 6977, 'spot': 6978, 'spotlight': 6979, 'spots': 6980, 'spr': 6981, 'spread': 6982, 'spriggs': 6983, 'spring': 6984, 'springs': 6985, 'spudded': 6986, 'spur': 6987, 'spurring': 6988, 'spurs': 6989, 'sq': 6990, 'squares': 6991, 'squeeze': 6992, 'squeezed': 6993, 'srb': 6994, 'srd': 6995, 'sri': 6996, 'st': 6997, 'stabilise': 6998, 'stabilised': 6999, 'stabilising': 7000, 'stability': 7001, 'stabilization': 7002, 'stabilize': 7003, 'stabilizing': 7004, 'stable': 7005, 'stablise': 7006, 'stablize': 7007, 'stacy': 7008, 'staff': 7009, 'stage': 7010, 'stages': 7011, 'staggering': 7012, 'stagnation': 7013, 'stake': 7014, 'stakes': 7015, 'stalling': 7016, 'stamped': 7017, 'stance': 7018, 'stand': 7019, 'standard': 7020, 'standing': 7021, 'standoff': 7022, 'stands': 7023, 'stanley': 7024, 'stanlow': 7025, 'staple': 7026, 'staples': 7027, 'staqrted': 7028, 'stark': 7029, 'start': 7030, 'started': 7031, 'starting': 7032, 'starts': 7033, 'stat': 7034, 'state': 7035, 'stated': 7036, 'statement': 7037, 'statements': 7038, 'states': 7039, 'statfjord': 7040, 'station': 7041, 'stationing': 7042, 'stations': 7043, 'statistical': 7044, 'statistics': 7045, 'statoil': 7046, 'statpipe': 7047, 'stats': 7048, 'status': 7049, 'stavanger': 7050, 'stay': 7051, 'stayed': 7052, 'stays': 7053, 'stc': 7054, 'ste': 7055, 'steadied': 7056, 'steadier': 7057, 'steadily': 7058, 'steady': 7059, 'steam': 7060, 'stebbins': 7061, 'steel': 7062, 'steep': 7063, 'steeper': 7064, 'steepest': 7065, 'steering': 7066, 'stem': 7067, 'stemmed': 7068, 'stems': 7069, 'step': 7070, 'stephen': 7071, 'steps': 7072, 'sterling': 7073, 'stern': 7074, 'stevens': 7075, 'stewart': 7076, 'stg': 7077, 'stick': 7078, 'sticking': 7079, 'stiff': 7080, 'still': 7081, 'stimulant': 7082, 'stimulate': 7083, 'stimulating': 7084, 'stimulation': 7085, 'stimulus': 7086, 'stock': 7087, 'stockbroker': 7088, 'stockbrokers': 7089, 'stockbuild': 7090, 'stockbuilding': 7091, 'stockdraw': 7092, 'stockdraws': 7093, 'stockholder': 7094, 'stockholders': 7095, 'stockpile': 7096, 'stockpiling': 7097, 'stocks': 7098, 'stoltenberg': 7099, 'stood': 7100, 'stop': 7101, 'stopover': 7102, 'stoppage': 7103, 'stoppages': 7104, 'stopped': 7105, 'storage': 7106, 'stormed': 7107, 'story': 7108, 'stos': 7109, 'straight': 7110, 'strain': 7111, 'strains': 7112, 'strait': 7113, 'straits': 7114, 'stranded': 7115, 'strategic': 7116, 'strategy': 7117, 'strathcona': 7118, 'stream': 7119, 'streamlined': 7120, 'streamlining': 7121, 'street': 7122, 'strength': 7123, 'strengthen': 7124, 'strengthened': 7125, 'strengths': 7126, 'stress': 7127, 'stressed': 7128, 'stretch': 7129, 'stretching': 7130, 'strevig': 7131, 'stricken': 7132, 'strict': 7133, 'stricter': 7134, 'strictly': 7135, 'strides': 7136, 'strike': 7137, 'strikers': 7138, 'strikes': 7139, 'striking': 7140, 'stripper': 7141, 'strong': 7142, 'stronger': 7143, 'strongly': 7144, 'struck': 7145, 'structural': 7146, 'structure': 7147, 'structures': 7148, 'struggle': 7149, 'struggling': 7150, 'stuart': 7151, 'stuck': 7152, 'studied': 7153, 'studies': 7154, 'study': 7155, 'studying': 7156, 'sture': 7157, 'style': 7158, 'styrene': 7159, 'subcommittee': 7160, 'subdue': 7161, 'subhi': 7162, 'subject': 7163, 'subjects': 7164, 'submachineguns': 7165, 'submissions': 7166, 'submit': 7167, 'submitted': 7168, 'submitting': 7169, 'subroto': 7170, 'subsea': 7171, 'subsequent': 7172, 'subsequently': 7173, 'subsidence': 7174, 'subsidiaries': 7175, 'subsidiary': 7176, 'subsidies': 7177, 'subsidising': 7178, 'subsidized': 7179, 'subsidy': 7180, 'subsistence': 7181, 'subsoil': 7182, 'substantial': 7183, 'substantially': 7184, 'substitution': 7185, 'substructure': 7186, 'subversion': 7187, 'succeed': 7188, 'succeeded': 7189, 'succeeding': 7190, 'succeeds': 7191, 'success': 7192, 'successful': 7193, 'successfully': 7194, 'such': 7195, 'sucked': 7196, 'sued': 7197, 'suez': 7198, 'suffer': 7199, 'suffered': 7200, 'suffering': 7201, 'suffers': 7202, 'sufficency': 7203, 'sufficiency': 7204, 'sufficient': 7205, 'sufficiently': 7206, 'sugar': 7207, 'suggest': 7208, 'suggested': 7209, 'suggestion': 7210, 'suggestions': 7211, 'suharto': 7212, 'suitable': 7213, 'suleiman': 7214, 'suliman': 7215, 'sulphur': 7216, 'sulphurisation': 7217, 'sultan': 7218, 'sum': 7219, 'sumatra': 7220, 'sumed': 7221, 'summer': 7222, 'summit': 7223, 'summoned': 7224, 'sums': 7225, 'sun': 7226, 'sunday': 7227, 'sungari': 7228, 'sunk': 7229, 'super': 7230, 'superfund': 7231, 'superior': 7232, 'superpower': 7233, 'superpowers': 7234, 'supertanker': 7235, 'suplies': 7236, 'suport': 7237, 'supplant': 7238, 'supplement': 7239, 'supplied': 7240, 'supplier': 7241, 'suppliers': 7242, 'supplies': 7243, 'supply': 7244, 'supplying': 7245, 'support': 7246, 'supported': 7247, 'supporting': 7248, 'supportive': 7249, 'supports': 7250, 'suppose': 7251, 'supposedly': 7252, 'supreme': 7253, 'sur': 7254, 'surat': 7255, 'surcharge': 7256, 'surcharges': 7257, 'sure': 7258, 'surface': 7259, 'surfacing': 7260, 'surge': 7261, 'surged': 7262, 'surgery': 7263, 'surging': 7264, 'surpassed': 7265, 'surpasssing': 7266, 'surplus': 7267, 'surpluses': 7268, 'surprise': 7269, 'surprises': 7270, 'surrounding': 7271, 'surveillance': 7272, 'survey': 7273, 'surveyed': 7274, 'surveys': 7275, 'survive': 7276, 'survived': 7277, 'surviving': 7278, 'suspect': 7279, 'suspend': 7280, 'suspended': 7281, 'suspending': 7282, 'suspends': 7283, 'suspension': 7284, 'sustain': 7285, 'sustainable': 7286, 'sustained': 7287, 'sustaining': 7288, 'svenska': 7289, 'swamp': 7290, 'swann': 7291, 'swap': 7292, 'swaps': 7293, 'swarup': 7294, 'sweden': 7295, 'swedish': 7296, 'sweeney': 7297, 'sweep': 7298, 'sweeping': 7299, 'sweet': 7300, 'sweetened': 7301, 'swelling': 7302, 'swift': 7303, 'swing': 7304, 'swinging': 7305, 'swirl': 7306, 'switch': 7307, 'switched': 7308, 'switching': 7309, 'switzerland': 7310, 'sydney': 7311, 'symbolic': 7312, 'sympathetic': 7313, 'synar': 7314, 'syndicate': 7315, 'synfuels': 7316, 'synthetic': 7317, 'synthetics': 7318, 'syrian': 7319, 'system': 7320, 'systems': 7321, 't': 7322, 'tab': 7323, 'table': 7324, 'tableland': 7325, 'tacit': 7326, 'tackle': 7327, 'tackled': 7328, 'tactics': 7329, 'taher': 7330, 'tailor': 7331, 'tailored': 7332, 'take': 7333, 'taken': 7334, 'takeover': 7335, 'takes': 7336, 'taking': 7337, 'tales': 7338, 'talk': 7339, 'talked': 7340, 'talking': 7341, 'talks': 7342, 'tanjug': 7343, 'tank': 7344, 'tanker': 7345, 'tankers': 7346, 'tanks': 7347, 'tannurah': 7348, 'tanurah': 7349, 'tap': 7350, 'taper': 7351, 'tapers': 7352, 'tapis': 7353, 'tapped': 7354, 'tappmeyer': 7355, 'taps': 7356, 'taqi': 7357, 'tar': 7358, 'target': 7359, 'targeted': 7360, 'targeting': 7361, 'targets': 7362, 'targetted': 7363, 'tariff': 7364, 'tariffs': 7365, 'tarrif': 7366, 'task': 7367, 'tasks': 7368, 'tass': 7369, 'tat': 7370, 'tax': 7371, 'taxation': 7372, 'taxes': 7373, 'taxpayer': 7374, 'taxpayers': 7375, 'taxwriter': 7376, 'tea': 7377, 'teach': 7378, 'team': 7379, 'teams': 7380, 'teapa': 7381, 'technical': 7382, 'technically': 7383, 'techniques': 7384, 'technoexport': 7385, 'technological': 7386, 'technology': 7387, 'tehran': 7388, 'teicc': 7389, 'telecommunications': 7390, 'telephone': 7391, 'televised': 7392, 'television': 7393, 'telex': 7394, 'telexed': 7395, 'tell': 7396, 'telling': 7397, 'tells': 7398, 'tempered': 7399, 'tempers': 7400, 'tempo': 7401, 'temporarily': 7402, 'temporary': 7403, 'temptation': 7404, 'temuco': 7405, 'ten': 7406, 'tend': 7407, 'tendencies': 7408, 'tendency': 7409, 'tender': 7410, 'tenders': 7411, 'tending': 7412, 'tenneco': 7413, 'tense': 7414, 'tension': 7415, 'tensions': 7416, 'tentatively': 7417, 'tenth': 7418, 'teran': 7419, 'term': 7420, 'terminal': 7421, 'terminals': 7422, 'terminated': 7423, 'terms': 7424, 'tern': 7425, 'terra': 7426, 'territorial': 7427, 'territorrial': 7428, 'territory': 7429, 'terrorism': 7430, 'tertiary': 7431, 'test': 7432, 'tested': 7433, 'testified': 7434, 'testimony': 7435, 'testing': 7436, 'tests': 7437, 'tet': 7438, 'texaco': 7439, 'texas': 7440, 'texoma': 7441, 'texstar': 7442, 'textile': 7443, 'textiles': 7444, 'tgt': 7445, 'thagard': 7446, 'than': 7447, 'thani': 7448, 'thanks': 7449, 'thasos': 7450, 'thassos': 7451, 'that': 7452, 'thatcher': 7453, 'the': 7454, 'their': 7455, 'them': 7456, 'themselves': 7457, 'then': 7458, 'there': 7459, 'thereby': 7460, 'therefore': 7461, 'thermal': 7462, 'these': 7463, 'they': 7464, 'thick': 7465, 'thin': 7466, 'thing': 7467, 'things': 7468, 'think': 7469, 'thinking': 7470, 'thinks': 7471, 'third': 7472, 'thirds': 7473, 'thirty': 7474, 'this': 7475, 'thomas': 7476, 'thorough': 7477, 'thorvald': 7478, 'those': 7479, 'though': 7480, 'thought': 7481, 'thousand': 7482, 'thousands': 7483, 'thousandth': 7484, 'thrashing': 7485, 'threat': 7486, 'threaten': 7487, 'threatened': 7488, 'threatening': 7489, 'threats': 7490, 'three': 7491, 'threshold': 7492, 'throat': 7493, 'through': 7494, 'throughout': 7495, 'throughput': 7496, 'thrust': 7497, 'thu': 7498, 'thursday': 7499, 'thus': 7500, 'thwart': 7501, 'tide': 7502, 'tidier': 7503, 'tier': 7504, 'ties': 7505, 'tight': 7506, 'tighten': 7507, 'tightening': 7508, 'tighter': 7509, 'tihamah': 7510, 'timber': 7511, 'time': 7512, 'times': 7513, 'timing': 7514, 'tin': 7515, 'tinto': 7516, 'tip': 7517, 'tire': 7518, 'tit': 7519, 'tito': 7520, 'tmoc': 7521, 'tns': 7522, 'to': 7523, 'tobacco': 7524, 'tobago': 7525, 'today': 7526, 'together': 7527, 'tokyo': 7528, 'told': 7529, 'toll': 7530, 'toluene': 7531, 'tommorrow': 7532, 'tomorrow': 7533, 'ton': 7534, 'tone': 7535, 'tonight': 7536, 'tonnage': 7537, 'tonne': 7538, 'tonnes': 7539, 'tons': 7540, 'too': 7541, 'took': 7542, 'tool': 7543, 'top': 7544, 'topped': 7545, 'topping': 7546, 'toronto': 7547, 'total': 7548, 'totaled': 7549, 'totaling': 7550, 'totalled': 7551, 'totalling': 7552, 'totally': 7553, 'totals': 7554, 'touched': 7555, 'tough': 7556, 'tougher': 7557, 'tour': 7558, 'touring': 7559, 'toward': 7560, 'towards': 7561, 'towe': 7562, 'towed': 7563, 'tower': 7564, 'town': 7565, 'towns': 7566, 'tpn': 7567, 'trace': 7568, 'track': 7569, 'tracking': 7570, 'tracks': 7571, 'tract': 7572, 'tracts': 7573, 'trade': 7574, 'traded': 7575, 'trader': 7576, 'traders': 7577, 'trades': 7578, 'trading': 7579, 'traditional': 7580, 'traditionally': 7581, 'trafalgar': 7582, 'traffic': 7583, 'tragedy': 7584, 'tragic': 7585, 'training': 7586, 'transacted': 7587, 'transaction': 7588, 'transactions': 7589, 'transfer': 7590, 'transferable': 7591, 'transfered': 7592, 'transferred': 7593, 'transfers': 7594, 'transition': 7595, 'translated': 7596, 'transmission': 7597, 'transmits': 7598, 'transport': 7599, 'transportation': 7600, 'transported': 7601, 'transporting': 7602, 'transports': 7603, 'traub': 7604, 'trauma': 7605, 'travel': 7606, 'treacherous': 7607, 'treasurer': 7608, 'treasury': 7609, 'treating': 7610, 'treatment': 7611, 'trees': 7612, 'tremendous': 7613, 'tremendously': 7614, 'tremor': 7615, 'trend': 7616, 'trends': 7617, 'tretvoll': 7618, 'trial': 7619, 'tricentrol': 7620, 'trico': 7621, 'tried': 7622, 'trigger': 7623, 'triggered': 7624, 'trigon': 7625, 'trillion': 7626, 'trillium': 7627, 'trim': 7628, 'trinidad': 7629, 'trip': 7630, 'triple': 7631, 'tripoli': 7632, 'triton': 7633, 'tro': 7634, 'troll': 7635, 'troops': 7636, 'trouble': 7637, 'troubled': 7638, 'troubles': 7639, 'trout': 7640, 'truck': 7641, 'true': 7642, 'trust': 7643, 'trustee': 7644, 'try': 7645, 'trying': 7646, 'tucker': 7647, 'tuesday': 7648, 'tugs': 7649, 'tumaco': 7650, 'tumbling': 7651, 'tuned': 7652, 'tunisia': 7653, 'tunisian': 7654, 'turben': 7655, 'turbulence': 7656, 'turgut': 7657, 'turkey': 7658, 'turkish': 7659, 'turks': 7660, 'turmoil': 7661, 'turn': 7662, 'turnaround': 7663, 'turned': 7664, 'turning': 7665, 'tuscarawas': 7666, 'tweedel': 7667, 'twelfth': 7668, 'twice': 7669, 'twin': 7670, 'two': 7671, 'tx': 7672, 'txc': 7673, 'type': 7674, 'typical': 7675, 'typically': 7676, 'u': 7677, 'ua': 7678, 'uae': 7679, 'ucl': 7680, 'uk': 7681, 'ula': 7682, 'ullman': 7683, 'ultimate': 7684, 'ultimately': 7685, 'unable': 7686, 'unacceptable': 7687, 'unaffected': 7688, 'unanimity': 7689, 'unanimous': 7690, 'unanimously': 7691, 'unanswered': 7692, 'unattractive': 7693, 'unaudited': 7694, 'unavailable': 7695, 'unaware': 7696, 'unbalanced': 7697, 'uncertain': 7698, 'uncertainty': 7699, 'unchanged': 7700, 'uncompetitive': 7701, 'uncompetitively': 7702, 'undamaged': 7703, 'under': 7704, 'underestimated': 7705, 'undergo': 7706, 'underground': 7707, 'underlift': 7708, 'underlines': 7709, 'underlying': 7710, 'underproduced': 7711, 'undersecretary': 7712, 'understand': 7713, 'understands': 7714, 'understood': 7715, 'undertake': 7716, 'undertaken': 7717, 'undertook': 7718, 'underway': 7719, 'undesirable': 7720, 'undetermined': 7721, 'undeveloped': 7722, 'undisclosed': 7723, 'undiscovered': 7724, 'unduly': 7725, 'uneconomic': 7726, 'uneconomical': 7727, 'unequivocally': 7728, 'uneventfully': 7729, 'unexpected': 7730, 'unexpectedly': 7731, 'unexplored': 7732, 'unfairly': 7733, 'unfavorable': 7734, 'unfounded': 7735, 'unhappy': 7736, 'unidentified': 7737, 'unified': 7738, 'unilateral': 7739, 'union': 7740, 'unions': 7741, 'unique': 7742, 'unit': 7743, 'united': 7744, 'unitholders': 7745, 'units': 7746, 'unity': 7747, 'university': 7748, 'unjustified': 7749, 'unkonwn': 7750, 'unleaded': 7751, 'unleashing': 7752, 'unless': 7753, 'unlike': 7754, 'unlikely': 7755, 'unlikey': 7756, 'unload': 7757, 'unnamed': 7758, 'unnecessary': 7759, 'unocal': 7760, 'unofficially': 7761, 'unp': 7762, 'unprepared': 7763, 'unprotected': 7764, 'unpunished': 7765, 'unreasonable': 7766, 'unrelated': 7767, 'unresolved': 7768, 'unrest': 7769, 'unsecured': 7770, 'unsettled': 7771, 'unsightly': 7772, 'unsolved': 7773, 'unspecified': 7774, 'unsuccessful': 7775, 'unsuitable': 7776, 'unsure': 7777, 'untested': 7778, 'untied': 7779, 'until': 7780, 'unusual': 7781, 'unusually': 7782, 'unveils': 7783, 'unviable': 7784, 'unwilling': 7785, 'unwillingness': 7786, 'up': 7787, 'upcoming': 7788, 'updated': 7789, 'upgrade': 7790, 'upgraded': 7791, 'upgrades': 7792, 'upgrading': 7793, 'upham': 7794, 'upheld': 7795, 'uphill': 7796, 'uphold': 7797, 'uplift': 7798, 'upon': 7799, 'upper': 7800, 'upset': 7801, 'upstream': 7802, 'upsurge': 7803, 'upturn': 7804, 'upward': 7805, 'upwardly': 7806, 'urals': 7807, 'uranium': 7808, 'urge': 7809, 'urged': 7810, 'urgent': 7811, 'urges': 7812, 'urging': 7813, 'uruc': 7814, 'us': 7815, 'usa': 7816, 'usage': 7817, 'usda': 7818, 'use': 7819, 'used': 7820, 'useful': 7821, 'users': 7822, 'ushered': 7823, 'using': 7824, 'uss': 7825, 'ussr': 7826, 'usual': 7827, 'usually': 7828, 'usx': 7829, 'utah': 7830, 'utilisation': 7831, 'utilities': 7832, 'utility': 7833, 'utilization': 7834, 'utilized': 7835, 'utilizing': 7836, 'v': 7837, 'vahit': 7838, 'valdivieso': 7839, 'valhall': 7840, 'valid': 7841, 'valley': 7842, 'value': 7843, 'valued': 7844, 'values': 7845, 'valuing': 7846, 'van': 7847, 'variable': 7848, 'variety': 7849, 'various': 7850, 'vary': 7851, 'varzi': 7852, 'vasily': 7853, 'vast': 7854, 'vat': 7855, 've': 7856, 'veba': 7857, 'vehicle': 7858, 'vehicles': 7859, 'velasco': 7860, 'velayati': 7861, 'venezuela': 7862, 'venezuelan': 7863, 'venezuelans': 7864, 'venezulean': 7865, 'vengeance': 7866, 'venice': 7867, 'ventspils': 7868, 'venture': 7869, 'ventures': 7870, 'venturesome': 7871, 'verbal': 7872, 'verdal': 7873, 'verft': 7874, 'verge': 7875, 'verified': 7876, 'vermillion': 7877, 'vernon': 7878, 'version': 7879, 'versus': 7880, 'very': 7881, 'veslefrikk': 7882, 'vessel': 7883, 'vessels': 7884, 'veto': 7885, 'via': 7886, 'viability': 7887, 'viable': 7888, 'vibrancy': 7889, 'vice': 7890, 'vicinity': 7891, 'victory': 7892, 'vienna': 7893, 'view': 7894, 'views': 7895, 'vigorous': 7896, 'villages': 7897, 'villespedue': 7898, 'violating': 7899, 'violation': 7900, 'violations': 7901, 'violence': 7902, 'violent': 7903, 'virtual': 7904, 'virtually': 7905, 'virulent': 7906, 'visbreaker': 7907, 'vishnu': 7908, 'visibility': 7909, 'vision': 7910, 'visit': 7911, 'visited': 7912, 'visiting': 7913, 'visits': 7914, 'visnews': 7915, 'vista': 7916, 'visted': 7917, 'vital': 7918, 'vlccs': 7919, 'voiced': 7920, 'voiding': 7921, 'volatile': 7922, 'volatility': 7923, 'volcano': 7924, 'volume': 7925, 'volumes': 7926, 'voluntarily': 7927, 'voluntary': 7928, 'vote': 7929, 'voted': 7930, 'vowed': 7931, 'vows': 7932, 'voyage': 7933, 'vulnerability': 7934, 'w': 7935, 'w5m': 7936, 'wage': 7937, 'wages': 7938, 'wainco': 7939, 'wait': 7940, 'waited': 7941, 'waiting': 7942, 'waiver': 7943, 'wake': 7944, 'walker': 7945, 'wall': 7946, 'walter': 7947, 'walters': 7948, 'wam': 7949, 'wananchi': 7950, 'want': 7951, 'wanted': 7952, 'wanting': 7953, 'wants': 7954, 'war': 7955, 'warfront': 7956, 'warlike': 7957, 'warm': 7958, 'warmer': 7959, 'warn': 7960, 'warned': 7961, 'warner': 7962, 'warning': 7963, 'warns': 7964, 'warplanes': 7965, 'warplnes': 7966, 'warrants': 7967, 'warship': 7968, 'warships': 7969, 'was': 7970, 'washed': 7971, 'washington': 7972, 'wasn': 7973, 'wastage': 7974, 'waste': 7975, 'watch': 7976, 'watched': 7977, 'watching': 7978, 'watchword': 7979, 'water': 7980, 'waterflooding': 7981, 'waters': 7982, 'waterway': 7983, 'wattari': 7984, 'wave': 7985, 'wax': 7986, 'way': 7987, 'ways': 7988, 'we': 7989, 'weak': 7990, 'weakened': 7991, 'weakening': 7992, 'weaker': 7993, 'weakest': 7994, 'weakness': 7995, 'wealth': 7996, 'wealthy': 7997, 'weather': 7998, 'wedd': 7999, 'wednesday': 8000, 'week': 8001, 'weekdays': 8002, 'weekend': 8003, 'weekends': 8004, 'weekly': 8005, 'weeks': 8006, 'weigh': 8007, 'weighed': 8008, 'weighing': 8009, 'weight': 8010, 'weighted': 8011, 'weinberger': 8012, 'weinburger': 8013, 'welcome': 8014, 'welcomed': 8015, 'weld': 8016, 'well': 8017, 'wellemeyer': 8018, 'wellhead': 8019, 'wellheads': 8020, 'wells': 8021, 'went': 8022, 'wer': 8023, 'were': 8024, 'west': 8025, 'westcoast': 8026, 'western': 8027, 'wet': 8028, 'whale': 8029, 'what': 8030, 'whatever': 8031, 'wheat': 8032, 'when': 8033, 'whenever': 8034, 'where': 8035, 'whether': 8036, 'which': 8037, 'while': 8038, 'whilst': 8039, 'whispers': 8040, 'white': 8041, 'whitehall': 8042, 'whitehead': 8043, 'who': 8044, 'whole': 8045, 'wholesale': 8046, 'wholly': 8047, 'whom': 8048, 'whose': 8049, 'why': 8050, 'wide': 8051, 'widen': 8052, 'widening': 8053, 'wider': 8054, 'widespread': 8055, 'wild': 8056, 'wildcat': 8057, 'wilderness': 8058, 'wildlife': 8059, 'wilf': 8060, 'will': 8061, 'william': 8062, 'williams': 8063, 'willing': 8064, 'willingess': 8065, 'willingness': 8066, 'wilmington': 8067, 'wilson': 8068, 'win': 8069, 'windfall': 8070, 'winds': 8071, 'winkle': 8072, 'winter': 8073, 'wisdom': 8074, 'wise': 8075, 'wisenbaker': 8076, 'wish': 8077, 'wishes': 8078, 'witchita': 8079, 'with': 8080, 'withdraw': 8081, 'withdrawal': 8082, 'withdrawing': 8083, 'withdrawn': 8084, 'withdraws': 8085, 'withdrew': 8086, 'withheld': 8087, 'within': 8088, 'without': 8089, 'witness': 8090, 'witter': 8091, 'wmb': 8092, 'wol': 8093, 'won': 8094, 'wondered': 8095, 'wood': 8096, 'woods': 8097, 'word': 8098, 'words': 8099, 'work': 8100, 'worked': 8101, 'worker': 8102, 'workers': 8103, 'workforce': 8104, 'working': 8105, 'world': 8106, 'worldwide': 8107, 'worlkd': 8108, 'worried': 8109, 'worry': 8110, 'worrying': 8111, 'worse': 8112, 'worsen': 8113, 'worsening': 8114, 'worst': 8115, 'worth': 8116, 'would': 8117, 'wounded': 8118, 'wrangling': 8119, 'wright': 8120, 'write': 8121, 'writers': 8122, 'writing': 8123, 'written': 8124, 'wrong': 8125, 'wrote': 8126, 'wrought': 8127, 'wtc': 8128, 'wti': 8129, 'wts': 8130, 'wynnewood': 8131, 'wyoming': 8132, 'x': 8133, 'xijang': 8134, 'xon': 8135, 'xylene': 8136, 'yacimientos': 8137, 'yalim': 8138, 'yamani': 8139, 'yanbu': 8140, 'yannis': 8141, 'yards': 8142, 'yassin': 8143, 'yasuhiro': 8144, 'yates': 8145, 'year': 8146, 'yearend': 8147, 'years': 8148, 'yellow': 8149, 'yemen': 8150, 'yen': 8151, 'yergin': 8152, 'yesterday': 8153, 'yet': 8154, 'yeterray': 8155, 'yield': 8156, 'yielded': 8157, 'yielding': 8158, 'yong': 8159, 'york': 8160, 'you': 8161, 'young': 8162, 'ypf': 8163, 'yugoslav': 8164, 'yugoslavia': 8165, 'yugoslavian': 8166, 'yukon': 8167, 'yumurtalik': 8168, 'zaid': 8169, 'zaki': 8170, 'zakum': 8171, 'zama': 8172, 'zero': 8173, 'zimbabwe': 8174, 'zinc': 8175, 'zoete': 8176, 'zollinger': 8177, 'zone': 8178, 'zones': 8179, 'zubedei': 8180, 'zubeidi': 8181, 'zuheir': 8182, 'zulia': 8183, 'zverev': 8184}\n"
     ]
    },
    {
     "name": "stdout",
     "output_type": "stream",
     "text": [
      "Running Truncated SVD over 8185 words...\n",
      "Done.\n"
     ]
    },
    {
     "data": {
      "image/png": "[encoded data removed]",
      "text/plain": [
       "<Figure size 720x360 with 1 Axes>"
      ]
     },
     "metadata": {
      "needs_background": "light"
     },
     "output_type": "display_data"
    }
   ],
   "source": [
    "# -----------------------------\n",
    "# Run This Cell to Produce Your Plot\n",
    "# ------------------------------\n",
    "reuters_corpus = read_corpus()\n",
    "M_co_occurrence, word2Ind_co_occurrence = compute_co_occurrence_matrix(reuters_corpus)\n",
    "M_reduced_co_occurrence = reduce_to_k_dim(M_co_occurrence, k=2)\n",
    "\n",
    "# Rescale (normalize) the rows to make them each of unit-length\n",
    "M_lengths = np.linalg.norm(M_reduced_co_occurrence, axis=1)\n",
    "M_normalized = M_reduced_co_occurrence / M_lengths[:, np.newaxis] # broadcasting\n",
    "\n",
    "words = ['barrels', 'bpd', 'ecuador', 'energy', 'industry', 'kuwait', 'oil', 'output', 'petroleum', 'venezuela']\n",
    "plot_embeddings(M_normalized, word2Ind_co_occurrence, words)"
   ]
  },
  {
   "cell_type": "markdown",
   "metadata": {},
   "source": [
    "What clusters together in 2-dimensional embedding space? What doesn't cluster together that you might think should have?  **Note:** \"bpd\" stands for \"barrels per day\" and is a commonly used abbreviation in crude oil topic articles."
   ]
  },
  {
   "cell_type": "markdown",
   "metadata": {},
   "source": [
    "#### <font color=\"red\">Write your answer here.</font>\n",
    "#### <font color=\"red\">Looks like most coocured and most used words are closer.</font>\n",
    "#### <font color=\"red\">1)kuwait bpd ; output petroleum oil ; barrels ecuador</font>\n",
    "#### <font color=\"red\">2)oil energy industry, oil barells bpd, venezuela ecuador </font>"
   ]
  },
  {
   "cell_type": "markdown",
   "metadata": {},
   "source": [
    "## Part 2: Prediction-Based Word Vectors (15 points)\n",
    "\n",
    "As discussed in class, more recently prediction-based word vectors have come into fashion, e.g. word2vec. Here, we shall explore the embeddings produced by word2vec. Please revisit the class notes and lecture slides for more details on the word2vec algorithm. If you're feeling adventurous, challenge yourself and try reading the [original paper](https://papers.nips.cc/paper/5021-distributed-representations-of-words-and-phrases-and-their-compositionality.pdf).\n",
    "\n",
    "Then run the following cells to load the word2vec vectors into memory. **Note**: This might take several minutes."
   ]
  },
  {
   "cell_type": "code",
   "execution_count": 15,
   "metadata": {},
   "outputs": [],
   "source": [
    "def load_word2vec():\n",
    "    \"\"\" Load Word2Vec Vectors\n",
    "        Return:\n",
    "            wv_from_bin: All 3 million embeddings, each lengh 300\n",
    "    \"\"\"\n",
    "    import gensim.downloader as api\n",
    "    wv_from_bin = api.load(\"word2vec-google-news-300\")\n",
    "    vocab = list(wv_from_bin.vocab.keys())\n",
    "    print(\"Loaded vocab size %i\" % len(vocab))\n",
    "    return wv_from_bin"
   ]
  },
  {
   "cell_type": "code",
   "execution_count": 16,
   "metadata": {},
   "outputs": [
    {
     "name": "stdout",
     "output_type": "stream",
     "text": [
      "Loaded vocab size 3000000\n"
     ]
    }
   ],
   "source": [
    "# -----------------------------------\n",
    "# Run Cell to Load Word Vectors\n",
    "# Note: This may take several minutes\n",
    "# -----------------------------------\n",
    "wv_from_bin = load_word2vec()"
   ]
  },
  {
   "cell_type": "markdown",
   "metadata": {},
   "source": [
    "**Note: If you are receiving out of memory issues on your local machine, try closing other applications to free more memory on your device. You may want to try restarting your machine so that you can free up extra memory. Then immediately run the jupyter notebook and see if you can load the word vectors properly.**"
   ]
  },
  {
   "cell_type": "markdown",
   "metadata": {},
   "source": [
    "### Reducing dimensionality of Word2Vec Word Embeddings\n",
    "Let's directly compare the word2vec embeddings to those of the co-occurrence matrix. Run the following cells to:\n",
    "\n",
    "1. Put the 3 million word2vec vectors into a matrix M\n",
    "2. Run reduce_to_k_dim (your Truncated SVD function) to reduce the vectors from 300-dimensional to 2-dimensional."
   ]
  },
  {
   "cell_type": "code",
   "execution_count": 17,
   "metadata": {},
   "outputs": [],
   "source": [
    "def get_matrix_of_vectors(wv_from_bin, required_words=['barrels', 'bpd', 'ecuador', 'energy', 'industry', 'kuwait', 'oil', 'output', 'petroleum', 'venezuela']):\n",
    "    \"\"\" Put the word2vec vectors into a matrix M.\n",
    "        Param:\n",
    "            wv_from_bin: KeyedVectors object; the 3 million word2vec vectors loaded from file\n",
    "        Return:\n",
    "            M: numpy matrix shape (num words, 300) containing the vectors\n",
    "            word2Ind: dictionary mapping each word to its row number in M\n",
    "    \"\"\"\n",
    "    import random\n",
    "    words = list(wv_from_bin.vocab.keys())\n",
    "    print(\"Shuffling words ...\")\n",
    "    random.shuffle(words)\n",
    "    words = words[:10000]\n",
    "    print(\"Putting %i words into word2Ind and matrix M...\" % len(words))\n",
    "    word2Ind = {}\n",
    "    M = []\n",
    "    curInd = 0\n",
    "    for w in words:\n",
    "        try:\n",
    "            M.append(wv_from_bin.word_vec(w))\n",
    "            word2Ind[w] = curInd\n",
    "            curInd += 1\n",
    "        except KeyError:\n",
    "            continue\n",
    "    for w in required_words:\n",
    "        try:\n",
    "            M.append(wv_from_bin.word_vec(w))\n",
    "            word2Ind[w] = curInd\n",
    "            curInd += 1\n",
    "        except KeyError:\n",
    "            continue\n",
    "    M = np.stack(M)\n",
    "    print(\"Done.\")\n",
    "    return M, word2Ind"
   ]
  },
  {
   "cell_type": "code",
   "execution_count": 18,
   "metadata": {},
   "outputs": [
    {
     "name": "stdout",
     "output_type": "stream",
     "text": [
      "Shuffling words ...\n",
      "Putting 10000 words into word2Ind and matrix M...\n",
      "Done.\n",
      "Running Truncated SVD over 10010 words...\n",
      "Done.\n"
     ]
    }
   ],
   "source": [
    "# -----------------------------------------------------------------\n",
    "# Run Cell to Reduce 300-Dimensinal Word Embeddings to k Dimensions\n",
    "# Note: This may take several minutes\n",
    "# -----------------------------------------------------------------\n",
    "M, word2Ind = get_matrix_of_vectors(wv_from_bin)\n",
    "M_reduced = reduce_to_k_dim(M, k=2)"
   ]
  },
  {
   "cell_type": "markdown",
   "metadata": {},
   "source": [
    "### Question 2.1: Word2Vec Plot Analysis [written] (4 points)\n",
    "\n",
    "Run the cell below to plot the 2D word2vec embeddings for `['barrels', 'bpd', 'ecuador', 'energy', 'industry', 'kuwait', 'oil', 'output', 'petroleum', 'venezuela']`."
   ]
  },
  {
   "cell_type": "code",
   "execution_count": 19,
   "metadata": {},
   "outputs": [
    {
     "data": {
      "image/png": "[encoded data removed]",
      "text/plain": [
       "<Figure size 720x360 with 1 Axes>"
      ]
     },
     "metadata": {
      "needs_background": "light"
     },
     "output_type": "display_data"
    }
   ],
   "source": [
    "words = ['barrels', 'bpd', 'ecuador', 'energy', 'industry', 'kuwait', 'oil', 'output', 'petroleum', 'venezuela']\n",
    "plot_embeddings(M_reduced, word2Ind, words)"
   ]
  },
  {
   "cell_type": "markdown",
   "metadata": {},
   "source": [
    "What clusters together in 2-dimensional embedding space? What doesn't cluster together that you might think should have? How is the plot different from the one generated earlier from the co-occurrence matrix?"
   ]
  },
  {
   "cell_type": "markdown",
   "metadata": {},
   "source": [
    "#### <font color=\"red\">Write your answer here.</font>\n",
    "#### <font color=\"red\">1)energy industry</font>\n",
    "#### <font color=\"red\">2)oil energy industry, oil barells bpd, venezuela ecuador </font>"
   ]
  },
  {
   "cell_type": "markdown",
   "metadata": {},
   "source": [
    "### Cosine Similarity\n",
    "Now that we have word vectors, we need a way to quantify the similarity between individual words, according to these vectors. One such metric is cosine-similarity. We will be using this to find words that are \"close\" and \"far\" from one another.\n",
    "\n",
    "We can think of n-dimensional vectors as points in n-dimensional space. If we take this perspective L1 and L2 Distances help quantify the amount of space \"we must travel\" to get between these two points. Another approach is to examine the angle between two vectors. From trigonometry we know that:\n",
    "\n",
    "<img src=\"imgs/inner_product.png\" width=20% style=\"float: center;\"></img>\n",
    "\n",
    "Instead of computing the actual angle, we can leave the similarity in terms of $similarity = cos(\\Theta)$. Formally the [Cosine Similarity](https://en.wikipedia.org/wiki/Cosine_similarity) $s$ between two vectors $p$ and $q$ is defined as:\n",
    "\n",
    "$$s = \\frac{p \\cdot q}{||p|| ||q||}, \\textrm{ where } s \\in [-1, 1] $$ "
   ]
  },
  {
   "cell_type": "markdown",
   "metadata": {},
   "source": [
    "### Question 2.2: Polysemous Words (2 points) [code + written] \n",
    "Find a [polysemous](https://en.wikipedia.org/wiki/Polysemy) word (for example, \"leaves\" or \"scoop\") such that the top-10 most similar words (according to cosine similarity) contains related words from *both* meanings. For example, \"leaves\" has both \"vanishes\" and \"stalks\" in the top 10, and \"scoop\" has both \"handed_waffle_cone\" and \"lowdown\". You will probably need to try several polysemous words before you find one. Please state the polysemous word you discover and the multiple meanings that occur in the top 10. Why do you think many of the polysemous words you tried didn't work?\n",
    "\n",
    "**Note**: You should use the `wv_from_bin.most_similar(word)` function to get the top 10 similar words. This function ranks all other words in the vocabulary with respect to their cosine similarity to the given word. For further assistance please check the __[GenSim documentation](https://radimrehurek.com/gensim/models/keyedvectors.html#gensim.models.keyedvectors.FastTextKeyedVectors.most_similar)__."
   ]
  },
  {
   "cell_type": "code",
   "execution_count": null,
   "metadata": {},
   "outputs": [],
   "source": [
    "# ------------------\n",
    "# Write your polysemous word exploration code here.\n",
    "\n",
    "print(wv_from_bin.most_similar([\"woman\"]))\n",
    "print('------------------')\n",
    "print(wv_from_bin.most_similar(['king']))\n",
    "print('------------------')\n",
    "print(wv_from_bin.most_similar(['queen']))\n",
    "print('------------------')\n",
    "print(wv_from_bin.most_similar(['woman', 'king', 'queen']))\n",
    "\n",
    "# ------------------"
   ]
  },
  {
   "cell_type": "markdown",
   "metadata": {},
   "source": [
    "#### <font color=\"red\">Write your answer here.</font>\n",
    "#### <font color=\"red\">Maybe because most of polysemous are rare or not in use in common context.</font>"
   ]
  },
  {
   "cell_type": "markdown",
   "metadata": {},
   "source": [
    "### Question 2.3: Synonyms & Antonyms (2 points) [code + written] \n",
    "\n",
    "When considering Cosine Similarity, it's often more convenient to think of Cosine Distance, which is simply 1 - Cosine Similarity.\n",
    "\n",
    "Find three words (w1,w2,w3) where w1 and w2 are synonyms and w1 and w3 are antonyms, but Cosine Distance(w1,w3) < Cosine Distance(w1,w2). For example, w1=\"happy\" is closer to w3=\"sad\" than to w2=\"cheerful\". \n",
    "\n",
    "Once you have found your example, please give a possible explanation for why this counter-intuitive result may have happened.\n",
    "\n",
    "You should use the the `wv_from_bin.distance(w1, w2)` function here in order to compute the cosine distance between two words. Please see the __[GenSim documentation](https://radimrehurek.com/gensim/models/keyedvectors.html#gensim.models.keyedvectors.FastTextKeyedVectors.distance)__ for further assistance."
   ]
  },
  {
   "cell_type": "code",
   "execution_count": 20,
   "metadata": {},
   "outputs": [
    {
     "name": "stdout",
     "output_type": "stream",
     "text": [
      "Synonyms easy, basic have cosine distance: 0.7613743543624878\n",
      "Antonyms easy, hard have cosine distance: 0.5290367007255554\n"
     ]
    }
   ],
   "source": [
    "# ------------------\n",
    "# Write your synonym & antonym exploration code here.\n",
    "\n",
    "w1 = \"easy\"\n",
    "w2 = \"basic\"\n",
    "w3 = \"hard\"\n",
    "w1_w2_dist = wv_from_bin.distance(w1, w2)\n",
    "w1_w3_dist = wv_from_bin.distance(w1, w3)\n",
    "\n",
    "print(\"Synonyms {}, {} have cosine distance: {}\".format(w1, w2, w1_w2_dist))\n",
    "print(\"Antonyms {}, {} have cosine distance: {}\".format(w1, w3, w1_w3_dist))\n",
    "\n",
    "# ------------------"
   ]
  },
  {
   "cell_type": "markdown",
   "metadata": {},
   "source": [
    "#### <font color=\"red\">Write your answer here.</font>\n",
    "\n",
    "#### <font color=\"red\">Word2vec does not capture similarity based on antonyms and synonyms. Basicly antonyms have higher chanse to be used in the same context.This concept is called Paradigmatic relations.</font>"
   ]
  },
  {
   "cell_type": "markdown",
   "metadata": {},
   "source": [
    "### Solving Analogies with Word Vectors\n",
    "Word2Vec vectors have been shown to *sometimes* exhibit the ability to solve analogies. \n",
    "\n",
    "As an example, for the analogy \"man : king :: woman : x\", what is x?\n",
    "\n",
    "In the cell below, we show you how to use word vectors to find x. The `most_similar` function finds words that are most similar to the words in the `positive` list and most dissimilar from the words in the `negative` list. The answer to the analogy will be the word ranked most similar (largest numerical value).\n",
    "\n",
    "**Note:** Further Documentation on the `most_similar` function can be found within the __[GenSim documentation](https://radimrehurek.com/gensim/models/keyedvectors.html#gensim.models.keyedvectors.FastTextKeyedVectors.most_similar)__."
   ]
  },
  {
   "cell_type": "code",
   "execution_count": null,
   "metadata": {},
   "outputs": [],
   "source": [
    "# Run this cell to answer the analogy -- man : king :: woman : x\n",
    "pprint.pprint(wv_from_bin.most_similar(positive=['woman', 'king'], negative=['man']))"
   ]
  },
  {
   "cell_type": "markdown",
   "metadata": {},
   "source": [
    "### Question 2.4: Finding Analogies [code + written]  (2 Points)\n",
    "Find an example of analogy that holds according to these vectors (i.e. the intended word is ranked top). In your solution please state the full analogy in the form x:y :: a:b. If you believe the analogy is complicated, explain why the analogy holds in one or two sentences.\n",
    "\n",
    "**Note**: You may have to try many analogies to find one that works!"
   ]
  },
  {
   "cell_type": "code",
   "execution_count": 1,
   "metadata": {},
   "outputs": [
    {
     "ename": "NameError",
     "evalue": "name 'pprint' is not defined",
     "output_type": "error",
     "traceback": [
      "\u001b[0;31m---------------------------------------------------------------------------\u001b[0m",
      "\u001b[0;31mNameError\u001b[0m                                 Traceback (most recent call last)",
      "\u001b[0;32m<ipython-input-1-7be28daa7394>\u001b[0m in \u001b[0;36m<module>\u001b[0;34m\u001b[0m\n\u001b[1;32m      2\u001b[0m \u001b[0;31m# Write your analogy exploration code here.\u001b[0m\u001b[0;34m\u001b[0m\u001b[0;34m\u001b[0m\u001b[0;34m\u001b[0m\u001b[0m\n\u001b[1;32m      3\u001b[0m \u001b[0;34m\u001b[0m\u001b[0m\n\u001b[0;32m----> 4\u001b[0;31m \u001b[0mpprint\u001b[0m\u001b[0;34m.\u001b[0m\u001b[0mpprint\u001b[0m\u001b[0;34m(\u001b[0m\u001b[0mwv_from_bin\u001b[0m\u001b[0;34m.\u001b[0m\u001b[0mmost_similar\u001b[0m\u001b[0;34m(\u001b[0m\u001b[0mpositive\u001b[0m\u001b[0;34m=\u001b[0m\u001b[0;34m[\u001b[0m\u001b[0;34m'moscow'\u001b[0m\u001b[0;34m,\u001b[0m \u001b[0;34m'america'\u001b[0m\u001b[0;34m]\u001b[0m\u001b[0;34m,\u001b[0m \u001b[0mnegative\u001b[0m\u001b[0;34m=\u001b[0m\u001b[0;34m[\u001b[0m\u001b[0;34m'washington'\u001b[0m\u001b[0;34m]\u001b[0m\u001b[0;34m)\u001b[0m\u001b[0;34m)\u001b[0m\u001b[0;34m\u001b[0m\u001b[0;34m\u001b[0m\u001b[0m\n\u001b[0m\u001b[1;32m      5\u001b[0m \u001b[0;31m# washington : america :: moscow : Russia\u001b[0m\u001b[0;34m\u001b[0m\u001b[0;34m\u001b[0m\u001b[0;34m\u001b[0m\u001b[0m\n\u001b[1;32m      6\u001b[0m \u001b[0;31m# ------------------\u001b[0m\u001b[0;34m\u001b[0m\u001b[0;34m\u001b[0m\u001b[0;34m\u001b[0m\u001b[0m\n",
      "\u001b[0;31mNameError\u001b[0m: name 'pprint' is not defined"
     ]
    }
   ],
   "source": [
    "# ------------------\n",
    "# Write your analogy exploration code here.\n",
    "\n",
    "pprint.pprint(wv_from_bin.most_similar(positive=['moscow', 'america'], negative=['washington']))\n",
    "# washington : america :: moscow : Russia\n",
    "# ------------------"
   ]
  },
  {
   "cell_type": "markdown",
   "metadata": {},
   "source": [
    "#### <font color=\"red\">Write your answer here.</font>\n",
    "#### <font color=\"red\">Because the capitals name are mostly used in a pair with its country</font>"
   ]
  },
  {
   "cell_type": "markdown",
   "metadata": {},
   "source": [
    "### Question 2.5: Incorrect Analogy [code + written] (1 point)\n",
    "Find an example of analogy that does *not* hold according to these vectors. In your solution, state the intended analogy in the form x:y :: a:b, and state the (incorrect) value of b according to the word vectors."
   ]
  },
  {
   "cell_type": "code",
   "execution_count": null,
   "metadata": {},
   "outputs": [],
   "source": [
    "# ------------------\n",
    "# Write your incorrect analogy exploration code here.\n",
    "\n",
    "pprint.pprint(wv_from_bin.most_similar(positive=['america', 'russia'], negative=['msu']))\n",
    "# msu : russia :: mit : america\n",
    "# msu : russia :: europe : america\n",
    "# ------------------"
   ]
  },
  {
   "cell_type": "markdown",
   "metadata": {},
   "source": [
    "#### <font color=\"red\">Write your answer here.</font>"
   ]
  },
  {
   "cell_type": "markdown",
   "metadata": {},
   "source": [
    "### Question 2.6: Guided Analysis of Bias in Word Vectors [written] (1 point)\n",
    "\n",
    "It's important to be cognizant of the biases (gender, race, sexual orientation etc.) implicit to our word embeddings.\n",
    "\n",
    "Run the cell below, to examine (a) which terms are most similar to \"woman\" and \"boss\" and most dissimilar to \"man\", and (b) which terms are most similar to \"man\" and \"boss\" and most dissimilar to \"woman\". What do you find in the top 10?"
   ]
  },
  {
   "cell_type": "code",
   "execution_count": null,
   "metadata": {},
   "outputs": [],
   "source": [
    "# Run this cell\n",
    "# Here `positive` indicates the list of words to be similar to and `negative` indicates the list of words to be\n",
    "# most dissimilar from.\n",
    "pprint.pprint(wv_from_bin.most_similar(positive=['woman', 'boss'], negative=['man']))\n",
    "print()\n",
    "pprint.pprint(wv_from_bin.most_similar(positive=['man', 'boss'], negative=['woman']))"
   ]
  },
  {
   "cell_type": "markdown",
   "metadata": {},
   "source": [
    "#### <font color=\"red\">Write your answer here.</font>\n",
    "#### <font color=\"red\">a) bosses manageress</font>\n",
    "#### <font color=\"red\">b) receptionist</font>\n",
    "#### <font color=\"red\">c) BARNSLEY_boss</font>"
   ]
  },
  {
   "cell_type": "markdown",
   "metadata": {},
   "source": [
    "### Question 2.7: Independent Analysis of Bias in Word Vectors [code + written]  (2 points)\n",
    "\n",
    "Use the `most_similar` function to find another case where some bias is exhibited by the vectors. Please briefly explain the example of bias that you discover."
   ]
  },
  {
   "cell_type": "code",
   "execution_count": null,
   "metadata": {},
   "outputs": [],
   "source": [
    "# ------------------\n",
    "# Write your bias exploration code here.\n",
    "\n",
    "pprint.pprint(wv_from_bin.most_similar(positive=['university', 'man'], negative=['woman'])\n",
    "print()\n",
    "pprint.pprint(wv_from_bin.most_similar(positive=['university', 'man'], negative=['woman']))\n",
    "\n",
    "# ------------------"
   ]
  },
  {
   "cell_type": "markdown",
   "metadata": {},
   "source": [
    "#### <font color=\"red\">Write your answer here.</font>\n",
    "#### <font color=\"red\">Write your answer here.</font>"
   ]
  },
  {
   "cell_type": "markdown",
   "metadata": {},
   "source": [
    "### Question 2.8: Thinking About Bias [written] (1 point)\n",
    "\n",
    "What might be the cause of these biases in the word vectors?"
   ]
  },
  {
   "cell_type": "markdown",
   "metadata": {},
   "source": [
    "#### <font color=\"red\">Write your answer here.</font>\n",
    "\n",
    "#### <font color=\"red\">**gender unequality**</font>"
   ]
  },
  {
   "cell_type": "code",
   "execution_count": null,
   "metadata": {},
   "outputs": [],
   "source": []
  }
 ],
 "metadata": {
  "anaconda-cloud": {},
  "kernelspec": {
   "display_name": "Python (new)",
   "language": "python",
   "name": "new"
  },
  "language_info": {
   "codemirror_mode": {
    "name": "ipython",
    "version": 3
   },
   "file_extension": ".py",
   "mimetype": "text/x-python",
   "name": "python",
   "nbconvert_exporter": "python",
   "pygments_lexer": "ipython3",
   "version": "3.7.5"
  }
 },
 "nbformat": 4,
 "nbformat_minor": 2
}
